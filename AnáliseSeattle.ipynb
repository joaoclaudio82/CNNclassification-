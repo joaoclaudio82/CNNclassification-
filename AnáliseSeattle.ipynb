{
  "nbformat": 4,
  "nbformat_minor": 0,
  "metadata": {
    "colab": {
      "name": "AnáliseSeattle.ipynb",
      "provenance": [],
      "authorship_tag": "ABX9TyNzuwAPC9TxOTAzct5lCcu6",
      "include_colab_link": true
    },
    "kernelspec": {
      "name": "python3",
      "display_name": "Python 3"
    },
    "language_info": {
      "name": "python"
    }
  },
  "cells": [
    {
      "cell_type": "markdown",
      "metadata": {
        "id": "view-in-github",
        "colab_type": "text"
      },
      "source": [
        "<a href=\"https://colab.research.google.com/github/joaoclaudio82/CNNclassification-/blob/main/An%C3%A1liseSeattle.ipynb\" target=\"_parent\"><img src=\"https://colab.research.google.com/assets/colab-badge.svg\" alt=\"Open In Colab\"/></a>"
      ]
    },
    {
      "cell_type": "markdown",
      "source": [
        "# Iremos iniciar nosso trabalho realizando uma análise exploratória de dados"
      ],
      "metadata": {
        "id": "yJdFq6UXAs8s"
      }
    },
    {
      "cell_type": "markdown",
      "source": [
        "## Passo 1: Vamos iniciar o trabalho, importando as bibliotecas necessárias"
      ],
      "metadata": {
        "id": "n0Nm6tOW-WVz"
      }
    },
    {
      "cell_type": "code",
      "execution_count": 331,
      "metadata": {
        "id": "4xOWzWgt-VRs"
      },
      "outputs": [],
      "source": [
        "import numpy as np\n",
        "import pandas as pd \n",
        "from sklearn.model_selection import train_test_split\n",
        "from sklearn import linear_model\n",
        "from sklearn.preprocessing import PolynomialFeatures\n",
        "from sklearn import metrics\n",
        "from sklearn.preprocessing import OneHotEncoder\n",
        "from sklearn.preprocessing import StandardScaler\n",
        "import seaborn as sns\n",
        "import matplotlib.pyplot as plt\n",
        "from sklearn.svm import SVC\n",
        "from sklearn.metrics import ConfusionMatrixDisplay\n",
        "from imblearn import over_sampling\n",
        "from imblearn import under_sampling\n",
        "from sklearn.linear_model import LogisticRegression"
      ]
    },
    {
      "cell_type": "code",
      "source": [
        "dados = pd.read_csv('Use_Of_Force.csv')"
      ],
      "metadata": {
        "id": "dV_ZmIjm-V22"
      },
      "execution_count": 332,
      "outputs": []
    },
    {
      "cell_type": "markdown",
      "source": [
        "## Passo 2: Vamos verificar o tamanho, o cabeçalho e realizar uma análise exploratória de nosso dataset"
      ],
      "metadata": {
        "id": "w7YnQH83-gk4"
      }
    },
    {
      "cell_type": "code",
      "source": [
        "dados.shape"
      ],
      "metadata": {
        "colab": {
          "base_uri": "https://localhost:8080/",
          "height": 0
        },
        "id": "CMZJaijE-4dg",
        "outputId": "60863592-3a5b-4d3b-9335-acc979a5e7f8"
      },
      "execution_count": 333,
      "outputs": [
        {
          "output_type": "execute_result",
          "data": {
            "text/plain": [
              "(14264, 11)"
            ]
          },
          "metadata": {},
          "execution_count": 333
        }
      ]
    },
    {
      "cell_type": "markdown",
      "source": [
        "Temos 14264 linhas e 11 colunas em nosso dataset\n",
        "\n"
      ],
      "metadata": {
        "id": "15QZSdLu_N-P"
      }
    },
    {
      "cell_type": "code",
      "source": [
        "dados.info()"
      ],
      "metadata": {
        "colab": {
          "base_uri": "https://localhost:8080/",
          "height": 0
        },
        "id": "7dXZCsNk_teS",
        "outputId": "150b990a-5130-487c-df08-b35e895e834a"
      },
      "execution_count": 334,
      "outputs": [
        {
          "output_type": "stream",
          "name": "stdout",
          "text": [
            "<class 'pandas.core.frame.DataFrame'>\n",
            "RangeIndex: 14264 entries, 0 to 14263\n",
            "Data columns (total 11 columns):\n",
            " #   Column             Non-Null Count  Dtype \n",
            "---  ------             --------------  ----- \n",
            " 0   ID                 14264 non-null  object\n",
            " 1   Incident_Num       14264 non-null  int64 \n",
            " 2   Incident_Type      14264 non-null  object\n",
            " 3   Occured_date_time  14264 non-null  object\n",
            " 4   Precinct           14264 non-null  object\n",
            " 5   Sector             13313 non-null  object\n",
            " 6   Beat               14264 non-null  object\n",
            " 7   Officer_ID         14264 non-null  int64 \n",
            " 8   Subject_ID         14264 non-null  int64 \n",
            " 9   Subject_Race       14264 non-null  object\n",
            " 10  Subject_Gender     14264 non-null  object\n",
            "dtypes: int64(3), object(8)\n",
            "memory usage: 1.2+ MB\n"
          ]
        }
      ]
    },
    {
      "cell_type": "code",
      "source": [
        "dados.head()"
      ],
      "metadata": {
        "colab": {
          "base_uri": "https://localhost:8080/",
          "height": 337
        },
        "id": "nMog3lNo-66P",
        "outputId": "ae07a4ef-e9cf-4889-b260-4c46ecce6314"
      },
      "execution_count": 335,
      "outputs": [
        {
          "output_type": "execute_result",
          "data": {
            "text/plain": [
              "                      ID  Incident_Num           Incident_Type  \\\n",
              "0  2014UOF-0001-1377-203           251  Level 1 - Use of Force   \n",
              "1  2014UOF-0002-1098-166           218  Level 1 - Use of Force   \n",
              "2  2014UOF-0003-1031-125           178  Level 1 - Use of Force   \n",
              "3   2014UOF-0004-767-126           179  Level 1 - Use of Force   \n",
              "4  2014UOF-0005-1473-172           223  Level 1 - Use of Force   \n",
              "\n",
              "        Occured_date_time Precinct   Sector Beat  Officer_ID  Subject_ID  \\\n",
              "0  06/07/2014 12:09:00 AM     East  CHARLIE   C2        1594         203   \n",
              "1  05/30/2014 02:06:00 PM     East   GEORGE   G1        1673         166   \n",
              "2  05/23/2014 05:24:00 PM     West     KING   K3        1690         125   \n",
              "3  05/26/2014 12:10:00 AM     East   EDWARD   E2         953         126   \n",
              "4  06/01/2014 04:03:00 PM    South   ROBERT   R1        1145         172   \n",
              "\n",
              "                Subject_Race Subject_Gender  \n",
              "0  Black or African American           Male  \n",
              "1                      White           Male  \n",
              "2                      Asian         Female  \n",
              "3  Black or African American           Male  \n",
              "4  Black or African American           Male  "
            ],
            "text/html": [
              "\n",
              "  <div id=\"df-3ad067b1-cd52-47dc-9ee2-ebe331425a59\">\n",
              "    <div class=\"colab-df-container\">\n",
              "      <div>\n",
              "<style scoped>\n",
              "    .dataframe tbody tr th:only-of-type {\n",
              "        vertical-align: middle;\n",
              "    }\n",
              "\n",
              "    .dataframe tbody tr th {\n",
              "        vertical-align: top;\n",
              "    }\n",
              "\n",
              "    .dataframe thead th {\n",
              "        text-align: right;\n",
              "    }\n",
              "</style>\n",
              "<table border=\"1\" class=\"dataframe\">\n",
              "  <thead>\n",
              "    <tr style=\"text-align: right;\">\n",
              "      <th></th>\n",
              "      <th>ID</th>\n",
              "      <th>Incident_Num</th>\n",
              "      <th>Incident_Type</th>\n",
              "      <th>Occured_date_time</th>\n",
              "      <th>Precinct</th>\n",
              "      <th>Sector</th>\n",
              "      <th>Beat</th>\n",
              "      <th>Officer_ID</th>\n",
              "      <th>Subject_ID</th>\n",
              "      <th>Subject_Race</th>\n",
              "      <th>Subject_Gender</th>\n",
              "    </tr>\n",
              "  </thead>\n",
              "  <tbody>\n",
              "    <tr>\n",
              "      <th>0</th>\n",
              "      <td>2014UOF-0001-1377-203</td>\n",
              "      <td>251</td>\n",
              "      <td>Level 1 - Use of Force</td>\n",
              "      <td>06/07/2014 12:09:00 AM</td>\n",
              "      <td>East</td>\n",
              "      <td>CHARLIE</td>\n",
              "      <td>C2</td>\n",
              "      <td>1594</td>\n",
              "      <td>203</td>\n",
              "      <td>Black or African American</td>\n",
              "      <td>Male</td>\n",
              "    </tr>\n",
              "    <tr>\n",
              "      <th>1</th>\n",
              "      <td>2014UOF-0002-1098-166</td>\n",
              "      <td>218</td>\n",
              "      <td>Level 1 - Use of Force</td>\n",
              "      <td>05/30/2014 02:06:00 PM</td>\n",
              "      <td>East</td>\n",
              "      <td>GEORGE</td>\n",
              "      <td>G1</td>\n",
              "      <td>1673</td>\n",
              "      <td>166</td>\n",
              "      <td>White</td>\n",
              "      <td>Male</td>\n",
              "    </tr>\n",
              "    <tr>\n",
              "      <th>2</th>\n",
              "      <td>2014UOF-0003-1031-125</td>\n",
              "      <td>178</td>\n",
              "      <td>Level 1 - Use of Force</td>\n",
              "      <td>05/23/2014 05:24:00 PM</td>\n",
              "      <td>West</td>\n",
              "      <td>KING</td>\n",
              "      <td>K3</td>\n",
              "      <td>1690</td>\n",
              "      <td>125</td>\n",
              "      <td>Asian</td>\n",
              "      <td>Female</td>\n",
              "    </tr>\n",
              "    <tr>\n",
              "      <th>3</th>\n",
              "      <td>2014UOF-0004-767-126</td>\n",
              "      <td>179</td>\n",
              "      <td>Level 1 - Use of Force</td>\n",
              "      <td>05/26/2014 12:10:00 AM</td>\n",
              "      <td>East</td>\n",
              "      <td>EDWARD</td>\n",
              "      <td>E2</td>\n",
              "      <td>953</td>\n",
              "      <td>126</td>\n",
              "      <td>Black or African American</td>\n",
              "      <td>Male</td>\n",
              "    </tr>\n",
              "    <tr>\n",
              "      <th>4</th>\n",
              "      <td>2014UOF-0005-1473-172</td>\n",
              "      <td>223</td>\n",
              "      <td>Level 1 - Use of Force</td>\n",
              "      <td>06/01/2014 04:03:00 PM</td>\n",
              "      <td>South</td>\n",
              "      <td>ROBERT</td>\n",
              "      <td>R1</td>\n",
              "      <td>1145</td>\n",
              "      <td>172</td>\n",
              "      <td>Black or African American</td>\n",
              "      <td>Male</td>\n",
              "    </tr>\n",
              "  </tbody>\n",
              "</table>\n",
              "</div>\n",
              "      <button class=\"colab-df-convert\" onclick=\"convertToInteractive('df-3ad067b1-cd52-47dc-9ee2-ebe331425a59')\"\n",
              "              title=\"Convert this dataframe to an interactive table.\"\n",
              "              style=\"display:none;\">\n",
              "        \n",
              "  <svg xmlns=\"http://www.w3.org/2000/svg\" height=\"24px\"viewBox=\"0 0 24 24\"\n",
              "       width=\"24px\">\n",
              "    <path d=\"M0 0h24v24H0V0z\" fill=\"none\"/>\n",
              "    <path d=\"M18.56 5.44l.94 2.06.94-2.06 2.06-.94-2.06-.94-.94-2.06-.94 2.06-2.06.94zm-11 1L8.5 8.5l.94-2.06 2.06-.94-2.06-.94L8.5 2.5l-.94 2.06-2.06.94zm10 10l.94 2.06.94-2.06 2.06-.94-2.06-.94-.94-2.06-.94 2.06-2.06.94z\"/><path d=\"M17.41 7.96l-1.37-1.37c-.4-.4-.92-.59-1.43-.59-.52 0-1.04.2-1.43.59L10.3 9.45l-7.72 7.72c-.78.78-.78 2.05 0 2.83L4 21.41c.39.39.9.59 1.41.59.51 0 1.02-.2 1.41-.59l7.78-7.78 2.81-2.81c.8-.78.8-2.07 0-2.86zM5.41 20L4 18.59l7.72-7.72 1.47 1.35L5.41 20z\"/>\n",
              "  </svg>\n",
              "      </button>\n",
              "      \n",
              "  <style>\n",
              "    .colab-df-container {\n",
              "      display:flex;\n",
              "      flex-wrap:wrap;\n",
              "      gap: 12px;\n",
              "    }\n",
              "\n",
              "    .colab-df-convert {\n",
              "      background-color: #E8F0FE;\n",
              "      border: none;\n",
              "      border-radius: 50%;\n",
              "      cursor: pointer;\n",
              "      display: none;\n",
              "      fill: #1967D2;\n",
              "      height: 32px;\n",
              "      padding: 0 0 0 0;\n",
              "      width: 32px;\n",
              "    }\n",
              "\n",
              "    .colab-df-convert:hover {\n",
              "      background-color: #E2EBFA;\n",
              "      box-shadow: 0px 1px 2px rgba(60, 64, 67, 0.3), 0px 1px 3px 1px rgba(60, 64, 67, 0.15);\n",
              "      fill: #174EA6;\n",
              "    }\n",
              "\n",
              "    [theme=dark] .colab-df-convert {\n",
              "      background-color: #3B4455;\n",
              "      fill: #D2E3FC;\n",
              "    }\n",
              "\n",
              "    [theme=dark] .colab-df-convert:hover {\n",
              "      background-color: #434B5C;\n",
              "      box-shadow: 0px 1px 3px 1px rgba(0, 0, 0, 0.15);\n",
              "      filter: drop-shadow(0px 1px 2px rgba(0, 0, 0, 0.3));\n",
              "      fill: #FFFFFF;\n",
              "    }\n",
              "  </style>\n",
              "\n",
              "      <script>\n",
              "        const buttonEl =\n",
              "          document.querySelector('#df-3ad067b1-cd52-47dc-9ee2-ebe331425a59 button.colab-df-convert');\n",
              "        buttonEl.style.display =\n",
              "          google.colab.kernel.accessAllowed ? 'block' : 'none';\n",
              "\n",
              "        async function convertToInteractive(key) {\n",
              "          const element = document.querySelector('#df-3ad067b1-cd52-47dc-9ee2-ebe331425a59');\n",
              "          const dataTable =\n",
              "            await google.colab.kernel.invokeFunction('convertToInteractive',\n",
              "                                                     [key], {});\n",
              "          if (!dataTable) return;\n",
              "\n",
              "          const docLinkHtml = 'Like what you see? Visit the ' +\n",
              "            '<a target=\"_blank\" href=https://colab.research.google.com/notebooks/data_table.ipynb>data table notebook</a>'\n",
              "            + ' to learn more about interactive tables.';\n",
              "          element.innerHTML = '';\n",
              "          dataTable['output_type'] = 'display_data';\n",
              "          await google.colab.output.renderOutput(dataTable, element);\n",
              "          const docLink = document.createElement('div');\n",
              "          docLink.innerHTML = docLinkHtml;\n",
              "          element.appendChild(docLink);\n",
              "        }\n",
              "      </script>\n",
              "    </div>\n",
              "  </div>\n",
              "  "
            ]
          },
          "metadata": {},
          "execution_count": 335
        }
      ]
    },
    {
      "cell_type": "markdown",
      "source": [
        "Podemos converter aqui a coluna Occured_date_time para o formato de \"datetime\""
      ],
      "metadata": {
        "id": "ICGPTwcy_1GJ"
      }
    },
    {
      "cell_type": "code",
      "source": [
        "dados['Occured_date_time'] = pd.to_datetime(dados['Occured_date_time'])"
      ],
      "metadata": {
        "id": "tQpmgT_T_0sm"
      },
      "execution_count": 336,
      "outputs": []
    },
    {
      "cell_type": "code",
      "source": [
        "dados['Incident_Type'].value_counts()"
      ],
      "metadata": {
        "colab": {
          "base_uri": "https://localhost:8080/",
          "height": 0
        },
        "id": "RzCTmww0_ZvB",
        "outputId": "72647226-d2b6-49e1-8ea2-77239080ac63"
      },
      "execution_count": 337,
      "outputs": [
        {
          "output_type": "execute_result",
          "data": {
            "text/plain": [
              "Level 1 - Use of Force    10173\n",
              "Level 2 - Use of Force     3856\n",
              "Level 3 - Use of Force      128\n",
              "Level 3 - OIS               107\n",
              "Name: Incident_Type, dtype: int64"
            ]
          },
          "metadata": {},
          "execution_count": 337
        }
      ]
    },
    {
      "cell_type": "markdown",
      "source": [
        "Já percebemos aqui que temos 4 níveis de força empregada pela Polícia da cidade de Seattle\n"
      ],
      "metadata": {
        "id": "7f-fZS_Q_d10"
      }
    },
    {
      "cell_type": "markdown",
      "source": [
        "## Passo 3: Vamos agora fazer uma análise dos dados faltantes em nosso dataset"
      ],
      "metadata": {
        "id": "QVZGkW8V_n93"
      }
    },
    {
      "cell_type": "code",
      "source": [
        "for var in dados:\n",
        "    print(var)\n",
        "    print('Nesta coluna existem', sum(dados[var].isna()),  'valores faltantes.', '\\n')"
      ],
      "metadata": {
        "colab": {
          "base_uri": "https://localhost:8080/",
          "height": 0
        },
        "id": "4Zug1vA7A7lC",
        "outputId": "1712ac35-618a-4af7-e490-34925b1b5816"
      },
      "execution_count": 338,
      "outputs": [
        {
          "output_type": "stream",
          "name": "stdout",
          "text": [
            "ID\n",
            "Nesta coluna existem 0 valores faltantes. \n",
            "\n",
            "Incident_Num\n",
            "Nesta coluna existem 0 valores faltantes. \n",
            "\n",
            "Incident_Type\n",
            "Nesta coluna existem 0 valores faltantes. \n",
            "\n",
            "Occured_date_time\n",
            "Nesta coluna existem 0 valores faltantes. \n",
            "\n",
            "Precinct\n",
            "Nesta coluna existem 0 valores faltantes. \n",
            "\n",
            "Sector\n",
            "Nesta coluna existem 951 valores faltantes. \n",
            "\n",
            "Beat\n",
            "Nesta coluna existem 0 valores faltantes. \n",
            "\n",
            "Officer_ID\n",
            "Nesta coluna existem 0 valores faltantes. \n",
            "\n",
            "Subject_ID\n",
            "Nesta coluna existem 0 valores faltantes. \n",
            "\n",
            "Subject_Race\n",
            "Nesta coluna existem 0 valores faltantes. \n",
            "\n",
            "Subject_Gender\n",
            "Nesta coluna existem 0 valores faltantes. \n",
            "\n"
          ]
        }
      ]
    },
    {
      "cell_type": "markdown",
      "source": [
        "## Passo 4: Verificação de dados duplicados"
      ],
      "metadata": {
        "id": "E_ePUnlNHhFA"
      }
    },
    {
      "cell_type": "code",
      "source": [
        "dados[dados.duplicated()]"
      ],
      "metadata": {
        "colab": {
          "base_uri": "https://localhost:8080/",
          "height": 49
        },
        "id": "UnjA1IrrCflz",
        "outputId": "cdcb35ec-fa4a-407c-aa09-d53f1aac8272"
      },
      "execution_count": 339,
      "outputs": [
        {
          "output_type": "execute_result",
          "data": {
            "text/plain": [
              "Empty DataFrame\n",
              "Columns: [ID, Incident_Num, Incident_Type, Occured_date_time, Precinct, Sector, Beat, Officer_ID, Subject_ID, Subject_Race, Subject_Gender]\n",
              "Index: []"
            ],
            "text/html": [
              "\n",
              "  <div id=\"df-9375b833-d8ae-4194-945b-76c18ac6d579\">\n",
              "    <div class=\"colab-df-container\">\n",
              "      <div>\n",
              "<style scoped>\n",
              "    .dataframe tbody tr th:only-of-type {\n",
              "        vertical-align: middle;\n",
              "    }\n",
              "\n",
              "    .dataframe tbody tr th {\n",
              "        vertical-align: top;\n",
              "    }\n",
              "\n",
              "    .dataframe thead th {\n",
              "        text-align: right;\n",
              "    }\n",
              "</style>\n",
              "<table border=\"1\" class=\"dataframe\">\n",
              "  <thead>\n",
              "    <tr style=\"text-align: right;\">\n",
              "      <th></th>\n",
              "      <th>ID</th>\n",
              "      <th>Incident_Num</th>\n",
              "      <th>Incident_Type</th>\n",
              "      <th>Occured_date_time</th>\n",
              "      <th>Precinct</th>\n",
              "      <th>Sector</th>\n",
              "      <th>Beat</th>\n",
              "      <th>Officer_ID</th>\n",
              "      <th>Subject_ID</th>\n",
              "      <th>Subject_Race</th>\n",
              "      <th>Subject_Gender</th>\n",
              "    </tr>\n",
              "  </thead>\n",
              "  <tbody>\n",
              "  </tbody>\n",
              "</table>\n",
              "</div>\n",
              "      <button class=\"colab-df-convert\" onclick=\"convertToInteractive('df-9375b833-d8ae-4194-945b-76c18ac6d579')\"\n",
              "              title=\"Convert this dataframe to an interactive table.\"\n",
              "              style=\"display:none;\">\n",
              "        \n",
              "  <svg xmlns=\"http://www.w3.org/2000/svg\" height=\"24px\"viewBox=\"0 0 24 24\"\n",
              "       width=\"24px\">\n",
              "    <path d=\"M0 0h24v24H0V0z\" fill=\"none\"/>\n",
              "    <path d=\"M18.56 5.44l.94 2.06.94-2.06 2.06-.94-2.06-.94-.94-2.06-.94 2.06-2.06.94zm-11 1L8.5 8.5l.94-2.06 2.06-.94-2.06-.94L8.5 2.5l-.94 2.06-2.06.94zm10 10l.94 2.06.94-2.06 2.06-.94-2.06-.94-.94-2.06-.94 2.06-2.06.94z\"/><path d=\"M17.41 7.96l-1.37-1.37c-.4-.4-.92-.59-1.43-.59-.52 0-1.04.2-1.43.59L10.3 9.45l-7.72 7.72c-.78.78-.78 2.05 0 2.83L4 21.41c.39.39.9.59 1.41.59.51 0 1.02-.2 1.41-.59l7.78-7.78 2.81-2.81c.8-.78.8-2.07 0-2.86zM5.41 20L4 18.59l7.72-7.72 1.47 1.35L5.41 20z\"/>\n",
              "  </svg>\n",
              "      </button>\n",
              "      \n",
              "  <style>\n",
              "    .colab-df-container {\n",
              "      display:flex;\n",
              "      flex-wrap:wrap;\n",
              "      gap: 12px;\n",
              "    }\n",
              "\n",
              "    .colab-df-convert {\n",
              "      background-color: #E8F0FE;\n",
              "      border: none;\n",
              "      border-radius: 50%;\n",
              "      cursor: pointer;\n",
              "      display: none;\n",
              "      fill: #1967D2;\n",
              "      height: 32px;\n",
              "      padding: 0 0 0 0;\n",
              "      width: 32px;\n",
              "    }\n",
              "\n",
              "    .colab-df-convert:hover {\n",
              "      background-color: #E2EBFA;\n",
              "      box-shadow: 0px 1px 2px rgba(60, 64, 67, 0.3), 0px 1px 3px 1px rgba(60, 64, 67, 0.15);\n",
              "      fill: #174EA6;\n",
              "    }\n",
              "\n",
              "    [theme=dark] .colab-df-convert {\n",
              "      background-color: #3B4455;\n",
              "      fill: #D2E3FC;\n",
              "    }\n",
              "\n",
              "    [theme=dark] .colab-df-convert:hover {\n",
              "      background-color: #434B5C;\n",
              "      box-shadow: 0px 1px 3px 1px rgba(0, 0, 0, 0.15);\n",
              "      filter: drop-shadow(0px 1px 2px rgba(0, 0, 0, 0.3));\n",
              "      fill: #FFFFFF;\n",
              "    }\n",
              "  </style>\n",
              "\n",
              "      <script>\n",
              "        const buttonEl =\n",
              "          document.querySelector('#df-9375b833-d8ae-4194-945b-76c18ac6d579 button.colab-df-convert');\n",
              "        buttonEl.style.display =\n",
              "          google.colab.kernel.accessAllowed ? 'block' : 'none';\n",
              "\n",
              "        async function convertToInteractive(key) {\n",
              "          const element = document.querySelector('#df-9375b833-d8ae-4194-945b-76c18ac6d579');\n",
              "          const dataTable =\n",
              "            await google.colab.kernel.invokeFunction('convertToInteractive',\n",
              "                                                     [key], {});\n",
              "          if (!dataTable) return;\n",
              "\n",
              "          const docLinkHtml = 'Like what you see? Visit the ' +\n",
              "            '<a target=\"_blank\" href=https://colab.research.google.com/notebooks/data_table.ipynb>data table notebook</a>'\n",
              "            + ' to learn more about interactive tables.';\n",
              "          element.innerHTML = '';\n",
              "          dataTable['output_type'] = 'display_data';\n",
              "          await google.colab.output.renderOutput(dataTable, element);\n",
              "          const docLink = document.createElement('div');\n",
              "          docLink.innerHTML = docLinkHtml;\n",
              "          element.appendChild(docLink);\n",
              "        }\n",
              "      </script>\n",
              "    </div>\n",
              "  </div>\n",
              "  "
            ]
          },
          "metadata": {},
          "execution_count": 339
        }
      ]
    },
    {
      "cell_type": "markdown",
      "metadata": {
        "id": "TVhKb5IdHXvR"
      },
      "source": [
        "## Passo 5: Verificação de variáveis com valores constantes\n",
        "\n"
      ]
    },
    {
      "cell_type": "code",
      "execution_count": 340,
      "metadata": {
        "scrolled": true,
        "id": "pSmdRXEHHXvR",
        "outputId": "9915683f-6c61-463c-cb67-d21249b74583",
        "colab": {
          "base_uri": "https://localhost:8080/",
          "height": 0
        }
      },
      "outputs": [
        {
          "output_type": "stream",
          "name": "stdout",
          "text": [
            "ID\n",
            "Nesta coluna existem 14264 valores únicos. \n",
            "\n",
            "Valores únicos: ['2014UOF-0001-1377-203' '2014UOF-0002-1098-166' '2014UOF-0003-1031-125'\n",
            " ... '2022UOF-0387-2614-15793' '2022UOF-0388-2670-15793'\n",
            " '2022UOF-0389-2739-8294'] \n",
            "\n",
            "Incident_Num\n",
            "Nesta coluna existem 13488 valores únicos. \n",
            "\n",
            "Valores únicos: [  251   218   178 ... 68032 68029 67659] \n",
            "\n",
            "Incident_Type\n",
            "Nesta coluna existem 4 valores únicos. \n",
            "\n",
            "Valores únicos: ['Level 1 - Use of Force' 'Level 2 - Use of Force'\n",
            " 'Level 3 - Use of Force' 'Level 3 - OIS'] \n",
            "\n",
            "Occured_date_time\n",
            "Nesta coluna existem 10699 valores únicos. \n",
            "\n",
            "Valores únicos: ['2014-06-07T00:09:00.000000000' '2014-05-30T14:06:00.000000000'\n",
            " '2014-05-23T17:24:00.000000000' ... '2022-05-24T20:51:00.000000000'\n",
            " '2022-05-24T20:52:00.000000000' '2022-04-19T21:02:00.000000000'] \n",
            "\n",
            "Precinct\n",
            "Nesta coluna existem 9 valores únicos. \n",
            "\n",
            "Valores únicos: ['East' 'West' 'South' 'North' 'Southwest' 'X' '-' '0' 'OOJ'] \n",
            "\n",
            "Sector\n",
            "Nesta coluna existem 18 valores únicos. \n",
            "\n",
            "Valores únicos: ['CHARLIE' 'GEORGE' 'KING' 'EDWARD' 'ROBERT' 'SAM' 'LINCOLN' 'UNION'\n",
            " 'DAVID' 'FRANK' 'JOHN' 'NORA' nan 'BOY' 'OCEAN' 'QUEEN' 'WILLIAM' 'MARY'] \n",
            "\n",
            "Beat\n",
            "Nesta coluna existem 55 valores únicos. \n",
            "\n",
            "Valores únicos: ['C2' 'G1' 'K3' 'E2' 'R1' 'K1' 'G3' 'C1' 'S1' 'L1' 'U2' 'L2' 'D3' 'F2'\n",
            " 'E1' 'D1' 'J3' 'C3' 'N2' 'XX' 'R3' 'F1' 'N3' 'J1' 'U3' 'L3' 'B1' 'O3'\n",
            " 'S2' 'S3' 'R2' 'Q2' 'K2' 'D2' 'W3' 'N1' 'B3' 'F3' 'M3' 'M2' 'G2' 'U1'\n",
            " 'B2' 'Q1' 'M1' 'E3' 'Q3' 'O1' 'J2' 'W2' 'W1' 'O2' '99' '-' '0'] \n",
            "\n",
            "Officer_ID\n",
            "Nesta coluna existem 1323 valores únicos. \n",
            "\n",
            "Valores únicos: [1594 1673 1690 ...  893 5980 5961] \n",
            "\n",
            "Subject_ID\n",
            "Nesta coluna existem 7503 valores únicos. \n",
            "\n",
            "Valores únicos: [  203   166   125 ... 29212 29092 29302] \n",
            "\n",
            "Subject_Race\n",
            "Nesta coluna existem 8 valores únicos. \n",
            "\n",
            "Valores únicos: ['Black or African American' 'White' 'Asian' 'Not Specified'\n",
            " 'American Indian/Alaska Native' 'Hispanic or Latino'\n",
            " 'Nat Hawaiian/Oth Pac Islander' 'Two or More Races'] \n",
            "\n",
            "Subject_Gender\n",
            "Nesta coluna existem 9 valores únicos. \n",
            "\n",
            "Valores únicos: ['Male' 'Female' 'Unknown' '-' 'Other' 'Transgender Male'\n",
            " 'Transgender Female' 'Non-binary' 'm'] \n",
            "\n"
          ]
        }
      ],
      "source": [
        "for var in dados:\n",
        "    print(var)\n",
        "    print('Nesta coluna existem', len(dados[var].unique()),  'valores únicos.', '\\n')\n",
        "    print('Valores únicos:', dados[var].unique(), '\\n')"
      ]
    },
    {
      "cell_type": "markdown",
      "metadata": {
        "id": "2Lr5jfAkHXvR"
      },
      "source": [
        "## Passo 6: Verificação de dados incorretos\n",
        "\n",
        "A partir da análise acima, foram identificados alguns dados incorretos/inconsistentes:\n",
        "\n",
        "- Na coluna 'Precinct': 'X' '-' '0' 'OOJ'\n",
        "- Na coluna 'Sector': nan\n",
        "- Na coluna 'Beat': '-' '0'\n",
        "- Na coluna 'Subject_Gender': '-' 'm'"
      ]
    },
    {
      "cell_type": "markdown",
      "metadata": {
        "id": "zgunHLGxHXvR"
      },
      "source": [
        "Inicialmente, é importante verificar se há alguma correlação entre os valores faltantes da variável \"Sector\" e as outras variáveis com valores incorretos."
      ]
    },
    {
      "cell_type": "code",
      "execution_count": 341,
      "metadata": {
        "id": "NT8W50v6HXvR"
      },
      "outputs": [],
      "source": [
        "dados_faltantes = dados.loc[dados['Sector'].isna()]"
      ]
    },
    {
      "cell_type": "code",
      "execution_count": 342,
      "metadata": {
        "id": "KpJ0259MHXvS",
        "outputId": "7ac90638-07a7-412f-ab23-14f463519ed9",
        "colab": {
          "base_uri": "https://localhost:8080/",
          "height": 337
        }
      },
      "outputs": [
        {
          "output_type": "execute_result",
          "data": {
            "text/plain": [
              "                        ID  Incident_Num           Incident_Type  \\\n",
              "50    2014UOF-0053-627-522           553  Level 1 - Use of Force   \n",
              "76    2014UOF-0076-375-389           439  Level 1 - Use of Force   \n",
              "79   2014UOF-0080-1010-336           376  Level 1 - Use of Force   \n",
              "82   2014UOF-0083-1119-435           480  Level 1 - Use of Force   \n",
              "153  2014UOF-0154-1528-596           620  Level 1 - Use of Force   \n",
              "\n",
              "      Occured_date_time Precinct Sector Beat  Officer_ID  Subject_ID  \\\n",
              "50  2014-07-19 16:44:00        X    NaN   XX         913         520   \n",
              "76  2014-07-09 06:02:00        X    NaN   XX         302         388   \n",
              "79  2014-07-01 06:00:00        X    NaN   XX        1220         335   \n",
              "82  2014-07-12 11:20:00        X    NaN   XX        1800         434   \n",
              "153 2014-07-23 22:12:00        X    NaN   XX        1180         594   \n",
              "\n",
              "                  Subject_Race Subject_Gender  \n",
              "50   Black or African American           Male  \n",
              "76                       White         Female  \n",
              "79                       White           Male  \n",
              "82               Not Specified           Male  \n",
              "153  Black or African American         Female  "
            ],
            "text/html": [
              "\n",
              "  <div id=\"df-255b80cb-d793-42bd-953c-004deb2bfbba\">\n",
              "    <div class=\"colab-df-container\">\n",
              "      <div>\n",
              "<style scoped>\n",
              "    .dataframe tbody tr th:only-of-type {\n",
              "        vertical-align: middle;\n",
              "    }\n",
              "\n",
              "    .dataframe tbody tr th {\n",
              "        vertical-align: top;\n",
              "    }\n",
              "\n",
              "    .dataframe thead th {\n",
              "        text-align: right;\n",
              "    }\n",
              "</style>\n",
              "<table border=\"1\" class=\"dataframe\">\n",
              "  <thead>\n",
              "    <tr style=\"text-align: right;\">\n",
              "      <th></th>\n",
              "      <th>ID</th>\n",
              "      <th>Incident_Num</th>\n",
              "      <th>Incident_Type</th>\n",
              "      <th>Occured_date_time</th>\n",
              "      <th>Precinct</th>\n",
              "      <th>Sector</th>\n",
              "      <th>Beat</th>\n",
              "      <th>Officer_ID</th>\n",
              "      <th>Subject_ID</th>\n",
              "      <th>Subject_Race</th>\n",
              "      <th>Subject_Gender</th>\n",
              "    </tr>\n",
              "  </thead>\n",
              "  <tbody>\n",
              "    <tr>\n",
              "      <th>50</th>\n",
              "      <td>2014UOF-0053-627-522</td>\n",
              "      <td>553</td>\n",
              "      <td>Level 1 - Use of Force</td>\n",
              "      <td>2014-07-19 16:44:00</td>\n",
              "      <td>X</td>\n",
              "      <td>NaN</td>\n",
              "      <td>XX</td>\n",
              "      <td>913</td>\n",
              "      <td>520</td>\n",
              "      <td>Black or African American</td>\n",
              "      <td>Male</td>\n",
              "    </tr>\n",
              "    <tr>\n",
              "      <th>76</th>\n",
              "      <td>2014UOF-0076-375-389</td>\n",
              "      <td>439</td>\n",
              "      <td>Level 1 - Use of Force</td>\n",
              "      <td>2014-07-09 06:02:00</td>\n",
              "      <td>X</td>\n",
              "      <td>NaN</td>\n",
              "      <td>XX</td>\n",
              "      <td>302</td>\n",
              "      <td>388</td>\n",
              "      <td>White</td>\n",
              "      <td>Female</td>\n",
              "    </tr>\n",
              "    <tr>\n",
              "      <th>79</th>\n",
              "      <td>2014UOF-0080-1010-336</td>\n",
              "      <td>376</td>\n",
              "      <td>Level 1 - Use of Force</td>\n",
              "      <td>2014-07-01 06:00:00</td>\n",
              "      <td>X</td>\n",
              "      <td>NaN</td>\n",
              "      <td>XX</td>\n",
              "      <td>1220</td>\n",
              "      <td>335</td>\n",
              "      <td>White</td>\n",
              "      <td>Male</td>\n",
              "    </tr>\n",
              "    <tr>\n",
              "      <th>82</th>\n",
              "      <td>2014UOF-0083-1119-435</td>\n",
              "      <td>480</td>\n",
              "      <td>Level 1 - Use of Force</td>\n",
              "      <td>2014-07-12 11:20:00</td>\n",
              "      <td>X</td>\n",
              "      <td>NaN</td>\n",
              "      <td>XX</td>\n",
              "      <td>1800</td>\n",
              "      <td>434</td>\n",
              "      <td>Not Specified</td>\n",
              "      <td>Male</td>\n",
              "    </tr>\n",
              "    <tr>\n",
              "      <th>153</th>\n",
              "      <td>2014UOF-0154-1528-596</td>\n",
              "      <td>620</td>\n",
              "      <td>Level 1 - Use of Force</td>\n",
              "      <td>2014-07-23 22:12:00</td>\n",
              "      <td>X</td>\n",
              "      <td>NaN</td>\n",
              "      <td>XX</td>\n",
              "      <td>1180</td>\n",
              "      <td>594</td>\n",
              "      <td>Black or African American</td>\n",
              "      <td>Female</td>\n",
              "    </tr>\n",
              "  </tbody>\n",
              "</table>\n",
              "</div>\n",
              "      <button class=\"colab-df-convert\" onclick=\"convertToInteractive('df-255b80cb-d793-42bd-953c-004deb2bfbba')\"\n",
              "              title=\"Convert this dataframe to an interactive table.\"\n",
              "              style=\"display:none;\">\n",
              "        \n",
              "  <svg xmlns=\"http://www.w3.org/2000/svg\" height=\"24px\"viewBox=\"0 0 24 24\"\n",
              "       width=\"24px\">\n",
              "    <path d=\"M0 0h24v24H0V0z\" fill=\"none\"/>\n",
              "    <path d=\"M18.56 5.44l.94 2.06.94-2.06 2.06-.94-2.06-.94-.94-2.06-.94 2.06-2.06.94zm-11 1L8.5 8.5l.94-2.06 2.06-.94-2.06-.94L8.5 2.5l-.94 2.06-2.06.94zm10 10l.94 2.06.94-2.06 2.06-.94-2.06-.94-.94-2.06-.94 2.06-2.06.94z\"/><path d=\"M17.41 7.96l-1.37-1.37c-.4-.4-.92-.59-1.43-.59-.52 0-1.04.2-1.43.59L10.3 9.45l-7.72 7.72c-.78.78-.78 2.05 0 2.83L4 21.41c.39.39.9.59 1.41.59.51 0 1.02-.2 1.41-.59l7.78-7.78 2.81-2.81c.8-.78.8-2.07 0-2.86zM5.41 20L4 18.59l7.72-7.72 1.47 1.35L5.41 20z\"/>\n",
              "  </svg>\n",
              "      </button>\n",
              "      \n",
              "  <style>\n",
              "    .colab-df-container {\n",
              "      display:flex;\n",
              "      flex-wrap:wrap;\n",
              "      gap: 12px;\n",
              "    }\n",
              "\n",
              "    .colab-df-convert {\n",
              "      background-color: #E8F0FE;\n",
              "      border: none;\n",
              "      border-radius: 50%;\n",
              "      cursor: pointer;\n",
              "      display: none;\n",
              "      fill: #1967D2;\n",
              "      height: 32px;\n",
              "      padding: 0 0 0 0;\n",
              "      width: 32px;\n",
              "    }\n",
              "\n",
              "    .colab-df-convert:hover {\n",
              "      background-color: #E2EBFA;\n",
              "      box-shadow: 0px 1px 2px rgba(60, 64, 67, 0.3), 0px 1px 3px 1px rgba(60, 64, 67, 0.15);\n",
              "      fill: #174EA6;\n",
              "    }\n",
              "\n",
              "    [theme=dark] .colab-df-convert {\n",
              "      background-color: #3B4455;\n",
              "      fill: #D2E3FC;\n",
              "    }\n",
              "\n",
              "    [theme=dark] .colab-df-convert:hover {\n",
              "      background-color: #434B5C;\n",
              "      box-shadow: 0px 1px 3px 1px rgba(0, 0, 0, 0.15);\n",
              "      filter: drop-shadow(0px 1px 2px rgba(0, 0, 0, 0.3));\n",
              "      fill: #FFFFFF;\n",
              "    }\n",
              "  </style>\n",
              "\n",
              "      <script>\n",
              "        const buttonEl =\n",
              "          document.querySelector('#df-255b80cb-d793-42bd-953c-004deb2bfbba button.colab-df-convert');\n",
              "        buttonEl.style.display =\n",
              "          google.colab.kernel.accessAllowed ? 'block' : 'none';\n",
              "\n",
              "        async function convertToInteractive(key) {\n",
              "          const element = document.querySelector('#df-255b80cb-d793-42bd-953c-004deb2bfbba');\n",
              "          const dataTable =\n",
              "            await google.colab.kernel.invokeFunction('convertToInteractive',\n",
              "                                                     [key], {});\n",
              "          if (!dataTable) return;\n",
              "\n",
              "          const docLinkHtml = 'Like what you see? Visit the ' +\n",
              "            '<a target=\"_blank\" href=https://colab.research.google.com/notebooks/data_table.ipynb>data table notebook</a>'\n",
              "            + ' to learn more about interactive tables.';\n",
              "          element.innerHTML = '';\n",
              "          dataTable['output_type'] = 'display_data';\n",
              "          await google.colab.output.renderOutput(dataTable, element);\n",
              "          const docLink = document.createElement('div');\n",
              "          docLink.innerHTML = docLinkHtml;\n",
              "          element.appendChild(docLink);\n",
              "        }\n",
              "      </script>\n",
              "    </div>\n",
              "  </div>\n",
              "  "
            ]
          },
          "metadata": {},
          "execution_count": 342
        }
      ],
      "source": [
        "dados_faltantes.head()"
      ]
    },
    {
      "cell_type": "code",
      "execution_count": 343,
      "metadata": {
        "id": "pBNaMgzcHXvS",
        "outputId": "3d2ad9a8-20ae-4f56-ce7e-7e948ac2ec5d",
        "colab": {
          "base_uri": "https://localhost:8080/",
          "height": 0
        }
      },
      "outputs": [
        {
          "output_type": "stream",
          "name": "stdout",
          "text": [
            "Precinct\n",
            "Nesta coluna existem 4 valores únicos. \n",
            "\n",
            "Valores únicos: ['X' '-' '0' 'OOJ'] \n",
            "\n",
            "Beat\n",
            "Nesta coluna existem 4 valores únicos. \n",
            "\n",
            "Valores únicos: ['XX' '99' '-' '0'] \n",
            "\n",
            "Subject_Gender\n",
            "Nesta coluna existem 6 valores únicos. \n",
            "\n",
            "Valores únicos: ['Male' 'Female' 'Unknown' '-' 'Other' 'm'] \n",
            "\n"
          ]
        }
      ],
      "source": [
        "for var in dados_faltantes[['Precinct', 'Beat', 'Subject_Gender']]:\n",
        "    print(var)\n",
        "    print('Nesta coluna existem', len(dados_faltantes[var].unique()),  'valores únicos.', '\\n')\n",
        "    print('Valores únicos:', dados_faltantes[var].unique(), '\\n')"
      ]
    },
    {
      "cell_type": "markdown",
      "metadata": {
        "id": "6k_Rf1FZHXvS"
      },
      "source": [
        "## Passo 7: vamos verificar se há alguma relação com a data de registro das ocorrências."
      ]
    },
    {
      "cell_type": "code",
      "execution_count": 344,
      "metadata": {
        "id": "_dUbYMghHXvS",
        "outputId": "28c38f58-64a0-4453-9602-8ca0b1b88f8b",
        "colab": {
          "base_uri": "https://localhost:8080/",
          "height": 268
        }
      },
      "outputs": [
        {
          "output_type": "display_data",
          "data": {
            "text/plain": [
              "<Figure size 432x288 with 1 Axes>"
            ],
            "image/png": "[encoded data removed]"
          },
          "metadata": {}
        }
      ],
      "source": [
        "dados_faltantes['Occured_date_time'].hist();"
      ]
    },
    {
      "cell_type": "markdown",
      "metadata": {
        "id": "TX_LhiAhHXvS"
      },
      "source": [
        "A distribuição dos dados indica que a maior parte dos valores faltantes corresponde a registros feitos no ano de 2022.\n",
        "Pode ser que haja alguma correlação com o policial responsável pela ocorrência, ou com o gênero da pessoa envolvida nela. Vamos verificar por meio da distribuição de frequência de valores únicos destas variáveis."
      ]
    },
    {
      "cell_type": "code",
      "execution_count": 345,
      "metadata": {
        "scrolled": false,
        "id": "nImj7q43HXvS",
        "outputId": "d768126e-4b74-431d-9a3e-b3da35754fa4",
        "colab": {
          "base_uri": "https://localhost:8080/",
          "height": 0
        }
      },
      "outputs": [
        {
          "output_type": "execute_result",
          "data": {
            "text/plain": [
              "1615    28\n",
              "704     25\n",
              "1554    17\n",
              "1231    15\n",
              "1135    14\n",
              "        ..\n",
              "4744     1\n",
              "443      1\n",
              "701      1\n",
              "2165     1\n",
              "4996     1\n",
              "Name: Officer_ID, Length: 404, dtype: int64"
            ]
          },
          "metadata": {},
          "execution_count": 345
        }
      ],
      "source": [
        "dados_faltantes['Officer_ID'].value_counts()"
      ]
    },
    {
      "cell_type": "code",
      "execution_count": 346,
      "metadata": {
        "id": "yVw3HM5YHXvT",
        "outputId": "bb58cd9f-4930-4a71-9e42-b1115a2bfd55",
        "colab": {
          "base_uri": "https://localhost:8080/",
          "height": 0
        }
      },
      "outputs": [
        {
          "output_type": "execute_result",
          "data": {
            "text/plain": [
              "11"
            ]
          },
          "metadata": {},
          "execution_count": 346
        }
      ],
      "source": [
        "sum(dados_faltantes['Officer_ID'].value_counts() > 10)"
      ]
    },
    {
      "cell_type": "markdown",
      "metadata": {
        "id": "AocVyN0eHXvT"
      },
      "source": [
        "11 policiais registraram mais de 10 ocorrências com valores faltantes. Vamos verificar se há alguma correlação com a data da ocorrência. Faremos essa verificação para os 10 policiais que mais possuem registros com dados faltantes."
      ]
    },
    {
      "cell_type": "code",
      "execution_count": 347,
      "metadata": {
        "id": "Xw8dlnpXHXvT"
      },
      "outputs": [],
      "source": [
        "ids = dados_faltantes['Officer_ID'].value_counts().index[0:10]"
      ]
    },
    {
      "cell_type": "code",
      "execution_count": 348,
      "metadata": {
        "scrolled": true,
        "id": "dVebBry-HXvT",
        "outputId": "102a1d7e-13c9-4025-d6d9-dd601db49745",
        "colab": {
          "base_uri": "https://localhost:8080/",
          "height": 641
        }
      },
      "outputs": [
        {
          "output_type": "execute_result",
          "data": {
            "text/plain": [
              "                            ID  Incident_Num           Incident_Type  \\\n",
              "62       2014UOF-0063-1306-457           501  Level 1 - Use of Force   \n",
              "181        2014UOF-0179-44-771           755  Level 1 - Use of Force   \n",
              "184       2014UOF-0182-825-877           842  Level 2 - Use of Force   \n",
              "186      2014UOF-0184-1416-877           844  Level 2 - Use of Force   \n",
              "213      2014UOF-0211-825-1043          1028  Level 1 - Use of Force   \n",
              "...                        ...           ...                     ...   \n",
              "14247  2022UOF-0370-1169-27117         66673  Level 1 - Use of Force   \n",
              "14249  2022UOF-0372-1434-26633         66696  Level 1 - Use of Force   \n",
              "14251   2022UOF-0374-825-26633         66675  Level 2 - Use of Force   \n",
              "14252   2022UOF-0374-825-27117         66675  Level 2 - Use of Force   \n",
              "14253    2022UOF-0374-825-3026         66675  Level 2 - Use of Force   \n",
              "\n",
              "        Occured_date_time Precinct  Sector Beat  Officer_ID  Subject_ID  \\\n",
              "62    2014-07-15 16:15:00    North    NORA   N2        1615         456   \n",
              "181   2014-08-06 01:42:00     East  GEORGE   G3        1554         769   \n",
              "184   2014-08-13 23:50:00    South     SAM   S1         704         875   \n",
              "186   2014-08-13 19:30:00    South     SAM   S1        1120         875   \n",
              "213   2014-09-04 21:00:00    North   UNION   U2         704        1040   \n",
              "...                   ...      ...     ...  ...         ...         ...   \n",
              "14247 2022-01-26 15:20:00        -     NaN    -        1231       27994   \n",
              "14249 2022-01-26 15:09:00        -     NaN    -        1134       27510   \n",
              "14251 2022-01-26 15:20:00        -     NaN    -         704       27510   \n",
              "14252 2022-01-26 15:20:00        -     NaN    -         704       27994   \n",
              "14253 2022-01-26 15:20:00        -     NaN    -         704        3006   \n",
              "\n",
              "                    Subject_Race Subject_Gender  \n",
              "62                 Not Specified         Female  \n",
              "181    Black or African American           Male  \n",
              "184                        White           Male  \n",
              "186                        White           Male  \n",
              "213                        White           Male  \n",
              "...                          ...            ...  \n",
              "14247              Not Specified        Unknown  \n",
              "14249  Black or African American           Male  \n",
              "14251  Black or African American           Male  \n",
              "14252              Not Specified        Unknown  \n",
              "14253  Black or African American           Male  \n",
              "\n",
              "[502 rows x 11 columns]"
            ],
            "text/html": [
              "\n",
              "  <div id=\"df-efba56d2-7085-4a01-b457-fd398456a283\">\n",
              "    <div class=\"colab-df-container\">\n",
              "      <div>\n",
              "<style scoped>\n",
              "    .dataframe tbody tr th:only-of-type {\n",
              "        vertical-align: middle;\n",
              "    }\n",
              "\n",
              "    .dataframe tbody tr th {\n",
              "        vertical-align: top;\n",
              "    }\n",
              "\n",
              "    .dataframe thead th {\n",
              "        text-align: right;\n",
              "    }\n",
              "</style>\n",
              "<table border=\"1\" class=\"dataframe\">\n",
              "  <thead>\n",
              "    <tr style=\"text-align: right;\">\n",
              "      <th></th>\n",
              "      <th>ID</th>\n",
              "      <th>Incident_Num</th>\n",
              "      <th>Incident_Type</th>\n",
              "      <th>Occured_date_time</th>\n",
              "      <th>Precinct</th>\n",
              "      <th>Sector</th>\n",
              "      <th>Beat</th>\n",
              "      <th>Officer_ID</th>\n",
              "      <th>Subject_ID</th>\n",
              "      <th>Subject_Race</th>\n",
              "      <th>Subject_Gender</th>\n",
              "    </tr>\n",
              "  </thead>\n",
              "  <tbody>\n",
              "    <tr>\n",
              "      <th>62</th>\n",
              "      <td>2014UOF-0063-1306-457</td>\n",
              "      <td>501</td>\n",
              "      <td>Level 1 - Use of Force</td>\n",
              "      <td>2014-07-15 16:15:00</td>\n",
              "      <td>North</td>\n",
              "      <td>NORA</td>\n",
              "      <td>N2</td>\n",
              "      <td>1615</td>\n",
              "      <td>456</td>\n",
              "      <td>Not Specified</td>\n",
              "      <td>Female</td>\n",
              "    </tr>\n",
              "    <tr>\n",
              "      <th>181</th>\n",
              "      <td>2014UOF-0179-44-771</td>\n",
              "      <td>755</td>\n",
              "      <td>Level 1 - Use of Force</td>\n",
              "      <td>2014-08-06 01:42:00</td>\n",
              "      <td>East</td>\n",
              "      <td>GEORGE</td>\n",
              "      <td>G3</td>\n",
              "      <td>1554</td>\n",
              "      <td>769</td>\n",
              "      <td>Black or African American</td>\n",
              "      <td>Male</td>\n",
              "    </tr>\n",
              "    <tr>\n",
              "      <th>184</th>\n",
              "      <td>2014UOF-0182-825-877</td>\n",
              "      <td>842</td>\n",
              "      <td>Level 2 - Use of Force</td>\n",
              "      <td>2014-08-13 23:50:00</td>\n",
              "      <td>South</td>\n",
              "      <td>SAM</td>\n",
              "      <td>S1</td>\n",
              "      <td>704</td>\n",
              "      <td>875</td>\n",
              "      <td>White</td>\n",
              "      <td>Male</td>\n",
              "    </tr>\n",
              "    <tr>\n",
              "      <th>186</th>\n",
              "      <td>2014UOF-0184-1416-877</td>\n",
              "      <td>844</td>\n",
              "      <td>Level 2 - Use of Force</td>\n",
              "      <td>2014-08-13 19:30:00</td>\n",
              "      <td>South</td>\n",
              "      <td>SAM</td>\n",
              "      <td>S1</td>\n",
              "      <td>1120</td>\n",
              "      <td>875</td>\n",
              "      <td>White</td>\n",
              "      <td>Male</td>\n",
              "    </tr>\n",
              "    <tr>\n",
              "      <th>213</th>\n",
              "      <td>2014UOF-0211-825-1043</td>\n",
              "      <td>1028</td>\n",
              "      <td>Level 1 - Use of Force</td>\n",
              "      <td>2014-09-04 21:00:00</td>\n",
              "      <td>North</td>\n",
              "      <td>UNION</td>\n",
              "      <td>U2</td>\n",
              "      <td>704</td>\n",
              "      <td>1040</td>\n",
              "      <td>White</td>\n",
              "      <td>Male</td>\n",
              "    </tr>\n",
              "    <tr>\n",
              "      <th>...</th>\n",
              "      <td>...</td>\n",
              "      <td>...</td>\n",
              "      <td>...</td>\n",
              "      <td>...</td>\n",
              "      <td>...</td>\n",
              "      <td>...</td>\n",
              "      <td>...</td>\n",
              "      <td>...</td>\n",
              "      <td>...</td>\n",
              "      <td>...</td>\n",
              "      <td>...</td>\n",
              "    </tr>\n",
              "    <tr>\n",
              "      <th>14247</th>\n",
              "      <td>2022UOF-0370-1169-27117</td>\n",
              "      <td>66673</td>\n",
              "      <td>Level 1 - Use of Force</td>\n",
              "      <td>2022-01-26 15:20:00</td>\n",
              "      <td>-</td>\n",
              "      <td>NaN</td>\n",
              "      <td>-</td>\n",
              "      <td>1231</td>\n",
              "      <td>27994</td>\n",
              "      <td>Not Specified</td>\n",
              "      <td>Unknown</td>\n",
              "    </tr>\n",
              "    <tr>\n",
              "      <th>14249</th>\n",
              "      <td>2022UOF-0372-1434-26633</td>\n",
              "      <td>66696</td>\n",
              "      <td>Level 1 - Use of Force</td>\n",
              "      <td>2022-01-26 15:09:00</td>\n",
              "      <td>-</td>\n",
              "      <td>NaN</td>\n",
              "      <td>-</td>\n",
              "      <td>1134</td>\n",
              "      <td>27510</td>\n",
              "      <td>Black or African American</td>\n",
              "      <td>Male</td>\n",
              "    </tr>\n",
              "    <tr>\n",
              "      <th>14251</th>\n",
              "      <td>2022UOF-0374-825-26633</td>\n",
              "      <td>66675</td>\n",
              "      <td>Level 2 - Use of Force</td>\n",
              "      <td>2022-01-26 15:20:00</td>\n",
              "      <td>-</td>\n",
              "      <td>NaN</td>\n",
              "      <td>-</td>\n",
              "      <td>704</td>\n",
              "      <td>27510</td>\n",
              "      <td>Black or African American</td>\n",
              "      <td>Male</td>\n",
              "    </tr>\n",
              "    <tr>\n",
              "      <th>14252</th>\n",
              "      <td>2022UOF-0374-825-27117</td>\n",
              "      <td>66675</td>\n",
              "      <td>Level 2 - Use of Force</td>\n",
              "      <td>2022-01-26 15:20:00</td>\n",
              "      <td>-</td>\n",
              "      <td>NaN</td>\n",
              "      <td>-</td>\n",
              "      <td>704</td>\n",
              "      <td>27994</td>\n",
              "      <td>Not Specified</td>\n",
              "      <td>Unknown</td>\n",
              "    </tr>\n",
              "    <tr>\n",
              "      <th>14253</th>\n",
              "      <td>2022UOF-0374-825-3026</td>\n",
              "      <td>66675</td>\n",
              "      <td>Level 2 - Use of Force</td>\n",
              "      <td>2022-01-26 15:20:00</td>\n",
              "      <td>-</td>\n",
              "      <td>NaN</td>\n",
              "      <td>-</td>\n",
              "      <td>704</td>\n",
              "      <td>3006</td>\n",
              "      <td>Black or African American</td>\n",
              "      <td>Male</td>\n",
              "    </tr>\n",
              "  </tbody>\n",
              "</table>\n",
              "<p>502 rows × 11 columns</p>\n",
              "</div>\n",
              "      <button class=\"colab-df-convert\" onclick=\"convertToInteractive('df-efba56d2-7085-4a01-b457-fd398456a283')\"\n",
              "              title=\"Convert this dataframe to an interactive table.\"\n",
              "              style=\"display:none;\">\n",
              "        \n",
              "  <svg xmlns=\"http://www.w3.org/2000/svg\" height=\"24px\"viewBox=\"0 0 24 24\"\n",
              "       width=\"24px\">\n",
              "    <path d=\"M0 0h24v24H0V0z\" fill=\"none\"/>\n",
              "    <path d=\"M18.56 5.44l.94 2.06.94-2.06 2.06-.94-2.06-.94-.94-2.06-.94 2.06-2.06.94zm-11 1L8.5 8.5l.94-2.06 2.06-.94-2.06-.94L8.5 2.5l-.94 2.06-2.06.94zm10 10l.94 2.06.94-2.06 2.06-.94-2.06-.94-.94-2.06-.94 2.06-2.06.94z\"/><path d=\"M17.41 7.96l-1.37-1.37c-.4-.4-.92-.59-1.43-.59-.52 0-1.04.2-1.43.59L10.3 9.45l-7.72 7.72c-.78.78-.78 2.05 0 2.83L4 21.41c.39.39.9.59 1.41.59.51 0 1.02-.2 1.41-.59l7.78-7.78 2.81-2.81c.8-.78.8-2.07 0-2.86zM5.41 20L4 18.59l7.72-7.72 1.47 1.35L5.41 20z\"/>\n",
              "  </svg>\n",
              "      </button>\n",
              "      \n",
              "  <style>\n",
              "    .colab-df-container {\n",
              "      display:flex;\n",
              "      flex-wrap:wrap;\n",
              "      gap: 12px;\n",
              "    }\n",
              "\n",
              "    .colab-df-convert {\n",
              "      background-color: #E8F0FE;\n",
              "      border: none;\n",
              "      border-radius: 50%;\n",
              "      cursor: pointer;\n",
              "      display: none;\n",
              "      fill: #1967D2;\n",
              "      height: 32px;\n",
              "      padding: 0 0 0 0;\n",
              "      width: 32px;\n",
              "    }\n",
              "\n",
              "    .colab-df-convert:hover {\n",
              "      background-color: #E2EBFA;\n",
              "      box-shadow: 0px 1px 2px rgba(60, 64, 67, 0.3), 0px 1px 3px 1px rgba(60, 64, 67, 0.15);\n",
              "      fill: #174EA6;\n",
              "    }\n",
              "\n",
              "    [theme=dark] .colab-df-convert {\n",
              "      background-color: #3B4455;\n",
              "      fill: #D2E3FC;\n",
              "    }\n",
              "\n",
              "    [theme=dark] .colab-df-convert:hover {\n",
              "      background-color: #434B5C;\n",
              "      box-shadow: 0px 1px 3px 1px rgba(0, 0, 0, 0.15);\n",
              "      filter: drop-shadow(0px 1px 2px rgba(0, 0, 0, 0.3));\n",
              "      fill: #FFFFFF;\n",
              "    }\n",
              "  </style>\n",
              "\n",
              "      <script>\n",
              "        const buttonEl =\n",
              "          document.querySelector('#df-efba56d2-7085-4a01-b457-fd398456a283 button.colab-df-convert');\n",
              "        buttonEl.style.display =\n",
              "          google.colab.kernel.accessAllowed ? 'block' : 'none';\n",
              "\n",
              "        async function convertToInteractive(key) {\n",
              "          const element = document.querySelector('#df-efba56d2-7085-4a01-b457-fd398456a283');\n",
              "          const dataTable =\n",
              "            await google.colab.kernel.invokeFunction('convertToInteractive',\n",
              "                                                     [key], {});\n",
              "          if (!dataTable) return;\n",
              "\n",
              "          const docLinkHtml = 'Like what you see? Visit the ' +\n",
              "            '<a target=\"_blank\" href=https://colab.research.google.com/notebooks/data_table.ipynb>data table notebook</a>'\n",
              "            + ' to learn more about interactive tables.';\n",
              "          element.innerHTML = '';\n",
              "          dataTable['output_type'] = 'display_data';\n",
              "          await google.colab.output.renderOutput(dataTable, element);\n",
              "          const docLink = document.createElement('div');\n",
              "          docLink.innerHTML = docLinkHtml;\n",
              "          element.appendChild(docLink);\n",
              "        }\n",
              "      </script>\n",
              "    </div>\n",
              "  </div>\n",
              "  "
            ]
          },
          "metadata": {},
          "execution_count": 348
        }
      ],
      "source": [
        "dados[dados['Officer_ID'].isin(ids)]"
      ]
    },
    {
      "cell_type": "code",
      "execution_count": 349,
      "metadata": {
        "id": "rP1v_Mr_HXvT",
        "outputId": "bb7e95e1-f085-4428-84ff-57b48a0ede1f",
        "colab": {
          "base_uri": "https://localhost:8080/",
          "height": 268
        }
      },
      "outputs": [
        {
          "output_type": "display_data",
          "data": {
            "text/plain": [
              "<Figure size 432x288 with 1 Axes>"
            ],
            "image/png": "[encoded data removed]"
          },
          "metadata": {}
        }
      ],
      "source": [
        "dados_faltantes[dados_faltantes['Officer_ID'].isin(ids)]['Occured_date_time'].hist();"
      ]
    },
    {
      "cell_type": "markdown",
      "metadata": {
        "id": "09dOyvk8HXvT"
      },
      "source": [
        "De fato, a maior parte dos dados faltantes foi registrada em 2022.\n",
        "Por fim, vamos verificar se há algum padrão no gênero das pessoas associadas às ocorrências com dados faltantes. Para isso, vamos normalizar a frequência das classes de gênero nas observações faltantes pela quantidade de pessoas nestas classes na base original."
      ]
    },
    {
      "cell_type": "code",
      "execution_count": 350,
      "metadata": {
        "id": "JeuAR-ZUHXvT",
        "outputId": "0005adc5-dbc3-434d-c80c-f6fefc5575a8",
        "colab": {
          "base_uri": "https://localhost:8080/",
          "height": 0
        }
      },
      "outputs": [
        {
          "output_type": "execute_result",
          "data": {
            "text/plain": [
              "-                     0.045455\n",
              "Female                0.054251\n",
              "Male                  0.070088\n",
              "Non-binary                 NaN\n",
              "Other                 0.160000\n",
              "Transgender Female         NaN\n",
              "Transgender Male           NaN\n",
              "Unknown               0.066810\n",
              "m                     1.000000\n",
              "Name: Subject_Gender, dtype: float64"
            ]
          },
          "metadata": {},
          "execution_count": 350
        }
      ],
      "source": [
        "dados_faltantes['Subject_Gender'].value_counts()/dados['Subject_Gender'].value_counts()"
      ]
    },
    {
      "cell_type": "markdown",
      "metadata": {
        "id": "JLKzhlMlHXvT"
      },
      "source": [
        "Aparentemente, não há correlação entre o gênero e os dados faltantes. Podemos supor que a origem dos dados faltantes é aleatória e que podemos excluir estas observações sem grande prejuízo para a análise. Para uma análise mais precisa, seria necessário conversar com especialista da área ou com a equipe que gerencia a base de dados fornecida."
      ]
    },
    {
      "cell_type": "code",
      "execution_count": 351,
      "metadata": {
        "id": "keh7GIM3HXvU"
      },
      "outputs": [],
      "source": [
        "dados = dados.dropna()"
      ]
    },
    {
      "cell_type": "markdown",
      "metadata": {
        "id": "EsF_GcZEHXvU"
      },
      "source": [
        "## Passo 8: Vamos verificar se ainda existem dados incorretos nas colunas 'Precinct', 'Beat' e 'Subject_Gender'."
      ]
    },
    {
      "cell_type": "code",
      "execution_count": 352,
      "metadata": {
        "id": "afx6esECHXvU",
        "outputId": "7daa0040-ee41-4654-9524-7e12bab9a568",
        "colab": {
          "base_uri": "https://localhost:8080/",
          "height": 0
        }
      },
      "outputs": [
        {
          "output_type": "stream",
          "name": "stdout",
          "text": [
            "Precinct\n",
            "Nesta coluna existem 5 valores únicos. \n",
            "\n",
            "Valores únicos: ['East' 'West' 'South' 'North' 'Southwest'] \n",
            "\n",
            "Beat\n",
            "Nesta coluna existem 51 valores únicos. \n",
            "\n",
            "Valores únicos: ['C2' 'G1' 'K3' 'E2' 'R1' 'K1' 'G3' 'C1' 'S1' 'L1' 'U2' 'L2' 'D3' 'F2'\n",
            " 'E1' 'D1' 'J3' 'C3' 'N2' 'R3' 'F1' 'N3' 'J1' 'U3' 'L3' 'B1' 'O3' 'S2'\n",
            " 'S3' 'R2' 'Q2' 'K2' 'D2' 'W3' 'N1' 'B3' 'F3' 'M3' 'M2' 'G2' 'U1' 'B2'\n",
            " 'Q1' 'M1' 'E3' 'Q3' 'O1' 'J2' 'W2' 'W1' 'O2'] \n",
            "\n",
            "Subject_Gender\n",
            "Nesta coluna existem 8 valores únicos. \n",
            "\n",
            "Valores únicos: ['Male' 'Female' 'Unknown' '-' 'Other' 'Transgender Male'\n",
            " 'Transgender Female' 'Non-binary'] \n",
            "\n"
          ]
        }
      ],
      "source": [
        "for var in dados[['Precinct', 'Beat', 'Subject_Gender']]:\n",
        "    print(var)\n",
        "    print('Nesta coluna existem', len(dados[var].unique()),  'valores únicos.', '\\n')\n",
        "    print('Valores únicos:', dados[var].unique(), '\\n')"
      ]
    },
    {
      "cell_type": "markdown",
      "metadata": {
        "id": "To0svVXpHXvU"
      },
      "source": [
        "Na coluna 'Subject_Gender', ainda existem observações com o valor '-'.\n",
        "* O valor '-' não é informativo e não podemos deduzir o valor correto para substituí-lo. Portanto, este deve ser convertido em um dado faltante."
      ]
    },
    {
      "cell_type": "code",
      "execution_count": 353,
      "metadata": {
        "id": "xf3FG-1VHXvU"
      },
      "outputs": [],
      "source": [
        "dados.loc[dados['Subject_Gender'] == '-', 'Subject_Gender'] = np.nan"
      ]
    },
    {
      "cell_type": "markdown",
      "source": [
        "# Questão 1: Com relação à distribuição dos incidentes no tempo, é possível encontrar picos ou linhas de tendência dentro dos dias, meses, semanas ou dos anos?"
      ],
      "metadata": {
        "id": "jNiOur3jgK3N"
      }
    },
    {
      "cell_type": "markdown",
      "source": [
        "#INCIDENTES POR DIA\n"
      ],
      "metadata": {
        "id": "T7w2E5KtxkFN"
      }
    },
    {
      "cell_type": "code",
      "source": [
        "#INCIDENTES POR DIA\n",
        "#vamos criar aqui um dataset dados_dia, onde teremos uma coluna date que conterá o dia da ocorrência\n",
        "\n",
        "dados_dia = dados.copy()\n",
        "\n",
        "dados_dia['date'] = pd.to_datetime(dados_dia['Occured_date_time']).dt.to_period('D')\n",
        "\n",
        "#vamos agrupar os dados por data e fazer uma contagem\n",
        "dados_dia = dados_dia.groupby(['date']).count()\n",
        "\n",
        "# Vamos pegar a coluna Incident_Num, que significa de forma mais contundente a quantidade agrupada pelo seu valor único\n",
        "# Vamos renomear a coluna Incident_Num para Quantidade e  por fim ordenar os dados\n",
        "dados_dia = dados_dia[['Incident_Num']]\n",
        "dados_dia.rename(columns={'Incident_Num': 'Quantity'}, inplace=True)\n"
      ],
      "metadata": {
        "id": "IGKZn4tFLmCi"
      },
      "execution_count": 80,
      "outputs": []
    },
    {
      "cell_type": "code",
      "source": [
        "#Vamos plotar um gráfico aqui onde o eixo x será os \"dias\" e o eixo y a coluna Incident_Num\n",
        "\n",
        "fig, ax = plt.subplots(figsize=(20, 6))\n",
        "dados_dia.plot(ax=ax, kind='line', color=\"red\")\n",
        "\n",
        "\n",
        "plt.xlabel('Ano', fontsize=17)\n",
        "plt.legend(['Quantidade'], fontsize=17)\n",
        "plt.title('Incidentes por Dia', fontsize=17)\n",
        "plt.grid(axis='y')\n"
      ],
      "metadata": {
        "colab": {
          "base_uri": "https://localhost:8080/",
          "height": 416
        },
        "id": "6U9-rbL6rdQt",
        "outputId": "f6cbdcf0-1123-4093-952c-9ff045c64045"
      },
      "execution_count": 84,
      "outputs": [
        {
          "output_type": "display_data",
          "data": {
            "text/plain": [
              "<Figure size 1440x432 with 1 Axes>"
            ],
            "image/png": "[encoded data removed]"
          },
          "metadata": {
            "needs_background": "light"
          }
        }
      ]
    },
    {
      "cell_type": "markdown",
      "source": [
        "Analisando o gráfico acima  podemos perceber que os picos de quantidade de incidentes diminuem entre 2014 e 2019, ficando cada vez menos frequente. Porém entre 2020 e 2021 temos picos bem acentuados, particularmente próximos ao meio do ano. \n"
      ],
      "metadata": {
        "id": "ouDTxkDhwLME"
      }
    },
    {
      "cell_type": "markdown",
      "source": [
        "#INCIDENTES POR MÊS\n"
      ],
      "metadata": {
        "id": "Z6IxAF7GxnYM"
      }
    },
    {
      "cell_type": "code",
      "source": [
        "##INCIDENTES POR Mês\n",
        "\n",
        "# Vamos seguir o mesmo procedimento exceutado acima, porém agora vamos considerar o período MÊS (dt.to_period('M'))\n",
        "\n",
        "dados_mes = dados.copy()\n",
        "\n",
        "dados_mes['year_month'] = pd.to_datetime(dados_mes['Occured_date_time']).dt.to_period('M')\n",
        "dados_mes = dados_mes.groupby(['year_month']).count()\n",
        "\n",
        "# Vamos selecionar aqui novamente a coluna Incident_Num que é campo onde existe contagem, iremms renomear novamente\n",
        "\n",
        "dados_mes = dados_mes[['Incident_Num']]\n",
        "dados_mes.rename(columns={'Incident_Num': 'Quantity'}, inplace=True)"
      ],
      "metadata": {
        "id": "IikBEaBIuI1H"
      },
      "execution_count": 83,
      "outputs": []
    },
    {
      "cell_type": "code",
      "source": [
        "fig, ax = plt.subplots(figsize=(20, 4))\n",
        "dados_mes.plot(ls=\"-\", lw=\"1\", marker=\"x\", ax=ax, color=\"red\")\n",
        "\n",
        "\n",
        "plt.xlabel('Ano', fontsize=17)\n",
        "plt.legend(['Quantidade'], fontsize=17)\n",
        "plt.title('Incidentes por Mês', fontsize=17)\n",
        "plt.grid(axis='y')\n"
      ],
      "metadata": {
        "colab": {
          "base_uri": "https://localhost:8080/",
          "height": 308
        },
        "id": "EImm_7MgyKnw",
        "outputId": "6d7f7fdb-da29-4ceb-e5a5-301c6418020f"
      },
      "execution_count": 85,
      "outputs": [
        {
          "output_type": "display_data",
          "data": {
            "text/plain": [
              "<Figure size 1440x288 with 1 Axes>"
            ],
            "image/png": "[encoded data removed]"
          },
          "metadata": {
            "needs_background": "light"
          }
        }
      ]
    },
    {
      "cell_type": "markdown",
      "source": [
        "Podemos perceber  um crescimento no número de incidentes no final de todo ano até 2018. De meados de 2018 até 2019 tivemos uma queda, porém entre 2020 e 2021, temos uma elevação com picos acentuados. A tendência de meados de 2018 até 2022 é de queda."
      ],
      "metadata": {
        "id": "YVo6bXBS0hR4"
      }
    },
    {
      "cell_type": "markdown",
      "source": [
        "#INCIDÊNCIA POR SEMANA"
      ],
      "metadata": {
        "id": "VQ5BZfvT3jyt"
      }
    },
    {
      "cell_type": "code",
      "source": [
        "# INCIDÊNCIA POR SEMANA\n",
        "# Vamos seguir o mesmo procedimento exceutado acima, porém agora vamos considerar o período MÊS (dt.to_period('W'))\n",
        "\n",
        "dados_semana = dados.copy()\n",
        "dados_semana['week'] = pd.to_datetime(dados_semana['Occured_date_time']).dt.to_period('W')\n",
        "dados_semana = dados_semana.groupby(['week']).count()\n",
        "\n",
        "# Vamos selecionar aqui novamente a coluna Incident_Num que é campo onde existe contagem, iremms renomear novamente\n",
        "\n",
        "dados_semana = dados_semana[['Incident_Num']]\n",
        "dados_semana.rename(columns={'Incident_Num': 'Quantity'}, inplace=True)"
      ],
      "metadata": {
        "id": "2UzNEdPO3fIA"
      },
      "execution_count": 86,
      "outputs": []
    },
    {
      "cell_type": "code",
      "source": [
        "fig, ax = plt.subplots(figsize=(20, 4))\n",
        "dados_semana.plot(ls=\"-\", lw=\"1\", marker=\"x\", ax=ax, color=\"red\")\n",
        "\n",
        "plt.xlabel('Ano', fontsize=17)\n",
        "plt.legend(['Quantidade'], fontsize=17)\n",
        "plt.title('Incidência semanal', fontsize=17)\n",
        "plt.grid(axis='y')\n"
      ],
      "metadata": {
        "colab": {
          "base_uri": "https://localhost:8080/",
          "height": 307
        },
        "id": "9xJgpXu-36hV",
        "outputId": "0d387c1d-cf59-4e39-a89d-84d6880c854a"
      },
      "execution_count": 87,
      "outputs": [
        {
          "output_type": "display_data",
          "data": {
            "text/plain": [
              "<Figure size 1440x288 with 1 Axes>"
            ],
            "image/png": "[encoded data removed]"
          },
          "metadata": {
            "needs_background": "light"
          }
        }
      ]
    },
    {
      "cell_type": "markdown",
      "source": [
        "No  gráfico acima entre final de 2016 e meados de 2020 temos uma certa estabilidade no número de incidências, mantendo a quantidade de incidência por semana menor que 50. Temos novamente picos acentuaddos em meados do ano de 2020, isso até pode nos levar a crer que pode ser uma consequência da recente pandemia mundial.\n"
      ],
      "metadata": {
        "id": "N0Yh6WQT4NDp"
      }
    },
    {
      "cell_type": "markdown",
      "source": [
        "# INCIDÊNCIA POR ANO"
      ],
      "metadata": {
        "id": "ifcNLQu14yz1"
      }
    },
    {
      "cell_type": "code",
      "source": [
        "# INCIDÊNCIA POR ANO\n",
        "# Vamos seguir o mesmo procedimento exceutado acima, porém agora vamos considerar o período MÊS (dt.to_period('Y'))\n",
        "\n",
        "dados_ano = dados.copy()\n",
        "dados_ano['week'] = pd.to_datetime(dados_ano['Occured_date_time']).dt.to_period('Y')\n",
        "dados_ano = dados_ano.groupby(['week']).count()\n",
        "\n",
        "# Vamos selecionar aqui novamente a coluna Incident_Num que é campo onde existe contagem, iremms renomear novamente\n",
        "\n",
        "dados_ano = dados_ano[['Incident_Num']]\n",
        "dados_ano.rename(columns={'Incident_Num': 'Quantity'}, inplace=True)"
      ],
      "metadata": {
        "id": "ZBRwj_n543aN"
      },
      "execution_count": 88,
      "outputs": []
    },
    {
      "cell_type": "code",
      "source": [
        "fig, ax = plt.subplots(figsize=(20, 4))\n",
        "dados_ano.plot(ls=\"-\", lw=\"1\", marker=\"x\", ax=ax, color=\"red\")\n",
        "\n",
        "plt.xlabel('Ano', fontsize=17)\n",
        "plt.legend(['Quantidade'], fontsize=17)\n",
        "plt.title('Incidência anual', fontsize=17)\n",
        "plt.grid(axis='y')\n"
      ],
      "metadata": {
        "colab": {
          "base_uri": "https://localhost:8080/",
          "height": 307
        },
        "id": "HOhdKvDc7QU5",
        "outputId": "6008671e-3e5b-4d92-cb1d-cbbb583701c7"
      },
      "execution_count": 89,
      "outputs": [
        {
          "output_type": "display_data",
          "data": {
            "text/plain": [
              "<Figure size 1440x288 with 1 Axes>"
            ],
            "image/png": "[encoded data removed]"
          },
          "metadata": {
            "needs_background": "light"
          }
        }
      ]
    },
    {
      "cell_type": "markdown",
      "source": [
        "Entre 2014 e 2020 a incidência anual se mantém entre 1500 e 2000 casos, porém de 2020 para início de 2022 a tendência  é claramente de queda."
      ],
      "metadata": {
        "id": "JR2ilUER7Ukt"
      }
    },
    {
      "cell_type": "code",
      "source": [
        ""
      ],
      "metadata": {
        "id": "LmLf4vhN71JB"
      },
      "execution_count": null,
      "outputs": []
    },
    {
      "cell_type": "markdown",
      "source": [
        "# Questão 2: Uma métrica interessante para a polícia é o grau de reincidência por parte dos civis. Apresente o percentual de casos reincidentes em relação ao total de incidentes em cada setor e verifique se há correlação entre esta métrica e o percentual de incidentes “Level 2” calculado na questão. Que interpretação pode ser dada a este resultado?"
      ],
      "metadata": {
        "id": "CH1riLQt71jt"
      }
    },
    {
      "cell_type": "markdown",
      "source": [
        "##Passo 1: obter inicialmente um gráfico de reincidência  por setor"
      ],
      "metadata": {
        "id": "Ee-Lq8zTAfd7"
      }
    },
    {
      "cell_type": "code",
      "source": [
        "#Vamos fazer aqui um agrupamento dos nossos dados por Precinct', 'Sector', 'Subject_ID, e vamos aplicar a função count para contar os \n",
        "#dados das outras colunas\n",
        "dados_agrupados = dados.groupby(['Precinct', 'Sector', 'Subject_ID']).count()\n"
      ],
      "metadata": {
        "id": "1C5MD7li9kKK"
      },
      "execution_count": 243,
      "outputs": []
    },
    {
      "cell_type": "code",
      "source": [
        "dados_agrupados"
      ],
      "metadata": {
        "id": "YCEQaC0N_F0k",
        "colab": {
          "base_uri": "https://localhost:8080/",
          "height": 455
        },
        "outputId": "5c7402c8-ee9c-44e7-ce04-72339cd200ec"
      },
      "execution_count": 244,
      "outputs": [
        {
          "output_type": "execute_result",
          "data": {
            "text/plain": [
              "                             ID  Incident_Num  Incident_Type  \\\n",
              "Precinct Sector  Subject_ID                                    \n",
              "East     CHARLIE 121          1             1              1   \n",
              "                 169          1             1              1   \n",
              "                 170          1             1              1   \n",
              "                 171          1             1              1   \n",
              "                 203          1             1              1   \n",
              "...                          ..           ...            ...   \n",
              "West     QUEEN   27521        2             2              2   \n",
              "                 27555        2             2              2   \n",
              "                 27811        1             1              1   \n",
              "                 27920        1             1              1   \n",
              "                 28041        4             4              4   \n",
              "\n",
              "                             Occured_date_time  Beat  Officer_ID  \\\n",
              "Precinct Sector  Subject_ID                                        \n",
              "East     CHARLIE 121                         1     1           1   \n",
              "                 169                         1     1           1   \n",
              "                 170                         1     1           1   \n",
              "                 171                         1     1           1   \n",
              "                 203                         1     1           1   \n",
              "...                                        ...   ...         ...   \n",
              "West     QUEEN   27521                       2     2           2   \n",
              "                 27555                       2     2           2   \n",
              "                 27811                       1     1           1   \n",
              "                 27920                       1     1           1   \n",
              "                 28041                       4     4           4   \n",
              "\n",
              "                             Subject_Race  Subject_Gender  \n",
              "Precinct Sector  Subject_ID                                \n",
              "East     CHARLIE 121                    1               0  \n",
              "                 169                    1               1  \n",
              "                 170                    1               1  \n",
              "                 171                    1               1  \n",
              "                 203                    1               1  \n",
              "...                                   ...             ...  \n",
              "West     QUEEN   27521                  2               2  \n",
              "                 27555                  2               2  \n",
              "                 27811                  1               1  \n",
              "                 27920                  1               1  \n",
              "                 28041                  4               4  \n",
              "\n",
              "[7959 rows x 8 columns]"
            ],
            "text/html": [
              "\n",
              "  <div id=\"df-3302b9d4-22c6-46ef-b8c6-13bab8a7a421\">\n",
              "    <div class=\"colab-df-container\">\n",
              "      <div>\n",
              "<style scoped>\n",
              "    .dataframe tbody tr th:only-of-type {\n",
              "        vertical-align: middle;\n",
              "    }\n",
              "\n",
              "    .dataframe tbody tr th {\n",
              "        vertical-align: top;\n",
              "    }\n",
              "\n",
              "    .dataframe thead th {\n",
              "        text-align: right;\n",
              "    }\n",
              "</style>\n",
              "<table border=\"1\" class=\"dataframe\">\n",
              "  <thead>\n",
              "    <tr style=\"text-align: right;\">\n",
              "      <th></th>\n",
              "      <th></th>\n",
              "      <th></th>\n",
              "      <th>ID</th>\n",
              "      <th>Incident_Num</th>\n",
              "      <th>Incident_Type</th>\n",
              "      <th>Occured_date_time</th>\n",
              "      <th>Beat</th>\n",
              "      <th>Officer_ID</th>\n",
              "      <th>Subject_Race</th>\n",
              "      <th>Subject_Gender</th>\n",
              "    </tr>\n",
              "    <tr>\n",
              "      <th>Precinct</th>\n",
              "      <th>Sector</th>\n",
              "      <th>Subject_ID</th>\n",
              "      <th></th>\n",
              "      <th></th>\n",
              "      <th></th>\n",
              "      <th></th>\n",
              "      <th></th>\n",
              "      <th></th>\n",
              "      <th></th>\n",
              "      <th></th>\n",
              "    </tr>\n",
              "  </thead>\n",
              "  <tbody>\n",
              "    <tr>\n",
              "      <th rowspan=\"5\" valign=\"top\">East</th>\n",
              "      <th rowspan=\"5\" valign=\"top\">CHARLIE</th>\n",
              "      <th>121</th>\n",
              "      <td>1</td>\n",
              "      <td>1</td>\n",
              "      <td>1</td>\n",
              "      <td>1</td>\n",
              "      <td>1</td>\n",
              "      <td>1</td>\n",
              "      <td>1</td>\n",
              "      <td>0</td>\n",
              "    </tr>\n",
              "    <tr>\n",
              "      <th>169</th>\n",
              "      <td>1</td>\n",
              "      <td>1</td>\n",
              "      <td>1</td>\n",
              "      <td>1</td>\n",
              "      <td>1</td>\n",
              "      <td>1</td>\n",
              "      <td>1</td>\n",
              "      <td>1</td>\n",
              "    </tr>\n",
              "    <tr>\n",
              "      <th>170</th>\n",
              "      <td>1</td>\n",
              "      <td>1</td>\n",
              "      <td>1</td>\n",
              "      <td>1</td>\n",
              "      <td>1</td>\n",
              "      <td>1</td>\n",
              "      <td>1</td>\n",
              "      <td>1</td>\n",
              "    </tr>\n",
              "    <tr>\n",
              "      <th>171</th>\n",
              "      <td>1</td>\n",
              "      <td>1</td>\n",
              "      <td>1</td>\n",
              "      <td>1</td>\n",
              "      <td>1</td>\n",
              "      <td>1</td>\n",
              "      <td>1</td>\n",
              "      <td>1</td>\n",
              "    </tr>\n",
              "    <tr>\n",
              "      <th>203</th>\n",
              "      <td>1</td>\n",
              "      <td>1</td>\n",
              "      <td>1</td>\n",
              "      <td>1</td>\n",
              "      <td>1</td>\n",
              "      <td>1</td>\n",
              "      <td>1</td>\n",
              "      <td>1</td>\n",
              "    </tr>\n",
              "    <tr>\n",
              "      <th>...</th>\n",
              "      <th>...</th>\n",
              "      <th>...</th>\n",
              "      <td>...</td>\n",
              "      <td>...</td>\n",
              "      <td>...</td>\n",
              "      <td>...</td>\n",
              "      <td>...</td>\n",
              "      <td>...</td>\n",
              "      <td>...</td>\n",
              "      <td>...</td>\n",
              "    </tr>\n",
              "    <tr>\n",
              "      <th rowspan=\"5\" valign=\"top\">West</th>\n",
              "      <th rowspan=\"5\" valign=\"top\">QUEEN</th>\n",
              "      <th>27521</th>\n",
              "      <td>2</td>\n",
              "      <td>2</td>\n",
              "      <td>2</td>\n",
              "      <td>2</td>\n",
              "      <td>2</td>\n",
              "      <td>2</td>\n",
              "      <td>2</td>\n",
              "      <td>2</td>\n",
              "    </tr>\n",
              "    <tr>\n",
              "      <th>27555</th>\n",
              "      <td>2</td>\n",
              "      <td>2</td>\n",
              "      <td>2</td>\n",
              "      <td>2</td>\n",
              "      <td>2</td>\n",
              "      <td>2</td>\n",
              "      <td>2</td>\n",
              "      <td>2</td>\n",
              "    </tr>\n",
              "    <tr>\n",
              "      <th>27811</th>\n",
              "      <td>1</td>\n",
              "      <td>1</td>\n",
              "      <td>1</td>\n",
              "      <td>1</td>\n",
              "      <td>1</td>\n",
              "      <td>1</td>\n",
              "      <td>1</td>\n",
              "      <td>1</td>\n",
              "    </tr>\n",
              "    <tr>\n",
              "      <th>27920</th>\n",
              "      <td>1</td>\n",
              "      <td>1</td>\n",
              "      <td>1</td>\n",
              "      <td>1</td>\n",
              "      <td>1</td>\n",
              "      <td>1</td>\n",
              "      <td>1</td>\n",
              "      <td>1</td>\n",
              "    </tr>\n",
              "    <tr>\n",
              "      <th>28041</th>\n",
              "      <td>4</td>\n",
              "      <td>4</td>\n",
              "      <td>4</td>\n",
              "      <td>4</td>\n",
              "      <td>4</td>\n",
              "      <td>4</td>\n",
              "      <td>4</td>\n",
              "      <td>4</td>\n",
              "    </tr>\n",
              "  </tbody>\n",
              "</table>\n",
              "<p>7959 rows × 8 columns</p>\n",
              "</div>\n",
              "      <button class=\"colab-df-convert\" onclick=\"convertToInteractive('df-3302b9d4-22c6-46ef-b8c6-13bab8a7a421')\"\n",
              "              title=\"Convert this dataframe to an interactive table.\"\n",
              "              style=\"display:none;\">\n",
              "        \n",
              "  <svg xmlns=\"http://www.w3.org/2000/svg\" height=\"24px\"viewBox=\"0 0 24 24\"\n",
              "       width=\"24px\">\n",
              "    <path d=\"M0 0h24v24H0V0z\" fill=\"none\"/>\n",
              "    <path d=\"M18.56 5.44l.94 2.06.94-2.06 2.06-.94-2.06-.94-.94-2.06-.94 2.06-2.06.94zm-11 1L8.5 8.5l.94-2.06 2.06-.94-2.06-.94L8.5 2.5l-.94 2.06-2.06.94zm10 10l.94 2.06.94-2.06 2.06-.94-2.06-.94-.94-2.06-.94 2.06-2.06.94z\"/><path d=\"M17.41 7.96l-1.37-1.37c-.4-.4-.92-.59-1.43-.59-.52 0-1.04.2-1.43.59L10.3 9.45l-7.72 7.72c-.78.78-.78 2.05 0 2.83L4 21.41c.39.39.9.59 1.41.59.51 0 1.02-.2 1.41-.59l7.78-7.78 2.81-2.81c.8-.78.8-2.07 0-2.86zM5.41 20L4 18.59l7.72-7.72 1.47 1.35L5.41 20z\"/>\n",
              "  </svg>\n",
              "      </button>\n",
              "      \n",
              "  <style>\n",
              "    .colab-df-container {\n",
              "      display:flex;\n",
              "      flex-wrap:wrap;\n",
              "      gap: 12px;\n",
              "    }\n",
              "\n",
              "    .colab-df-convert {\n",
              "      background-color: #E8F0FE;\n",
              "      border: none;\n",
              "      border-radius: 50%;\n",
              "      cursor: pointer;\n",
              "      display: none;\n",
              "      fill: #1967D2;\n",
              "      height: 32px;\n",
              "      padding: 0 0 0 0;\n",
              "      width: 32px;\n",
              "    }\n",
              "\n",
              "    .colab-df-convert:hover {\n",
              "      background-color: #E2EBFA;\n",
              "      box-shadow: 0px 1px 2px rgba(60, 64, 67, 0.3), 0px 1px 3px 1px rgba(60, 64, 67, 0.15);\n",
              "      fill: #174EA6;\n",
              "    }\n",
              "\n",
              "    [theme=dark] .colab-df-convert {\n",
              "      background-color: #3B4455;\n",
              "      fill: #D2E3FC;\n",
              "    }\n",
              "\n",
              "    [theme=dark] .colab-df-convert:hover {\n",
              "      background-color: #434B5C;\n",
              "      box-shadow: 0px 1px 3px 1px rgba(0, 0, 0, 0.15);\n",
              "      filter: drop-shadow(0px 1px 2px rgba(0, 0, 0, 0.3));\n",
              "      fill: #FFFFFF;\n",
              "    }\n",
              "  </style>\n",
              "\n",
              "      <script>\n",
              "        const buttonEl =\n",
              "          document.querySelector('#df-3302b9d4-22c6-46ef-b8c6-13bab8a7a421 button.colab-df-convert');\n",
              "        buttonEl.style.display =\n",
              "          google.colab.kernel.accessAllowed ? 'block' : 'none';\n",
              "\n",
              "        async function convertToInteractive(key) {\n",
              "          const element = document.querySelector('#df-3302b9d4-22c6-46ef-b8c6-13bab8a7a421');\n",
              "          const dataTable =\n",
              "            await google.colab.kernel.invokeFunction('convertToInteractive',\n",
              "                                                     [key], {});\n",
              "          if (!dataTable) return;\n",
              "\n",
              "          const docLinkHtml = 'Like what you see? Visit the ' +\n",
              "            '<a target=\"_blank\" href=https://colab.research.google.com/notebooks/data_table.ipynb>data table notebook</a>'\n",
              "            + ' to learn more about interactive tables.';\n",
              "          element.innerHTML = '';\n",
              "          dataTable['output_type'] = 'display_data';\n",
              "          await google.colab.output.renderOutput(dataTable, element);\n",
              "          const docLink = document.createElement('div');\n",
              "          docLink.innerHTML = docLinkHtml;\n",
              "          element.appendChild(docLink);\n",
              "        }\n",
              "      </script>\n",
              "    </div>\n",
              "  </div>\n",
              "  "
            ]
          },
          "metadata": {},
          "execution_count": 244
        }
      ]
    },
    {
      "cell_type": "code",
      "source": [
        "#agora vamos selecionar aqui a coluna 'Incident_Num'\n",
        "dados_agrupados = dados_agrupados[['Incident_Num']]\n",
        "dados_agrupados "
      ],
      "metadata": {
        "id": "bqrcIkyA_D2j",
        "colab": {
          "base_uri": "https://localhost:8080/",
          "height": 455
        },
        "outputId": "c154a5b6-8e0b-4197-b449-eb2105780967"
      },
      "execution_count": 245,
      "outputs": [
        {
          "output_type": "execute_result",
          "data": {
            "text/plain": [
              "                             Incident_Num\n",
              "Precinct Sector  Subject_ID              \n",
              "East     CHARLIE 121                    1\n",
              "                 169                    1\n",
              "                 170                    1\n",
              "                 171                    1\n",
              "                 203                    1\n",
              "...                                   ...\n",
              "West     QUEEN   27521                  2\n",
              "                 27555                  2\n",
              "                 27811                  1\n",
              "                 27920                  1\n",
              "                 28041                  4\n",
              "\n",
              "[7959 rows x 1 columns]"
            ],
            "text/html": [
              "\n",
              "  <div id=\"df-d2455acd-23e6-4b99-b5aa-6d76c38a23a5\">\n",
              "    <div class=\"colab-df-container\">\n",
              "      <div>\n",
              "<style scoped>\n",
              "    .dataframe tbody tr th:only-of-type {\n",
              "        vertical-align: middle;\n",
              "    }\n",
              "\n",
              "    .dataframe tbody tr th {\n",
              "        vertical-align: top;\n",
              "    }\n",
              "\n",
              "    .dataframe thead th {\n",
              "        text-align: right;\n",
              "    }\n",
              "</style>\n",
              "<table border=\"1\" class=\"dataframe\">\n",
              "  <thead>\n",
              "    <tr style=\"text-align: right;\">\n",
              "      <th></th>\n",
              "      <th></th>\n",
              "      <th></th>\n",
              "      <th>Incident_Num</th>\n",
              "    </tr>\n",
              "    <tr>\n",
              "      <th>Precinct</th>\n",
              "      <th>Sector</th>\n",
              "      <th>Subject_ID</th>\n",
              "      <th></th>\n",
              "    </tr>\n",
              "  </thead>\n",
              "  <tbody>\n",
              "    <tr>\n",
              "      <th rowspan=\"5\" valign=\"top\">East</th>\n",
              "      <th rowspan=\"5\" valign=\"top\">CHARLIE</th>\n",
              "      <th>121</th>\n",
              "      <td>1</td>\n",
              "    </tr>\n",
              "    <tr>\n",
              "      <th>169</th>\n",
              "      <td>1</td>\n",
              "    </tr>\n",
              "    <tr>\n",
              "      <th>170</th>\n",
              "      <td>1</td>\n",
              "    </tr>\n",
              "    <tr>\n",
              "      <th>171</th>\n",
              "      <td>1</td>\n",
              "    </tr>\n",
              "    <tr>\n",
              "      <th>203</th>\n",
              "      <td>1</td>\n",
              "    </tr>\n",
              "    <tr>\n",
              "      <th>...</th>\n",
              "      <th>...</th>\n",
              "      <th>...</th>\n",
              "      <td>...</td>\n",
              "    </tr>\n",
              "    <tr>\n",
              "      <th rowspan=\"5\" valign=\"top\">West</th>\n",
              "      <th rowspan=\"5\" valign=\"top\">QUEEN</th>\n",
              "      <th>27521</th>\n",
              "      <td>2</td>\n",
              "    </tr>\n",
              "    <tr>\n",
              "      <th>27555</th>\n",
              "      <td>2</td>\n",
              "    </tr>\n",
              "    <tr>\n",
              "      <th>27811</th>\n",
              "      <td>1</td>\n",
              "    </tr>\n",
              "    <tr>\n",
              "      <th>27920</th>\n",
              "      <td>1</td>\n",
              "    </tr>\n",
              "    <tr>\n",
              "      <th>28041</th>\n",
              "      <td>4</td>\n",
              "    </tr>\n",
              "  </tbody>\n",
              "</table>\n",
              "<p>7959 rows × 1 columns</p>\n",
              "</div>\n",
              "      <button class=\"colab-df-convert\" onclick=\"convertToInteractive('df-d2455acd-23e6-4b99-b5aa-6d76c38a23a5')\"\n",
              "              title=\"Convert this dataframe to an interactive table.\"\n",
              "              style=\"display:none;\">\n",
              "        \n",
              "  <svg xmlns=\"http://www.w3.org/2000/svg\" height=\"24px\"viewBox=\"0 0 24 24\"\n",
              "       width=\"24px\">\n",
              "    <path d=\"M0 0h24v24H0V0z\" fill=\"none\"/>\n",
              "    <path d=\"M18.56 5.44l.94 2.06.94-2.06 2.06-.94-2.06-.94-.94-2.06-.94 2.06-2.06.94zm-11 1L8.5 8.5l.94-2.06 2.06-.94-2.06-.94L8.5 2.5l-.94 2.06-2.06.94zm10 10l.94 2.06.94-2.06 2.06-.94-2.06-.94-.94-2.06-.94 2.06-2.06.94z\"/><path d=\"M17.41 7.96l-1.37-1.37c-.4-.4-.92-.59-1.43-.59-.52 0-1.04.2-1.43.59L10.3 9.45l-7.72 7.72c-.78.78-.78 2.05 0 2.83L4 21.41c.39.39.9.59 1.41.59.51 0 1.02-.2 1.41-.59l7.78-7.78 2.81-2.81c.8-.78.8-2.07 0-2.86zM5.41 20L4 18.59l7.72-7.72 1.47 1.35L5.41 20z\"/>\n",
              "  </svg>\n",
              "      </button>\n",
              "      \n",
              "  <style>\n",
              "    .colab-df-container {\n",
              "      display:flex;\n",
              "      flex-wrap:wrap;\n",
              "      gap: 12px;\n",
              "    }\n",
              "\n",
              "    .colab-df-convert {\n",
              "      background-color: #E8F0FE;\n",
              "      border: none;\n",
              "      border-radius: 50%;\n",
              "      cursor: pointer;\n",
              "      display: none;\n",
              "      fill: #1967D2;\n",
              "      height: 32px;\n",
              "      padding: 0 0 0 0;\n",
              "      width: 32px;\n",
              "    }\n",
              "\n",
              "    .colab-df-convert:hover {\n",
              "      background-color: #E2EBFA;\n",
              "      box-shadow: 0px 1px 2px rgba(60, 64, 67, 0.3), 0px 1px 3px 1px rgba(60, 64, 67, 0.15);\n",
              "      fill: #174EA6;\n",
              "    }\n",
              "\n",
              "    [theme=dark] .colab-df-convert {\n",
              "      background-color: #3B4455;\n",
              "      fill: #D2E3FC;\n",
              "    }\n",
              "\n",
              "    [theme=dark] .colab-df-convert:hover {\n",
              "      background-color: #434B5C;\n",
              "      box-shadow: 0px 1px 3px 1px rgba(0, 0, 0, 0.15);\n",
              "      filter: drop-shadow(0px 1px 2px rgba(0, 0, 0, 0.3));\n",
              "      fill: #FFFFFF;\n",
              "    }\n",
              "  </style>\n",
              "\n",
              "      <script>\n",
              "        const buttonEl =\n",
              "          document.querySelector('#df-d2455acd-23e6-4b99-b5aa-6d76c38a23a5 button.colab-df-convert');\n",
              "        buttonEl.style.display =\n",
              "          google.colab.kernel.accessAllowed ? 'block' : 'none';\n",
              "\n",
              "        async function convertToInteractive(key) {\n",
              "          const element = document.querySelector('#df-d2455acd-23e6-4b99-b5aa-6d76c38a23a5');\n",
              "          const dataTable =\n",
              "            await google.colab.kernel.invokeFunction('convertToInteractive',\n",
              "                                                     [key], {});\n",
              "          if (!dataTable) return;\n",
              "\n",
              "          const docLinkHtml = 'Like what you see? Visit the ' +\n",
              "            '<a target=\"_blank\" href=https://colab.research.google.com/notebooks/data_table.ipynb>data table notebook</a>'\n",
              "            + ' to learn more about interactive tables.';\n",
              "          element.innerHTML = '';\n",
              "          dataTable['output_type'] = 'display_data';\n",
              "          await google.colab.output.renderOutput(dataTable, element);\n",
              "          const docLink = document.createElement('div');\n",
              "          docLink.innerHTML = docLinkHtml;\n",
              "          element.appendChild(docLink);\n",
              "        }\n",
              "      </script>\n",
              "    </div>\n",
              "  </div>\n",
              "  "
            ]
          },
          "metadata": {},
          "execution_count": 245
        }
      ]
    },
    {
      "cell_type": "code",
      "source": [
        "# Quando houver reincidência, ou seja, quando o incidente ocorrer mais de uma vez,  vamos acrescentar um campo \n",
        "# denominado 'Reincidencia', ele será basicamente\n",
        "#uma coluna de verdadeiro(se houver reincidência ) ou falso(caso não tenhamos reincidência).\n",
        "\n",
        "dados_agrupados.loc[dados_agrupados['Incident_Num'] >= 2, 'Reincidencia'] = True\n",
        "dados_agrupados.loc[dados_agrupados['Incident_Num'] == 1, 'Reincidencia'] = False\n",
        "\n",
        "#vamos ver como ficou nosso dataframe\n",
        "dados_agrupados_count = dados_agrupados.groupby(['Precinct', 'Sector', 'Reincidencia']).count()"
      ],
      "metadata": {
        "id": "D6kvBnGu_TV8",
        "colab": {
          "base_uri": "https://localhost:8080/",
          "height": 0
        },
        "outputId": "c40cbb70-3b69-4fd8-f4ad-6f9c9682cbe7"
      },
      "execution_count": 246,
      "outputs": [
        {
          "output_type": "stream",
          "name": "stderr",
          "text": [
            "/usr/local/lib/python3.7/dist-packages/pandas/core/indexing.py:1684: SettingWithCopyWarning: \n",
            "A value is trying to be set on a copy of a slice from a DataFrame.\n",
            "Try using .loc[row_indexer,col_indexer] = value instead\n",
            "\n",
            "See the caveats in the documentation: https://pandas.pydata.org/pandas-docs/stable/user_guide/indexing.html#returning-a-view-versus-a-copy\n",
            "  self.obj[key] = infer_fill_value(value)\n",
            "/usr/local/lib/python3.7/dist-packages/pandas/core/indexing.py:1817: SettingWithCopyWarning: \n",
            "A value is trying to be set on a copy of a slice from a DataFrame.\n",
            "Try using .loc[row_indexer,col_indexer] = value instead\n",
            "\n",
            "See the caveats in the documentation: https://pandas.pydata.org/pandas-docs/stable/user_guide/indexing.html#returning-a-view-versus-a-copy\n",
            "  self._setitem_single_column(loc, value, pi)\n"
          ]
        }
      ]
    },
    {
      "cell_type": "markdown",
      "source": [
        "Vamos ver como está nosso dataframe Reincidencia dados_agrupados_count"
      ],
      "metadata": {
        "id": "4X5uVyIy8xIu"
      }
    },
    {
      "cell_type": "code",
      "source": [
        "dados_agrupados_count"
      ],
      "metadata": {
        "id": "sjD_mXp__i4v",
        "colab": {
          "base_uri": "https://localhost:8080/",
          "height": 1178
        },
        "outputId": "6cd8e55f-452c-41f9-b8f6-675a4f271812"
      },
      "execution_count": 247,
      "outputs": [
        {
          "output_type": "execute_result",
          "data": {
            "text/plain": [
              "                                Incident_Num\n",
              "Precinct  Sector  Reincidencia              \n",
              "East      CHARLIE False                  199\n",
              "                  True                    90\n",
              "          EDWARD  False                  617\n",
              "                  True                   312\n",
              "          GEORGE  False                  241\n",
              "                  True                   153\n",
              "North     BOY     False                  190\n",
              "                  True                   123\n",
              "          JOHN    False                  183\n",
              "                  True                    96\n",
              "          LINCOLN False                  239\n",
              "                  True                   146\n",
              "          NORA    False                  389\n",
              "                  True                   181\n",
              "          UNION   False                  211\n",
              "                  True                   142\n",
              "South     OCEAN   False                  242\n",
              "                  True                   115\n",
              "          ROBERT  False                  416\n",
              "                  True                   161\n",
              "          SAM     False                  425\n",
              "                  True                   182\n",
              "          UNION   False                    1\n",
              "Southwest FRANK   False                  191\n",
              "                  True                    92\n",
              "          WILLIAM False                  125\n",
              "                  True                    80\n",
              "West      DAVID   False                  400\n",
              "                  True                   214\n",
              "          KING    False                  587\n",
              "                  True                   299\n",
              "          MARY    False                  404\n",
              "                  True                   209\n",
              "          QUEEN   False                  199\n",
              "                  True                   105"
            ],
            "text/html": [
              "\n",
              "  <div id=\"df-636af366-dc84-49f8-b452-78c275f418ae\">\n",
              "    <div class=\"colab-df-container\">\n",
              "      <div>\n",
              "<style scoped>\n",
              "    .dataframe tbody tr th:only-of-type {\n",
              "        vertical-align: middle;\n",
              "    }\n",
              "\n",
              "    .dataframe tbody tr th {\n",
              "        vertical-align: top;\n",
              "    }\n",
              "\n",
              "    .dataframe thead th {\n",
              "        text-align: right;\n",
              "    }\n",
              "</style>\n",
              "<table border=\"1\" class=\"dataframe\">\n",
              "  <thead>\n",
              "    <tr style=\"text-align: right;\">\n",
              "      <th></th>\n",
              "      <th></th>\n",
              "      <th></th>\n",
              "      <th>Incident_Num</th>\n",
              "    </tr>\n",
              "    <tr>\n",
              "      <th>Precinct</th>\n",
              "      <th>Sector</th>\n",
              "      <th>Reincidencia</th>\n",
              "      <th></th>\n",
              "    </tr>\n",
              "  </thead>\n",
              "  <tbody>\n",
              "    <tr>\n",
              "      <th rowspan=\"6\" valign=\"top\">East</th>\n",
              "      <th rowspan=\"2\" valign=\"top\">CHARLIE</th>\n",
              "      <th>False</th>\n",
              "      <td>199</td>\n",
              "    </tr>\n",
              "    <tr>\n",
              "      <th>True</th>\n",
              "      <td>90</td>\n",
              "    </tr>\n",
              "    <tr>\n",
              "      <th rowspan=\"2\" valign=\"top\">EDWARD</th>\n",
              "      <th>False</th>\n",
              "      <td>617</td>\n",
              "    </tr>\n",
              "    <tr>\n",
              "      <th>True</th>\n",
              "      <td>312</td>\n",
              "    </tr>\n",
              "    <tr>\n",
              "      <th rowspan=\"2\" valign=\"top\">GEORGE</th>\n",
              "      <th>False</th>\n",
              "      <td>241</td>\n",
              "    </tr>\n",
              "    <tr>\n",
              "      <th>True</th>\n",
              "      <td>153</td>\n",
              "    </tr>\n",
              "    <tr>\n",
              "      <th rowspan=\"10\" valign=\"top\">North</th>\n",
              "      <th rowspan=\"2\" valign=\"top\">BOY</th>\n",
              "      <th>False</th>\n",
              "      <td>190</td>\n",
              "    </tr>\n",
              "    <tr>\n",
              "      <th>True</th>\n",
              "      <td>123</td>\n",
              "    </tr>\n",
              "    <tr>\n",
              "      <th rowspan=\"2\" valign=\"top\">JOHN</th>\n",
              "      <th>False</th>\n",
              "      <td>183</td>\n",
              "    </tr>\n",
              "    <tr>\n",
              "      <th>True</th>\n",
              "      <td>96</td>\n",
              "    </tr>\n",
              "    <tr>\n",
              "      <th rowspan=\"2\" valign=\"top\">LINCOLN</th>\n",
              "      <th>False</th>\n",
              "      <td>239</td>\n",
              "    </tr>\n",
              "    <tr>\n",
              "      <th>True</th>\n",
              "      <td>146</td>\n",
              "    </tr>\n",
              "    <tr>\n",
              "      <th rowspan=\"2\" valign=\"top\">NORA</th>\n",
              "      <th>False</th>\n",
              "      <td>389</td>\n",
              "    </tr>\n",
              "    <tr>\n",
              "      <th>True</th>\n",
              "      <td>181</td>\n",
              "    </tr>\n",
              "    <tr>\n",
              "      <th rowspan=\"2\" valign=\"top\">UNION</th>\n",
              "      <th>False</th>\n",
              "      <td>211</td>\n",
              "    </tr>\n",
              "    <tr>\n",
              "      <th>True</th>\n",
              "      <td>142</td>\n",
              "    </tr>\n",
              "    <tr>\n",
              "      <th rowspan=\"7\" valign=\"top\">South</th>\n",
              "      <th rowspan=\"2\" valign=\"top\">OCEAN</th>\n",
              "      <th>False</th>\n",
              "      <td>242</td>\n",
              "    </tr>\n",
              "    <tr>\n",
              "      <th>True</th>\n",
              "      <td>115</td>\n",
              "    </tr>\n",
              "    <tr>\n",
              "      <th rowspan=\"2\" valign=\"top\">ROBERT</th>\n",
              "      <th>False</th>\n",
              "      <td>416</td>\n",
              "    </tr>\n",
              "    <tr>\n",
              "      <th>True</th>\n",
              "      <td>161</td>\n",
              "    </tr>\n",
              "    <tr>\n",
              "      <th rowspan=\"2\" valign=\"top\">SAM</th>\n",
              "      <th>False</th>\n",
              "      <td>425</td>\n",
              "    </tr>\n",
              "    <tr>\n",
              "      <th>True</th>\n",
              "      <td>182</td>\n",
              "    </tr>\n",
              "    <tr>\n",
              "      <th>UNION</th>\n",
              "      <th>False</th>\n",
              "      <td>1</td>\n",
              "    </tr>\n",
              "    <tr>\n",
              "      <th rowspan=\"4\" valign=\"top\">Southwest</th>\n",
              "      <th rowspan=\"2\" valign=\"top\">FRANK</th>\n",
              "      <th>False</th>\n",
              "      <td>191</td>\n",
              "    </tr>\n",
              "    <tr>\n",
              "      <th>True</th>\n",
              "      <td>92</td>\n",
              "    </tr>\n",
              "    <tr>\n",
              "      <th rowspan=\"2\" valign=\"top\">WILLIAM</th>\n",
              "      <th>False</th>\n",
              "      <td>125</td>\n",
              "    </tr>\n",
              "    <tr>\n",
              "      <th>True</th>\n",
              "      <td>80</td>\n",
              "    </tr>\n",
              "    <tr>\n",
              "      <th rowspan=\"8\" valign=\"top\">West</th>\n",
              "      <th rowspan=\"2\" valign=\"top\">DAVID</th>\n",
              "      <th>False</th>\n",
              "      <td>400</td>\n",
              "    </tr>\n",
              "    <tr>\n",
              "      <th>True</th>\n",
              "      <td>214</td>\n",
              "    </tr>\n",
              "    <tr>\n",
              "      <th rowspan=\"2\" valign=\"top\">KING</th>\n",
              "      <th>False</th>\n",
              "      <td>587</td>\n",
              "    </tr>\n",
              "    <tr>\n",
              "      <th>True</th>\n",
              "      <td>299</td>\n",
              "    </tr>\n",
              "    <tr>\n",
              "      <th rowspan=\"2\" valign=\"top\">MARY</th>\n",
              "      <th>False</th>\n",
              "      <td>404</td>\n",
              "    </tr>\n",
              "    <tr>\n",
              "      <th>True</th>\n",
              "      <td>209</td>\n",
              "    </tr>\n",
              "    <tr>\n",
              "      <th rowspan=\"2\" valign=\"top\">QUEEN</th>\n",
              "      <th>False</th>\n",
              "      <td>199</td>\n",
              "    </tr>\n",
              "    <tr>\n",
              "      <th>True</th>\n",
              "      <td>105</td>\n",
              "    </tr>\n",
              "  </tbody>\n",
              "</table>\n",
              "</div>\n",
              "      <button class=\"colab-df-convert\" onclick=\"convertToInteractive('df-636af366-dc84-49f8-b452-78c275f418ae')\"\n",
              "              title=\"Convert this dataframe to an interactive table.\"\n",
              "              style=\"display:none;\">\n",
              "        \n",
              "  <svg xmlns=\"http://www.w3.org/2000/svg\" height=\"24px\"viewBox=\"0 0 24 24\"\n",
              "       width=\"24px\">\n",
              "    <path d=\"M0 0h24v24H0V0z\" fill=\"none\"/>\n",
              "    <path d=\"M18.56 5.44l.94 2.06.94-2.06 2.06-.94-2.06-.94-.94-2.06-.94 2.06-2.06.94zm-11 1L8.5 8.5l.94-2.06 2.06-.94-2.06-.94L8.5 2.5l-.94 2.06-2.06.94zm10 10l.94 2.06.94-2.06 2.06-.94-2.06-.94-.94-2.06-.94 2.06-2.06.94z\"/><path d=\"M17.41 7.96l-1.37-1.37c-.4-.4-.92-.59-1.43-.59-.52 0-1.04.2-1.43.59L10.3 9.45l-7.72 7.72c-.78.78-.78 2.05 0 2.83L4 21.41c.39.39.9.59 1.41.59.51 0 1.02-.2 1.41-.59l7.78-7.78 2.81-2.81c.8-.78.8-2.07 0-2.86zM5.41 20L4 18.59l7.72-7.72 1.47 1.35L5.41 20z\"/>\n",
              "  </svg>\n",
              "      </button>\n",
              "      \n",
              "  <style>\n",
              "    .colab-df-container {\n",
              "      display:flex;\n",
              "      flex-wrap:wrap;\n",
              "      gap: 12px;\n",
              "    }\n",
              "\n",
              "    .colab-df-convert {\n",
              "      background-color: #E8F0FE;\n",
              "      border: none;\n",
              "      border-radius: 50%;\n",
              "      cursor: pointer;\n",
              "      display: none;\n",
              "      fill: #1967D2;\n",
              "      height: 32px;\n",
              "      padding: 0 0 0 0;\n",
              "      width: 32px;\n",
              "    }\n",
              "\n",
              "    .colab-df-convert:hover {\n",
              "      background-color: #E2EBFA;\n",
              "      box-shadow: 0px 1px 2px rgba(60, 64, 67, 0.3), 0px 1px 3px 1px rgba(60, 64, 67, 0.15);\n",
              "      fill: #174EA6;\n",
              "    }\n",
              "\n",
              "    [theme=dark] .colab-df-convert {\n",
              "      background-color: #3B4455;\n",
              "      fill: #D2E3FC;\n",
              "    }\n",
              "\n",
              "    [theme=dark] .colab-df-convert:hover {\n",
              "      background-color: #434B5C;\n",
              "      box-shadow: 0px 1px 3px 1px rgba(0, 0, 0, 0.15);\n",
              "      filter: drop-shadow(0px 1px 2px rgba(0, 0, 0, 0.3));\n",
              "      fill: #FFFFFF;\n",
              "    }\n",
              "  </style>\n",
              "\n",
              "      <script>\n",
              "        const buttonEl =\n",
              "          document.querySelector('#df-636af366-dc84-49f8-b452-78c275f418ae button.colab-df-convert');\n",
              "        buttonEl.style.display =\n",
              "          google.colab.kernel.accessAllowed ? 'block' : 'none';\n",
              "\n",
              "        async function convertToInteractive(key) {\n",
              "          const element = document.querySelector('#df-636af366-dc84-49f8-b452-78c275f418ae');\n",
              "          const dataTable =\n",
              "            await google.colab.kernel.invokeFunction('convertToInteractive',\n",
              "                                                     [key], {});\n",
              "          if (!dataTable) return;\n",
              "\n",
              "          const docLinkHtml = 'Like what you see? Visit the ' +\n",
              "            '<a target=\"_blank\" href=https://colab.research.google.com/notebooks/data_table.ipynb>data table notebook</a>'\n",
              "            + ' to learn more about interactive tables.';\n",
              "          element.innerHTML = '';\n",
              "          dataTable['output_type'] = 'display_data';\n",
              "          await google.colab.output.renderOutput(dataTable, element);\n",
              "          const docLink = document.createElement('div');\n",
              "          docLink.innerHTML = docLinkHtml;\n",
              "          element.appendChild(docLink);\n",
              "        }\n",
              "      </script>\n",
              "    </div>\n",
              "  </div>\n",
              "  "
            ]
          },
          "metadata": {},
          "execution_count": 247
        }
      ]
    },
    {
      "cell_type": "markdown",
      "source": [
        "Aqui temos um agrupamento por Precint , Sector e para cada um deles temos a quantidade de reincidentes(TRUE) e não reicidentes(FALSE)"
      ],
      "metadata": {
        "id": "pGuK4Ef785HV"
      }
    },
    {
      "cell_type": "code",
      "source": [
        "# Vamos agora calculcar agora a porcentagem de reicidentes e não reicidentes para cada \n",
        "#Sector pertecente a cada Precinct\n",
        "\n",
        "dados_agrupados_count = dados_agrupados_count.groupby(level=1).apply(lambda x: x * 100/ x.sum())\n",
        "dados_agrupados_count"
      ],
      "metadata": {
        "id": "V2pIYDCc_nGE",
        "colab": {
          "base_uri": "https://localhost:8080/",
          "height": 1178
        },
        "outputId": "2e01e512-f173-420c-b048-73fde41e0246"
      },
      "execution_count": 248,
      "outputs": [
        {
          "output_type": "execute_result",
          "data": {
            "text/plain": [
              "                                Incident_Num\n",
              "Precinct  Sector  Reincidencia              \n",
              "East      CHARLIE False            68.858131\n",
              "                  True             31.141869\n",
              "          EDWARD  False            66.415501\n",
              "                  True             33.584499\n",
              "          GEORGE  False            61.167513\n",
              "                  True             38.832487\n",
              "North     BOY     False            60.702875\n",
              "                  True             39.297125\n",
              "          JOHN    False            65.591398\n",
              "                  True             34.408602\n",
              "          LINCOLN False            62.077922\n",
              "                  True             37.922078\n",
              "          NORA    False            68.245614\n",
              "                  True             31.754386\n",
              "          UNION   False            59.604520\n",
              "                  True             40.112994\n",
              "South     OCEAN   False            67.787115\n",
              "                  True             32.212885\n",
              "          ROBERT  False            72.097054\n",
              "                  True             27.902946\n",
              "          SAM     False            70.016474\n",
              "                  True             29.983526\n",
              "          UNION   False             0.282486\n",
              "Southwest FRANK   False            67.491166\n",
              "                  True             32.508834\n",
              "          WILLIAM False            60.975610\n",
              "                  True             39.024390\n",
              "West      DAVID   False            65.146580\n",
              "                  True             34.853420\n",
              "          KING    False            66.252822\n",
              "                  True             33.747178\n",
              "          MARY    False            65.905383\n",
              "                  True             34.094617\n",
              "          QUEEN   False            65.460526\n",
              "                  True             34.539474"
            ],
            "text/html": [
              "\n",
              "  <div id=\"df-f40e36a0-08c7-414e-b9e4-4d4a0b7313ae\">\n",
              "    <div class=\"colab-df-container\">\n",
              "      <div>\n",
              "<style scoped>\n",
              "    .dataframe tbody tr th:only-of-type {\n",
              "        vertical-align: middle;\n",
              "    }\n",
              "\n",
              "    .dataframe tbody tr th {\n",
              "        vertical-align: top;\n",
              "    }\n",
              "\n",
              "    .dataframe thead th {\n",
              "        text-align: right;\n",
              "    }\n",
              "</style>\n",
              "<table border=\"1\" class=\"dataframe\">\n",
              "  <thead>\n",
              "    <tr style=\"text-align: right;\">\n",
              "      <th></th>\n",
              "      <th></th>\n",
              "      <th></th>\n",
              "      <th>Incident_Num</th>\n",
              "    </tr>\n",
              "    <tr>\n",
              "      <th>Precinct</th>\n",
              "      <th>Sector</th>\n",
              "      <th>Reincidencia</th>\n",
              "      <th></th>\n",
              "    </tr>\n",
              "  </thead>\n",
              "  <tbody>\n",
              "    <tr>\n",
              "      <th rowspan=\"6\" valign=\"top\">East</th>\n",
              "      <th rowspan=\"2\" valign=\"top\">CHARLIE</th>\n",
              "      <th>False</th>\n",
              "      <td>68.858131</td>\n",
              "    </tr>\n",
              "    <tr>\n",
              "      <th>True</th>\n",
              "      <td>31.141869</td>\n",
              "    </tr>\n",
              "    <tr>\n",
              "      <th rowspan=\"2\" valign=\"top\">EDWARD</th>\n",
              "      <th>False</th>\n",
              "      <td>66.415501</td>\n",
              "    </tr>\n",
              "    <tr>\n",
              "      <th>True</th>\n",
              "      <td>33.584499</td>\n",
              "    </tr>\n",
              "    <tr>\n",
              "      <th rowspan=\"2\" valign=\"top\">GEORGE</th>\n",
              "      <th>False</th>\n",
              "      <td>61.167513</td>\n",
              "    </tr>\n",
              "    <tr>\n",
              "      <th>True</th>\n",
              "      <td>38.832487</td>\n",
              "    </tr>\n",
              "    <tr>\n",
              "      <th rowspan=\"10\" valign=\"top\">North</th>\n",
              "      <th rowspan=\"2\" valign=\"top\">BOY</th>\n",
              "      <th>False</th>\n",
              "      <td>60.702875</td>\n",
              "    </tr>\n",
              "    <tr>\n",
              "      <th>True</th>\n",
              "      <td>39.297125</td>\n",
              "    </tr>\n",
              "    <tr>\n",
              "      <th rowspan=\"2\" valign=\"top\">JOHN</th>\n",
              "      <th>False</th>\n",
              "      <td>65.591398</td>\n",
              "    </tr>\n",
              "    <tr>\n",
              "      <th>True</th>\n",
              "      <td>34.408602</td>\n",
              "    </tr>\n",
              "    <tr>\n",
              "      <th rowspan=\"2\" valign=\"top\">LINCOLN</th>\n",
              "      <th>False</th>\n",
              "      <td>62.077922</td>\n",
              "    </tr>\n",
              "    <tr>\n",
              "      <th>True</th>\n",
              "      <td>37.922078</td>\n",
              "    </tr>\n",
              "    <tr>\n",
              "      <th rowspan=\"2\" valign=\"top\">NORA</th>\n",
              "      <th>False</th>\n",
              "      <td>68.245614</td>\n",
              "    </tr>\n",
              "    <tr>\n",
              "      <th>True</th>\n",
              "      <td>31.754386</td>\n",
              "    </tr>\n",
              "    <tr>\n",
              "      <th rowspan=\"2\" valign=\"top\">UNION</th>\n",
              "      <th>False</th>\n",
              "      <td>59.604520</td>\n",
              "    </tr>\n",
              "    <tr>\n",
              "      <th>True</th>\n",
              "      <td>40.112994</td>\n",
              "    </tr>\n",
              "    <tr>\n",
              "      <th rowspan=\"7\" valign=\"top\">South</th>\n",
              "      <th rowspan=\"2\" valign=\"top\">OCEAN</th>\n",
              "      <th>False</th>\n",
              "      <td>67.787115</td>\n",
              "    </tr>\n",
              "    <tr>\n",
              "      <th>True</th>\n",
              "      <td>32.212885</td>\n",
              "    </tr>\n",
              "    <tr>\n",
              "      <th rowspan=\"2\" valign=\"top\">ROBERT</th>\n",
              "      <th>False</th>\n",
              "      <td>72.097054</td>\n",
              "    </tr>\n",
              "    <tr>\n",
              "      <th>True</th>\n",
              "      <td>27.902946</td>\n",
              "    </tr>\n",
              "    <tr>\n",
              "      <th rowspan=\"2\" valign=\"top\">SAM</th>\n",
              "      <th>False</th>\n",
              "      <td>70.016474</td>\n",
              "    </tr>\n",
              "    <tr>\n",
              "      <th>True</th>\n",
              "      <td>29.983526</td>\n",
              "    </tr>\n",
              "    <tr>\n",
              "      <th>UNION</th>\n",
              "      <th>False</th>\n",
              "      <td>0.282486</td>\n",
              "    </tr>\n",
              "    <tr>\n",
              "      <th rowspan=\"4\" valign=\"top\">Southwest</th>\n",
              "      <th rowspan=\"2\" valign=\"top\">FRANK</th>\n",
              "      <th>False</th>\n",
              "      <td>67.491166</td>\n",
              "    </tr>\n",
              "    <tr>\n",
              "      <th>True</th>\n",
              "      <td>32.508834</td>\n",
              "    </tr>\n",
              "    <tr>\n",
              "      <th rowspan=\"2\" valign=\"top\">WILLIAM</th>\n",
              "      <th>False</th>\n",
              "      <td>60.975610</td>\n",
              "    </tr>\n",
              "    <tr>\n",
              "      <th>True</th>\n",
              "      <td>39.024390</td>\n",
              "    </tr>\n",
              "    <tr>\n",
              "      <th rowspan=\"8\" valign=\"top\">West</th>\n",
              "      <th rowspan=\"2\" valign=\"top\">DAVID</th>\n",
              "      <th>False</th>\n",
              "      <td>65.146580</td>\n",
              "    </tr>\n",
              "    <tr>\n",
              "      <th>True</th>\n",
              "      <td>34.853420</td>\n",
              "    </tr>\n",
              "    <tr>\n",
              "      <th rowspan=\"2\" valign=\"top\">KING</th>\n",
              "      <th>False</th>\n",
              "      <td>66.252822</td>\n",
              "    </tr>\n",
              "    <tr>\n",
              "      <th>True</th>\n",
              "      <td>33.747178</td>\n",
              "    </tr>\n",
              "    <tr>\n",
              "      <th rowspan=\"2\" valign=\"top\">MARY</th>\n",
              "      <th>False</th>\n",
              "      <td>65.905383</td>\n",
              "    </tr>\n",
              "    <tr>\n",
              "      <th>True</th>\n",
              "      <td>34.094617</td>\n",
              "    </tr>\n",
              "    <tr>\n",
              "      <th rowspan=\"2\" valign=\"top\">QUEEN</th>\n",
              "      <th>False</th>\n",
              "      <td>65.460526</td>\n",
              "    </tr>\n",
              "    <tr>\n",
              "      <th>True</th>\n",
              "      <td>34.539474</td>\n",
              "    </tr>\n",
              "  </tbody>\n",
              "</table>\n",
              "</div>\n",
              "      <button class=\"colab-df-convert\" onclick=\"convertToInteractive('df-f40e36a0-08c7-414e-b9e4-4d4a0b7313ae')\"\n",
              "              title=\"Convert this dataframe to an interactive table.\"\n",
              "              style=\"display:none;\">\n",
              "        \n",
              "  <svg xmlns=\"http://www.w3.org/2000/svg\" height=\"24px\"viewBox=\"0 0 24 24\"\n",
              "       width=\"24px\">\n",
              "    <path d=\"M0 0h24v24H0V0z\" fill=\"none\"/>\n",
              "    <path d=\"M18.56 5.44l.94 2.06.94-2.06 2.06-.94-2.06-.94-.94-2.06-.94 2.06-2.06.94zm-11 1L8.5 8.5l.94-2.06 2.06-.94-2.06-.94L8.5 2.5l-.94 2.06-2.06.94zm10 10l.94 2.06.94-2.06 2.06-.94-2.06-.94-.94-2.06-.94 2.06-2.06.94z\"/><path d=\"M17.41 7.96l-1.37-1.37c-.4-.4-.92-.59-1.43-.59-.52 0-1.04.2-1.43.59L10.3 9.45l-7.72 7.72c-.78.78-.78 2.05 0 2.83L4 21.41c.39.39.9.59 1.41.59.51 0 1.02-.2 1.41-.59l7.78-7.78 2.81-2.81c.8-.78.8-2.07 0-2.86zM5.41 20L4 18.59l7.72-7.72 1.47 1.35L5.41 20z\"/>\n",
              "  </svg>\n",
              "      </button>\n",
              "      \n",
              "  <style>\n",
              "    .colab-df-container {\n",
              "      display:flex;\n",
              "      flex-wrap:wrap;\n",
              "      gap: 12px;\n",
              "    }\n",
              "\n",
              "    .colab-df-convert {\n",
              "      background-color: #E8F0FE;\n",
              "      border: none;\n",
              "      border-radius: 50%;\n",
              "      cursor: pointer;\n",
              "      display: none;\n",
              "      fill: #1967D2;\n",
              "      height: 32px;\n",
              "      padding: 0 0 0 0;\n",
              "      width: 32px;\n",
              "    }\n",
              "\n",
              "    .colab-df-convert:hover {\n",
              "      background-color: #E2EBFA;\n",
              "      box-shadow: 0px 1px 2px rgba(60, 64, 67, 0.3), 0px 1px 3px 1px rgba(60, 64, 67, 0.15);\n",
              "      fill: #174EA6;\n",
              "    }\n",
              "\n",
              "    [theme=dark] .colab-df-convert {\n",
              "      background-color: #3B4455;\n",
              "      fill: #D2E3FC;\n",
              "    }\n",
              "\n",
              "    [theme=dark] .colab-df-convert:hover {\n",
              "      background-color: #434B5C;\n",
              "      box-shadow: 0px 1px 3px 1px rgba(0, 0, 0, 0.15);\n",
              "      filter: drop-shadow(0px 1px 2px rgba(0, 0, 0, 0.3));\n",
              "      fill: #FFFFFF;\n",
              "    }\n",
              "  </style>\n",
              "\n",
              "      <script>\n",
              "        const buttonEl =\n",
              "          document.querySelector('#df-f40e36a0-08c7-414e-b9e4-4d4a0b7313ae button.colab-df-convert');\n",
              "        buttonEl.style.display =\n",
              "          google.colab.kernel.accessAllowed ? 'block' : 'none';\n",
              "\n",
              "        async function convertToInteractive(key) {\n",
              "          const element = document.querySelector('#df-f40e36a0-08c7-414e-b9e4-4d4a0b7313ae');\n",
              "          const dataTable =\n",
              "            await google.colab.kernel.invokeFunction('convertToInteractive',\n",
              "                                                     [key], {});\n",
              "          if (!dataTable) return;\n",
              "\n",
              "          const docLinkHtml = 'Like what you see? Visit the ' +\n",
              "            '<a target=\"_blank\" href=https://colab.research.google.com/notebooks/data_table.ipynb>data table notebook</a>'\n",
              "            + ' to learn more about interactive tables.';\n",
              "          element.innerHTML = '';\n",
              "          dataTable['output_type'] = 'display_data';\n",
              "          await google.colab.output.renderOutput(dataTable, element);\n",
              "          const docLink = document.createElement('div');\n",
              "          docLink.innerHTML = docLinkHtml;\n",
              "          element.appendChild(docLink);\n",
              "        }\n",
              "      </script>\n",
              "    </div>\n",
              "  </div>\n",
              "  "
            ]
          },
          "metadata": {},
          "execution_count": 248
        }
      ]
    },
    {
      "cell_type": "code",
      "source": [
        "#Vamos agora redefinir os índices do nosso dataframe\n",
        "dados_agrupados_count.reset_index(inplace=True)"
      ],
      "metadata": {
        "id": "O6rXin8YRgL5"
      },
      "execution_count": 249,
      "outputs": []
    },
    {
      "cell_type": "code",
      "source": [
        "#vamos dar uma olhada no dataframe dados_agrupados_count\n",
        "dados_agrupados_count"
      ],
      "metadata": {
        "id": "CUTi-xinbHqh",
        "colab": {
          "base_uri": "https://localhost:8080/",
          "height": 1147
        },
        "outputId": "31fc96ae-6b12-4182-d0d1-c85cf2944304"
      },
      "execution_count": 250,
      "outputs": [
        {
          "output_type": "execute_result",
          "data": {
            "text/plain": [
              "     Precinct   Sector  Reincidencia  Incident_Num\n",
              "0        East  CHARLIE         False     68.858131\n",
              "1        East  CHARLIE          True     31.141869\n",
              "2        East   EDWARD         False     66.415501\n",
              "3        East   EDWARD          True     33.584499\n",
              "4        East   GEORGE         False     61.167513\n",
              "5        East   GEORGE          True     38.832487\n",
              "6       North      BOY         False     60.702875\n",
              "7       North      BOY          True     39.297125\n",
              "8       North     JOHN         False     65.591398\n",
              "9       North     JOHN          True     34.408602\n",
              "10      North  LINCOLN         False     62.077922\n",
              "11      North  LINCOLN          True     37.922078\n",
              "12      North     NORA         False     68.245614\n",
              "13      North     NORA          True     31.754386\n",
              "14      North    UNION         False     59.604520\n",
              "15      North    UNION          True     40.112994\n",
              "16      South    OCEAN         False     67.787115\n",
              "17      South    OCEAN          True     32.212885\n",
              "18      South   ROBERT         False     72.097054\n",
              "19      South   ROBERT          True     27.902946\n",
              "20      South      SAM         False     70.016474\n",
              "21      South      SAM          True     29.983526\n",
              "22      South    UNION         False      0.282486\n",
              "23  Southwest    FRANK         False     67.491166\n",
              "24  Southwest    FRANK          True     32.508834\n",
              "25  Southwest  WILLIAM         False     60.975610\n",
              "26  Southwest  WILLIAM          True     39.024390\n",
              "27       West    DAVID         False     65.146580\n",
              "28       West    DAVID          True     34.853420\n",
              "29       West     KING         False     66.252822\n",
              "30       West     KING          True     33.747178\n",
              "31       West     MARY         False     65.905383\n",
              "32       West     MARY          True     34.094617\n",
              "33       West    QUEEN         False     65.460526\n",
              "34       West    QUEEN          True     34.539474"
            ],
            "text/html": [
              "\n",
              "  <div id=\"df-bd9b193f-2375-4301-a28c-f6c0d052c825\">\n",
              "    <div class=\"colab-df-container\">\n",
              "      <div>\n",
              "<style scoped>\n",
              "    .dataframe tbody tr th:only-of-type {\n",
              "        vertical-align: middle;\n",
              "    }\n",
              "\n",
              "    .dataframe tbody tr th {\n",
              "        vertical-align: top;\n",
              "    }\n",
              "\n",
              "    .dataframe thead th {\n",
              "        text-align: right;\n",
              "    }\n",
              "</style>\n",
              "<table border=\"1\" class=\"dataframe\">\n",
              "  <thead>\n",
              "    <tr style=\"text-align: right;\">\n",
              "      <th></th>\n",
              "      <th>Precinct</th>\n",
              "      <th>Sector</th>\n",
              "      <th>Reincidencia</th>\n",
              "      <th>Incident_Num</th>\n",
              "    </tr>\n",
              "  </thead>\n",
              "  <tbody>\n",
              "    <tr>\n",
              "      <th>0</th>\n",
              "      <td>East</td>\n",
              "      <td>CHARLIE</td>\n",
              "      <td>False</td>\n",
              "      <td>68.858131</td>\n",
              "    </tr>\n",
              "    <tr>\n",
              "      <th>1</th>\n",
              "      <td>East</td>\n",
              "      <td>CHARLIE</td>\n",
              "      <td>True</td>\n",
              "      <td>31.141869</td>\n",
              "    </tr>\n",
              "    <tr>\n",
              "      <th>2</th>\n",
              "      <td>East</td>\n",
              "      <td>EDWARD</td>\n",
              "      <td>False</td>\n",
              "      <td>66.415501</td>\n",
              "    </tr>\n",
              "    <tr>\n",
              "      <th>3</th>\n",
              "      <td>East</td>\n",
              "      <td>EDWARD</td>\n",
              "      <td>True</td>\n",
              "      <td>33.584499</td>\n",
              "    </tr>\n",
              "    <tr>\n",
              "      <th>4</th>\n",
              "      <td>East</td>\n",
              "      <td>GEORGE</td>\n",
              "      <td>False</td>\n",
              "      <td>61.167513</td>\n",
              "    </tr>\n",
              "    <tr>\n",
              "      <th>5</th>\n",
              "      <td>East</td>\n",
              "      <td>GEORGE</td>\n",
              "      <td>True</td>\n",
              "      <td>38.832487</td>\n",
              "    </tr>\n",
              "    <tr>\n",
              "      <th>6</th>\n",
              "      <td>North</td>\n",
              "      <td>BOY</td>\n",
              "      <td>False</td>\n",
              "      <td>60.702875</td>\n",
              "    </tr>\n",
              "    <tr>\n",
              "      <th>7</th>\n",
              "      <td>North</td>\n",
              "      <td>BOY</td>\n",
              "      <td>True</td>\n",
              "      <td>39.297125</td>\n",
              "    </tr>\n",
              "    <tr>\n",
              "      <th>8</th>\n",
              "      <td>North</td>\n",
              "      <td>JOHN</td>\n",
              "      <td>False</td>\n",
              "      <td>65.591398</td>\n",
              "    </tr>\n",
              "    <tr>\n",
              "      <th>9</th>\n",
              "      <td>North</td>\n",
              "      <td>JOHN</td>\n",
              "      <td>True</td>\n",
              "      <td>34.408602</td>\n",
              "    </tr>\n",
              "    <tr>\n",
              "      <th>10</th>\n",
              "      <td>North</td>\n",
              "      <td>LINCOLN</td>\n",
              "      <td>False</td>\n",
              "      <td>62.077922</td>\n",
              "    </tr>\n",
              "    <tr>\n",
              "      <th>11</th>\n",
              "      <td>North</td>\n",
              "      <td>LINCOLN</td>\n",
              "      <td>True</td>\n",
              "      <td>37.922078</td>\n",
              "    </tr>\n",
              "    <tr>\n",
              "      <th>12</th>\n",
              "      <td>North</td>\n",
              "      <td>NORA</td>\n",
              "      <td>False</td>\n",
              "      <td>68.245614</td>\n",
              "    </tr>\n",
              "    <tr>\n",
              "      <th>13</th>\n",
              "      <td>North</td>\n",
              "      <td>NORA</td>\n",
              "      <td>True</td>\n",
              "      <td>31.754386</td>\n",
              "    </tr>\n",
              "    <tr>\n",
              "      <th>14</th>\n",
              "      <td>North</td>\n",
              "      <td>UNION</td>\n",
              "      <td>False</td>\n",
              "      <td>59.604520</td>\n",
              "    </tr>\n",
              "    <tr>\n",
              "      <th>15</th>\n",
              "      <td>North</td>\n",
              "      <td>UNION</td>\n",
              "      <td>True</td>\n",
              "      <td>40.112994</td>\n",
              "    </tr>\n",
              "    <tr>\n",
              "      <th>16</th>\n",
              "      <td>South</td>\n",
              "      <td>OCEAN</td>\n",
              "      <td>False</td>\n",
              "      <td>67.787115</td>\n",
              "    </tr>\n",
              "    <tr>\n",
              "      <th>17</th>\n",
              "      <td>South</td>\n",
              "      <td>OCEAN</td>\n",
              "      <td>True</td>\n",
              "      <td>32.212885</td>\n",
              "    </tr>\n",
              "    <tr>\n",
              "      <th>18</th>\n",
              "      <td>South</td>\n",
              "      <td>ROBERT</td>\n",
              "      <td>False</td>\n",
              "      <td>72.097054</td>\n",
              "    </tr>\n",
              "    <tr>\n",
              "      <th>19</th>\n",
              "      <td>South</td>\n",
              "      <td>ROBERT</td>\n",
              "      <td>True</td>\n",
              "      <td>27.902946</td>\n",
              "    </tr>\n",
              "    <tr>\n",
              "      <th>20</th>\n",
              "      <td>South</td>\n",
              "      <td>SAM</td>\n",
              "      <td>False</td>\n",
              "      <td>70.016474</td>\n",
              "    </tr>\n",
              "    <tr>\n",
              "      <th>21</th>\n",
              "      <td>South</td>\n",
              "      <td>SAM</td>\n",
              "      <td>True</td>\n",
              "      <td>29.983526</td>\n",
              "    </tr>\n",
              "    <tr>\n",
              "      <th>22</th>\n",
              "      <td>South</td>\n",
              "      <td>UNION</td>\n",
              "      <td>False</td>\n",
              "      <td>0.282486</td>\n",
              "    </tr>\n",
              "    <tr>\n",
              "      <th>23</th>\n",
              "      <td>Southwest</td>\n",
              "      <td>FRANK</td>\n",
              "      <td>False</td>\n",
              "      <td>67.491166</td>\n",
              "    </tr>\n",
              "    <tr>\n",
              "      <th>24</th>\n",
              "      <td>Southwest</td>\n",
              "      <td>FRANK</td>\n",
              "      <td>True</td>\n",
              "      <td>32.508834</td>\n",
              "    </tr>\n",
              "    <tr>\n",
              "      <th>25</th>\n",
              "      <td>Southwest</td>\n",
              "      <td>WILLIAM</td>\n",
              "      <td>False</td>\n",
              "      <td>60.975610</td>\n",
              "    </tr>\n",
              "    <tr>\n",
              "      <th>26</th>\n",
              "      <td>Southwest</td>\n",
              "      <td>WILLIAM</td>\n",
              "      <td>True</td>\n",
              "      <td>39.024390</td>\n",
              "    </tr>\n",
              "    <tr>\n",
              "      <th>27</th>\n",
              "      <td>West</td>\n",
              "      <td>DAVID</td>\n",
              "      <td>False</td>\n",
              "      <td>65.146580</td>\n",
              "    </tr>\n",
              "    <tr>\n",
              "      <th>28</th>\n",
              "      <td>West</td>\n",
              "      <td>DAVID</td>\n",
              "      <td>True</td>\n",
              "      <td>34.853420</td>\n",
              "    </tr>\n",
              "    <tr>\n",
              "      <th>29</th>\n",
              "      <td>West</td>\n",
              "      <td>KING</td>\n",
              "      <td>False</td>\n",
              "      <td>66.252822</td>\n",
              "    </tr>\n",
              "    <tr>\n",
              "      <th>30</th>\n",
              "      <td>West</td>\n",
              "      <td>KING</td>\n",
              "      <td>True</td>\n",
              "      <td>33.747178</td>\n",
              "    </tr>\n",
              "    <tr>\n",
              "      <th>31</th>\n",
              "      <td>West</td>\n",
              "      <td>MARY</td>\n",
              "      <td>False</td>\n",
              "      <td>65.905383</td>\n",
              "    </tr>\n",
              "    <tr>\n",
              "      <th>32</th>\n",
              "      <td>West</td>\n",
              "      <td>MARY</td>\n",
              "      <td>True</td>\n",
              "      <td>34.094617</td>\n",
              "    </tr>\n",
              "    <tr>\n",
              "      <th>33</th>\n",
              "      <td>West</td>\n",
              "      <td>QUEEN</td>\n",
              "      <td>False</td>\n",
              "      <td>65.460526</td>\n",
              "    </tr>\n",
              "    <tr>\n",
              "      <th>34</th>\n",
              "      <td>West</td>\n",
              "      <td>QUEEN</td>\n",
              "      <td>True</td>\n",
              "      <td>34.539474</td>\n",
              "    </tr>\n",
              "  </tbody>\n",
              "</table>\n",
              "</div>\n",
              "      <button class=\"colab-df-convert\" onclick=\"convertToInteractive('df-bd9b193f-2375-4301-a28c-f6c0d052c825')\"\n",
              "              title=\"Convert this dataframe to an interactive table.\"\n",
              "              style=\"display:none;\">\n",
              "        \n",
              "  <svg xmlns=\"http://www.w3.org/2000/svg\" height=\"24px\"viewBox=\"0 0 24 24\"\n",
              "       width=\"24px\">\n",
              "    <path d=\"M0 0h24v24H0V0z\" fill=\"none\"/>\n",
              "    <path d=\"M18.56 5.44l.94 2.06.94-2.06 2.06-.94-2.06-.94-.94-2.06-.94 2.06-2.06.94zm-11 1L8.5 8.5l.94-2.06 2.06-.94-2.06-.94L8.5 2.5l-.94 2.06-2.06.94zm10 10l.94 2.06.94-2.06 2.06-.94-2.06-.94-.94-2.06-.94 2.06-2.06.94z\"/><path d=\"M17.41 7.96l-1.37-1.37c-.4-.4-.92-.59-1.43-.59-.52 0-1.04.2-1.43.59L10.3 9.45l-7.72 7.72c-.78.78-.78 2.05 0 2.83L4 21.41c.39.39.9.59 1.41.59.51 0 1.02-.2 1.41-.59l7.78-7.78 2.81-2.81c.8-.78.8-2.07 0-2.86zM5.41 20L4 18.59l7.72-7.72 1.47 1.35L5.41 20z\"/>\n",
              "  </svg>\n",
              "      </button>\n",
              "      \n",
              "  <style>\n",
              "    .colab-df-container {\n",
              "      display:flex;\n",
              "      flex-wrap:wrap;\n",
              "      gap: 12px;\n",
              "    }\n",
              "\n",
              "    .colab-df-convert {\n",
              "      background-color: #E8F0FE;\n",
              "      border: none;\n",
              "      border-radius: 50%;\n",
              "      cursor: pointer;\n",
              "      display: none;\n",
              "      fill: #1967D2;\n",
              "      height: 32px;\n",
              "      padding: 0 0 0 0;\n",
              "      width: 32px;\n",
              "    }\n",
              "\n",
              "    .colab-df-convert:hover {\n",
              "      background-color: #E2EBFA;\n",
              "      box-shadow: 0px 1px 2px rgba(60, 64, 67, 0.3), 0px 1px 3px 1px rgba(60, 64, 67, 0.15);\n",
              "      fill: #174EA6;\n",
              "    }\n",
              "\n",
              "    [theme=dark] .colab-df-convert {\n",
              "      background-color: #3B4455;\n",
              "      fill: #D2E3FC;\n",
              "    }\n",
              "\n",
              "    [theme=dark] .colab-df-convert:hover {\n",
              "      background-color: #434B5C;\n",
              "      box-shadow: 0px 1px 3px 1px rgba(0, 0, 0, 0.15);\n",
              "      filter: drop-shadow(0px 1px 2px rgba(0, 0, 0, 0.3));\n",
              "      fill: #FFFFFF;\n",
              "    }\n",
              "  </style>\n",
              "\n",
              "      <script>\n",
              "        const buttonEl =\n",
              "          document.querySelector('#df-bd9b193f-2375-4301-a28c-f6c0d052c825 button.colab-df-convert');\n",
              "        buttonEl.style.display =\n",
              "          google.colab.kernel.accessAllowed ? 'block' : 'none';\n",
              "\n",
              "        async function convertToInteractive(key) {\n",
              "          const element = document.querySelector('#df-bd9b193f-2375-4301-a28c-f6c0d052c825');\n",
              "          const dataTable =\n",
              "            await google.colab.kernel.invokeFunction('convertToInteractive',\n",
              "                                                     [key], {});\n",
              "          if (!dataTable) return;\n",
              "\n",
              "          const docLinkHtml = 'Like what you see? Visit the ' +\n",
              "            '<a target=\"_blank\" href=https://colab.research.google.com/notebooks/data_table.ipynb>data table notebook</a>'\n",
              "            + ' to learn more about interactive tables.';\n",
              "          element.innerHTML = '';\n",
              "          dataTable['output_type'] = 'display_data';\n",
              "          await google.colab.output.renderOutput(dataTable, element);\n",
              "          const docLink = document.createElement('div');\n",
              "          docLink.innerHTML = docLinkHtml;\n",
              "          element.appendChild(docLink);\n",
              "        }\n",
              "      </script>\n",
              "    </div>\n",
              "  </div>\n",
              "  "
            ]
          },
          "metadata": {},
          "execution_count": 250
        }
      ]
    },
    {
      "cell_type": "code",
      "source": [
        "#agora vamos renomear a coluna Incident_Num' como 'Percentual', ou seja o percentual de reincidência \n",
        "#por sector e precinct\n",
        "\n",
        "dados_agrupados_count.rename(columns={'Incident_Num': 'Percentual'}, inplace=True)\n",
        "dados_agrupados_count.sort_values(by='Sector', ascending=False, inplace=True)\n",
        "\n",
        "dados_agrupados_count"
      ],
      "metadata": {
        "id": "WPwkrkuAbYGg",
        "colab": {
          "base_uri": "https://localhost:8080/",
          "height": 1147
        },
        "outputId": "521ba1b2-7af7-459a-db92-729b2f77f6f2"
      },
      "execution_count": 251,
      "outputs": [
        {
          "output_type": "execute_result",
          "data": {
            "text/plain": [
              "     Precinct   Sector  Reincidencia  Percentual\n",
              "26  Southwest  WILLIAM          True   39.024390\n",
              "25  Southwest  WILLIAM         False   60.975610\n",
              "14      North    UNION         False   59.604520\n",
              "22      South    UNION         False    0.282486\n",
              "15      North    UNION          True   40.112994\n",
              "21      South      SAM          True   29.983526\n",
              "20      South      SAM         False   70.016474\n",
              "19      South   ROBERT          True   27.902946\n",
              "18      South   ROBERT         False   72.097054\n",
              "34       West    QUEEN          True   34.539474\n",
              "33       West    QUEEN         False   65.460526\n",
              "16      South    OCEAN         False   67.787115\n",
              "17      South    OCEAN          True   32.212885\n",
              "13      North     NORA          True   31.754386\n",
              "12      North     NORA         False   68.245614\n",
              "32       West     MARY          True   34.094617\n",
              "31       West     MARY         False   65.905383\n",
              "11      North  LINCOLN          True   37.922078\n",
              "10      North  LINCOLN         False   62.077922\n",
              "30       West     KING          True   33.747178\n",
              "29       West     KING         False   66.252822\n",
              "9       North     JOHN          True   34.408602\n",
              "8       North     JOHN         False   65.591398\n",
              "4        East   GEORGE         False   61.167513\n",
              "5        East   GEORGE          True   38.832487\n",
              "24  Southwest    FRANK          True   32.508834\n",
              "23  Southwest    FRANK         False   67.491166\n",
              "3        East   EDWARD          True   33.584499\n",
              "2        East   EDWARD         False   66.415501\n",
              "27       West    DAVID         False   65.146580\n",
              "28       West    DAVID          True   34.853420\n",
              "1        East  CHARLIE          True   31.141869\n",
              "0        East  CHARLIE         False   68.858131\n",
              "6       North      BOY         False   60.702875\n",
              "7       North      BOY          True   39.297125"
            ],
            "text/html": [
              "\n",
              "  <div id=\"df-4ebf889e-7b5c-4e39-b201-658327757720\">\n",
              "    <div class=\"colab-df-container\">\n",
              "      <div>\n",
              "<style scoped>\n",
              "    .dataframe tbody tr th:only-of-type {\n",
              "        vertical-align: middle;\n",
              "    }\n",
              "\n",
              "    .dataframe tbody tr th {\n",
              "        vertical-align: top;\n",
              "    }\n",
              "\n",
              "    .dataframe thead th {\n",
              "        text-align: right;\n",
              "    }\n",
              "</style>\n",
              "<table border=\"1\" class=\"dataframe\">\n",
              "  <thead>\n",
              "    <tr style=\"text-align: right;\">\n",
              "      <th></th>\n",
              "      <th>Precinct</th>\n",
              "      <th>Sector</th>\n",
              "      <th>Reincidencia</th>\n",
              "      <th>Percentual</th>\n",
              "    </tr>\n",
              "  </thead>\n",
              "  <tbody>\n",
              "    <tr>\n",
              "      <th>26</th>\n",
              "      <td>Southwest</td>\n",
              "      <td>WILLIAM</td>\n",
              "      <td>True</td>\n",
              "      <td>39.024390</td>\n",
              "    </tr>\n",
              "    <tr>\n",
              "      <th>25</th>\n",
              "      <td>Southwest</td>\n",
              "      <td>WILLIAM</td>\n",
              "      <td>False</td>\n",
              "      <td>60.975610</td>\n",
              "    </tr>\n",
              "    <tr>\n",
              "      <th>14</th>\n",
              "      <td>North</td>\n",
              "      <td>UNION</td>\n",
              "      <td>False</td>\n",
              "      <td>59.604520</td>\n",
              "    </tr>\n",
              "    <tr>\n",
              "      <th>22</th>\n",
              "      <td>South</td>\n",
              "      <td>UNION</td>\n",
              "      <td>False</td>\n",
              "      <td>0.282486</td>\n",
              "    </tr>\n",
              "    <tr>\n",
              "      <th>15</th>\n",
              "      <td>North</td>\n",
              "      <td>UNION</td>\n",
              "      <td>True</td>\n",
              "      <td>40.112994</td>\n",
              "    </tr>\n",
              "    <tr>\n",
              "      <th>21</th>\n",
              "      <td>South</td>\n",
              "      <td>SAM</td>\n",
              "      <td>True</td>\n",
              "      <td>29.983526</td>\n",
              "    </tr>\n",
              "    <tr>\n",
              "      <th>20</th>\n",
              "      <td>South</td>\n",
              "      <td>SAM</td>\n",
              "      <td>False</td>\n",
              "      <td>70.016474</td>\n",
              "    </tr>\n",
              "    <tr>\n",
              "      <th>19</th>\n",
              "      <td>South</td>\n",
              "      <td>ROBERT</td>\n",
              "      <td>True</td>\n",
              "      <td>27.902946</td>\n",
              "    </tr>\n",
              "    <tr>\n",
              "      <th>18</th>\n",
              "      <td>South</td>\n",
              "      <td>ROBERT</td>\n",
              "      <td>False</td>\n",
              "      <td>72.097054</td>\n",
              "    </tr>\n",
              "    <tr>\n",
              "      <th>34</th>\n",
              "      <td>West</td>\n",
              "      <td>QUEEN</td>\n",
              "      <td>True</td>\n",
              "      <td>34.539474</td>\n",
              "    </tr>\n",
              "    <tr>\n",
              "      <th>33</th>\n",
              "      <td>West</td>\n",
              "      <td>QUEEN</td>\n",
              "      <td>False</td>\n",
              "      <td>65.460526</td>\n",
              "    </tr>\n",
              "    <tr>\n",
              "      <th>16</th>\n",
              "      <td>South</td>\n",
              "      <td>OCEAN</td>\n",
              "      <td>False</td>\n",
              "      <td>67.787115</td>\n",
              "    </tr>\n",
              "    <tr>\n",
              "      <th>17</th>\n",
              "      <td>South</td>\n",
              "      <td>OCEAN</td>\n",
              "      <td>True</td>\n",
              "      <td>32.212885</td>\n",
              "    </tr>\n",
              "    <tr>\n",
              "      <th>13</th>\n",
              "      <td>North</td>\n",
              "      <td>NORA</td>\n",
              "      <td>True</td>\n",
              "      <td>31.754386</td>\n",
              "    </tr>\n",
              "    <tr>\n",
              "      <th>12</th>\n",
              "      <td>North</td>\n",
              "      <td>NORA</td>\n",
              "      <td>False</td>\n",
              "      <td>68.245614</td>\n",
              "    </tr>\n",
              "    <tr>\n",
              "      <th>32</th>\n",
              "      <td>West</td>\n",
              "      <td>MARY</td>\n",
              "      <td>True</td>\n",
              "      <td>34.094617</td>\n",
              "    </tr>\n",
              "    <tr>\n",
              "      <th>31</th>\n",
              "      <td>West</td>\n",
              "      <td>MARY</td>\n",
              "      <td>False</td>\n",
              "      <td>65.905383</td>\n",
              "    </tr>\n",
              "    <tr>\n",
              "      <th>11</th>\n",
              "      <td>North</td>\n",
              "      <td>LINCOLN</td>\n",
              "      <td>True</td>\n",
              "      <td>37.922078</td>\n",
              "    </tr>\n",
              "    <tr>\n",
              "      <th>10</th>\n",
              "      <td>North</td>\n",
              "      <td>LINCOLN</td>\n",
              "      <td>False</td>\n",
              "      <td>62.077922</td>\n",
              "    </tr>\n",
              "    <tr>\n",
              "      <th>30</th>\n",
              "      <td>West</td>\n",
              "      <td>KING</td>\n",
              "      <td>True</td>\n",
              "      <td>33.747178</td>\n",
              "    </tr>\n",
              "    <tr>\n",
              "      <th>29</th>\n",
              "      <td>West</td>\n",
              "      <td>KING</td>\n",
              "      <td>False</td>\n",
              "      <td>66.252822</td>\n",
              "    </tr>\n",
              "    <tr>\n",
              "      <th>9</th>\n",
              "      <td>North</td>\n",
              "      <td>JOHN</td>\n",
              "      <td>True</td>\n",
              "      <td>34.408602</td>\n",
              "    </tr>\n",
              "    <tr>\n",
              "      <th>8</th>\n",
              "      <td>North</td>\n",
              "      <td>JOHN</td>\n",
              "      <td>False</td>\n",
              "      <td>65.591398</td>\n",
              "    </tr>\n",
              "    <tr>\n",
              "      <th>4</th>\n",
              "      <td>East</td>\n",
              "      <td>GEORGE</td>\n",
              "      <td>False</td>\n",
              "      <td>61.167513</td>\n",
              "    </tr>\n",
              "    <tr>\n",
              "      <th>5</th>\n",
              "      <td>East</td>\n",
              "      <td>GEORGE</td>\n",
              "      <td>True</td>\n",
              "      <td>38.832487</td>\n",
              "    </tr>\n",
              "    <tr>\n",
              "      <th>24</th>\n",
              "      <td>Southwest</td>\n",
              "      <td>FRANK</td>\n",
              "      <td>True</td>\n",
              "      <td>32.508834</td>\n",
              "    </tr>\n",
              "    <tr>\n",
              "      <th>23</th>\n",
              "      <td>Southwest</td>\n",
              "      <td>FRANK</td>\n",
              "      <td>False</td>\n",
              "      <td>67.491166</td>\n",
              "    </tr>\n",
              "    <tr>\n",
              "      <th>3</th>\n",
              "      <td>East</td>\n",
              "      <td>EDWARD</td>\n",
              "      <td>True</td>\n",
              "      <td>33.584499</td>\n",
              "    </tr>\n",
              "    <tr>\n",
              "      <th>2</th>\n",
              "      <td>East</td>\n",
              "      <td>EDWARD</td>\n",
              "      <td>False</td>\n",
              "      <td>66.415501</td>\n",
              "    </tr>\n",
              "    <tr>\n",
              "      <th>27</th>\n",
              "      <td>West</td>\n",
              "      <td>DAVID</td>\n",
              "      <td>False</td>\n",
              "      <td>65.146580</td>\n",
              "    </tr>\n",
              "    <tr>\n",
              "      <th>28</th>\n",
              "      <td>West</td>\n",
              "      <td>DAVID</td>\n",
              "      <td>True</td>\n",
              "      <td>34.853420</td>\n",
              "    </tr>\n",
              "    <tr>\n",
              "      <th>1</th>\n",
              "      <td>East</td>\n",
              "      <td>CHARLIE</td>\n",
              "      <td>True</td>\n",
              "      <td>31.141869</td>\n",
              "    </tr>\n",
              "    <tr>\n",
              "      <th>0</th>\n",
              "      <td>East</td>\n",
              "      <td>CHARLIE</td>\n",
              "      <td>False</td>\n",
              "      <td>68.858131</td>\n",
              "    </tr>\n",
              "    <tr>\n",
              "      <th>6</th>\n",
              "      <td>North</td>\n",
              "      <td>BOY</td>\n",
              "      <td>False</td>\n",
              "      <td>60.702875</td>\n",
              "    </tr>\n",
              "    <tr>\n",
              "      <th>7</th>\n",
              "      <td>North</td>\n",
              "      <td>BOY</td>\n",
              "      <td>True</td>\n",
              "      <td>39.297125</td>\n",
              "    </tr>\n",
              "  </tbody>\n",
              "</table>\n",
              "</div>\n",
              "      <button class=\"colab-df-convert\" onclick=\"convertToInteractive('df-4ebf889e-7b5c-4e39-b201-658327757720')\"\n",
              "              title=\"Convert this dataframe to an interactive table.\"\n",
              "              style=\"display:none;\">\n",
              "        \n",
              "  <svg xmlns=\"http://www.w3.org/2000/svg\" height=\"24px\"viewBox=\"0 0 24 24\"\n",
              "       width=\"24px\">\n",
              "    <path d=\"M0 0h24v24H0V0z\" fill=\"none\"/>\n",
              "    <path d=\"M18.56 5.44l.94 2.06.94-2.06 2.06-.94-2.06-.94-.94-2.06-.94 2.06-2.06.94zm-11 1L8.5 8.5l.94-2.06 2.06-.94-2.06-.94L8.5 2.5l-.94 2.06-2.06.94zm10 10l.94 2.06.94-2.06 2.06-.94-2.06-.94-.94-2.06-.94 2.06-2.06.94z\"/><path d=\"M17.41 7.96l-1.37-1.37c-.4-.4-.92-.59-1.43-.59-.52 0-1.04.2-1.43.59L10.3 9.45l-7.72 7.72c-.78.78-.78 2.05 0 2.83L4 21.41c.39.39.9.59 1.41.59.51 0 1.02-.2 1.41-.59l7.78-7.78 2.81-2.81c.8-.78.8-2.07 0-2.86zM5.41 20L4 18.59l7.72-7.72 1.47 1.35L5.41 20z\"/>\n",
              "  </svg>\n",
              "      </button>\n",
              "      \n",
              "  <style>\n",
              "    .colab-df-container {\n",
              "      display:flex;\n",
              "      flex-wrap:wrap;\n",
              "      gap: 12px;\n",
              "    }\n",
              "\n",
              "    .colab-df-convert {\n",
              "      background-color: #E8F0FE;\n",
              "      border: none;\n",
              "      border-radius: 50%;\n",
              "      cursor: pointer;\n",
              "      display: none;\n",
              "      fill: #1967D2;\n",
              "      height: 32px;\n",
              "      padding: 0 0 0 0;\n",
              "      width: 32px;\n",
              "    }\n",
              "\n",
              "    .colab-df-convert:hover {\n",
              "      background-color: #E2EBFA;\n",
              "      box-shadow: 0px 1px 2px rgba(60, 64, 67, 0.3), 0px 1px 3px 1px rgba(60, 64, 67, 0.15);\n",
              "      fill: #174EA6;\n",
              "    }\n",
              "\n",
              "    [theme=dark] .colab-df-convert {\n",
              "      background-color: #3B4455;\n",
              "      fill: #D2E3FC;\n",
              "    }\n",
              "\n",
              "    [theme=dark] .colab-df-convert:hover {\n",
              "      background-color: #434B5C;\n",
              "      box-shadow: 0px 1px 3px 1px rgba(0, 0, 0, 0.15);\n",
              "      filter: drop-shadow(0px 1px 2px rgba(0, 0, 0, 0.3));\n",
              "      fill: #FFFFFF;\n",
              "    }\n",
              "  </style>\n",
              "\n",
              "      <script>\n",
              "        const buttonEl =\n",
              "          document.querySelector('#df-4ebf889e-7b5c-4e39-b201-658327757720 button.colab-df-convert');\n",
              "        buttonEl.style.display =\n",
              "          google.colab.kernel.accessAllowed ? 'block' : 'none';\n",
              "\n",
              "        async function convertToInteractive(key) {\n",
              "          const element = document.querySelector('#df-4ebf889e-7b5c-4e39-b201-658327757720');\n",
              "          const dataTable =\n",
              "            await google.colab.kernel.invokeFunction('convertToInteractive',\n",
              "                                                     [key], {});\n",
              "          if (!dataTable) return;\n",
              "\n",
              "          const docLinkHtml = 'Like what you see? Visit the ' +\n",
              "            '<a target=\"_blank\" href=https://colab.research.google.com/notebooks/data_table.ipynb>data table notebook</a>'\n",
              "            + ' to learn more about interactive tables.';\n",
              "          element.innerHTML = '';\n",
              "          dataTable['output_type'] = 'display_data';\n",
              "          await google.colab.output.renderOutput(dataTable, element);\n",
              "          const docLink = document.createElement('div');\n",
              "          docLink.innerHTML = docLinkHtml;\n",
              "          element.appendChild(docLink);\n",
              "        }\n",
              "      </script>\n",
              "    </div>\n",
              "  </div>\n",
              "  "
            ]
          },
          "metadata": {},
          "execution_count": 251
        }
      ]
    },
    {
      "cell_type": "code",
      "source": [
        "#vamos selecionar aqui apenas as reincidências(TRUE)\n",
        "is_Reincidencia = dados_agrupados_count['Reincidencia'] == True\n",
        "dados_agrupados_count = dados_agrupados_count[is_Reincidencia]\n",
        "dados_agrupados_count.sort_values(by='Sector', ascending=False, inplace=True)\n",
        "#antes como sempre vamos visualizar como está ficando o nosso dataframe\n",
        "dados_agrupados_count"
      ],
      "metadata": {
        "id": "WZZ0x4GabxPP",
        "colab": {
          "base_uri": "https://localhost:8080/",
          "height": 672
        },
        "outputId": "4beca661-406e-4361-95e2-e59464709d69"
      },
      "execution_count": 252,
      "outputs": [
        {
          "output_type": "stream",
          "name": "stderr",
          "text": [
            "/usr/local/lib/python3.7/dist-packages/pandas/util/_decorators.py:311: SettingWithCopyWarning: \n",
            "A value is trying to be set on a copy of a slice from a DataFrame\n",
            "\n",
            "See the caveats in the documentation: https://pandas.pydata.org/pandas-docs/stable/user_guide/indexing.html#returning-a-view-versus-a-copy\n",
            "  return func(*args, **kwargs)\n"
          ]
        },
        {
          "output_type": "execute_result",
          "data": {
            "text/plain": [
              "     Precinct   Sector  Reincidencia  Percentual\n",
              "26  Southwest  WILLIAM          True   39.024390\n",
              "15      North    UNION          True   40.112994\n",
              "21      South      SAM          True   29.983526\n",
              "19      South   ROBERT          True   27.902946\n",
              "34       West    QUEEN          True   34.539474\n",
              "17      South    OCEAN          True   32.212885\n",
              "13      North     NORA          True   31.754386\n",
              "32       West     MARY          True   34.094617\n",
              "11      North  LINCOLN          True   37.922078\n",
              "30       West     KING          True   33.747178\n",
              "9       North     JOHN          True   34.408602\n",
              "5        East   GEORGE          True   38.832487\n",
              "24  Southwest    FRANK          True   32.508834\n",
              "3        East   EDWARD          True   33.584499\n",
              "28       West    DAVID          True   34.853420\n",
              "1        East  CHARLIE          True   31.141869\n",
              "7       North      BOY          True   39.297125"
            ],
            "text/html": [
              "\n",
              "  <div id=\"df-0e132089-94f4-4ca9-8f18-474e711e0cd3\">\n",
              "    <div class=\"colab-df-container\">\n",
              "      <div>\n",
              "<style scoped>\n",
              "    .dataframe tbody tr th:only-of-type {\n",
              "        vertical-align: middle;\n",
              "    }\n",
              "\n",
              "    .dataframe tbody tr th {\n",
              "        vertical-align: top;\n",
              "    }\n",
              "\n",
              "    .dataframe thead th {\n",
              "        text-align: right;\n",
              "    }\n",
              "</style>\n",
              "<table border=\"1\" class=\"dataframe\">\n",
              "  <thead>\n",
              "    <tr style=\"text-align: right;\">\n",
              "      <th></th>\n",
              "      <th>Precinct</th>\n",
              "      <th>Sector</th>\n",
              "      <th>Reincidencia</th>\n",
              "      <th>Percentual</th>\n",
              "    </tr>\n",
              "  </thead>\n",
              "  <tbody>\n",
              "    <tr>\n",
              "      <th>26</th>\n",
              "      <td>Southwest</td>\n",
              "      <td>WILLIAM</td>\n",
              "      <td>True</td>\n",
              "      <td>39.024390</td>\n",
              "    </tr>\n",
              "    <tr>\n",
              "      <th>15</th>\n",
              "      <td>North</td>\n",
              "      <td>UNION</td>\n",
              "      <td>True</td>\n",
              "      <td>40.112994</td>\n",
              "    </tr>\n",
              "    <tr>\n",
              "      <th>21</th>\n",
              "      <td>South</td>\n",
              "      <td>SAM</td>\n",
              "      <td>True</td>\n",
              "      <td>29.983526</td>\n",
              "    </tr>\n",
              "    <tr>\n",
              "      <th>19</th>\n",
              "      <td>South</td>\n",
              "      <td>ROBERT</td>\n",
              "      <td>True</td>\n",
              "      <td>27.902946</td>\n",
              "    </tr>\n",
              "    <tr>\n",
              "      <th>34</th>\n",
              "      <td>West</td>\n",
              "      <td>QUEEN</td>\n",
              "      <td>True</td>\n",
              "      <td>34.539474</td>\n",
              "    </tr>\n",
              "    <tr>\n",
              "      <th>17</th>\n",
              "      <td>South</td>\n",
              "      <td>OCEAN</td>\n",
              "      <td>True</td>\n",
              "      <td>32.212885</td>\n",
              "    </tr>\n",
              "    <tr>\n",
              "      <th>13</th>\n",
              "      <td>North</td>\n",
              "      <td>NORA</td>\n",
              "      <td>True</td>\n",
              "      <td>31.754386</td>\n",
              "    </tr>\n",
              "    <tr>\n",
              "      <th>32</th>\n",
              "      <td>West</td>\n",
              "      <td>MARY</td>\n",
              "      <td>True</td>\n",
              "      <td>34.094617</td>\n",
              "    </tr>\n",
              "    <tr>\n",
              "      <th>11</th>\n",
              "      <td>North</td>\n",
              "      <td>LINCOLN</td>\n",
              "      <td>True</td>\n",
              "      <td>37.922078</td>\n",
              "    </tr>\n",
              "    <tr>\n",
              "      <th>30</th>\n",
              "      <td>West</td>\n",
              "      <td>KING</td>\n",
              "      <td>True</td>\n",
              "      <td>33.747178</td>\n",
              "    </tr>\n",
              "    <tr>\n",
              "      <th>9</th>\n",
              "      <td>North</td>\n",
              "      <td>JOHN</td>\n",
              "      <td>True</td>\n",
              "      <td>34.408602</td>\n",
              "    </tr>\n",
              "    <tr>\n",
              "      <th>5</th>\n",
              "      <td>East</td>\n",
              "      <td>GEORGE</td>\n",
              "      <td>True</td>\n",
              "      <td>38.832487</td>\n",
              "    </tr>\n",
              "    <tr>\n",
              "      <th>24</th>\n",
              "      <td>Southwest</td>\n",
              "      <td>FRANK</td>\n",
              "      <td>True</td>\n",
              "      <td>32.508834</td>\n",
              "    </tr>\n",
              "    <tr>\n",
              "      <th>3</th>\n",
              "      <td>East</td>\n",
              "      <td>EDWARD</td>\n",
              "      <td>True</td>\n",
              "      <td>33.584499</td>\n",
              "    </tr>\n",
              "    <tr>\n",
              "      <th>28</th>\n",
              "      <td>West</td>\n",
              "      <td>DAVID</td>\n",
              "      <td>True</td>\n",
              "      <td>34.853420</td>\n",
              "    </tr>\n",
              "    <tr>\n",
              "      <th>1</th>\n",
              "      <td>East</td>\n",
              "      <td>CHARLIE</td>\n",
              "      <td>True</td>\n",
              "      <td>31.141869</td>\n",
              "    </tr>\n",
              "    <tr>\n",
              "      <th>7</th>\n",
              "      <td>North</td>\n",
              "      <td>BOY</td>\n",
              "      <td>True</td>\n",
              "      <td>39.297125</td>\n",
              "    </tr>\n",
              "  </tbody>\n",
              "</table>\n",
              "</div>\n",
              "      <button class=\"colab-df-convert\" onclick=\"convertToInteractive('df-0e132089-94f4-4ca9-8f18-474e711e0cd3')\"\n",
              "              title=\"Convert this dataframe to an interactive table.\"\n",
              "              style=\"display:none;\">\n",
              "        \n",
              "  <svg xmlns=\"http://www.w3.org/2000/svg\" height=\"24px\"viewBox=\"0 0 24 24\"\n",
              "       width=\"24px\">\n",
              "    <path d=\"M0 0h24v24H0V0z\" fill=\"none\"/>\n",
              "    <path d=\"M18.56 5.44l.94 2.06.94-2.06 2.06-.94-2.06-.94-.94-2.06-.94 2.06-2.06.94zm-11 1L8.5 8.5l.94-2.06 2.06-.94-2.06-.94L8.5 2.5l-.94 2.06-2.06.94zm10 10l.94 2.06.94-2.06 2.06-.94-2.06-.94-.94-2.06-.94 2.06-2.06.94z\"/><path d=\"M17.41 7.96l-1.37-1.37c-.4-.4-.92-.59-1.43-.59-.52 0-1.04.2-1.43.59L10.3 9.45l-7.72 7.72c-.78.78-.78 2.05 0 2.83L4 21.41c.39.39.9.59 1.41.59.51 0 1.02-.2 1.41-.59l7.78-7.78 2.81-2.81c.8-.78.8-2.07 0-2.86zM5.41 20L4 18.59l7.72-7.72 1.47 1.35L5.41 20z\"/>\n",
              "  </svg>\n",
              "      </button>\n",
              "      \n",
              "  <style>\n",
              "    .colab-df-container {\n",
              "      display:flex;\n",
              "      flex-wrap:wrap;\n",
              "      gap: 12px;\n",
              "    }\n",
              "\n",
              "    .colab-df-convert {\n",
              "      background-color: #E8F0FE;\n",
              "      border: none;\n",
              "      border-radius: 50%;\n",
              "      cursor: pointer;\n",
              "      display: none;\n",
              "      fill: #1967D2;\n",
              "      height: 32px;\n",
              "      padding: 0 0 0 0;\n",
              "      width: 32px;\n",
              "    }\n",
              "\n",
              "    .colab-df-convert:hover {\n",
              "      background-color: #E2EBFA;\n",
              "      box-shadow: 0px 1px 2px rgba(60, 64, 67, 0.3), 0px 1px 3px 1px rgba(60, 64, 67, 0.15);\n",
              "      fill: #174EA6;\n",
              "    }\n",
              "\n",
              "    [theme=dark] .colab-df-convert {\n",
              "      background-color: #3B4455;\n",
              "      fill: #D2E3FC;\n",
              "    }\n",
              "\n",
              "    [theme=dark] .colab-df-convert:hover {\n",
              "      background-color: #434B5C;\n",
              "      box-shadow: 0px 1px 3px 1px rgba(0, 0, 0, 0.15);\n",
              "      filter: drop-shadow(0px 1px 2px rgba(0, 0, 0, 0.3));\n",
              "      fill: #FFFFFF;\n",
              "    }\n",
              "  </style>\n",
              "\n",
              "      <script>\n",
              "        const buttonEl =\n",
              "          document.querySelector('#df-0e132089-94f4-4ca9-8f18-474e711e0cd3 button.colab-df-convert');\n",
              "        buttonEl.style.display =\n",
              "          google.colab.kernel.accessAllowed ? 'block' : 'none';\n",
              "\n",
              "        async function convertToInteractive(key) {\n",
              "          const element = document.querySelector('#df-0e132089-94f4-4ca9-8f18-474e711e0cd3');\n",
              "          const dataTable =\n",
              "            await google.colab.kernel.invokeFunction('convertToInteractive',\n",
              "                                                     [key], {});\n",
              "          if (!dataTable) return;\n",
              "\n",
              "          const docLinkHtml = 'Like what you see? Visit the ' +\n",
              "            '<a target=\"_blank\" href=https://colab.research.google.com/notebooks/data_table.ipynb>data table notebook</a>'\n",
              "            + ' to learn more about interactive tables.';\n",
              "          element.innerHTML = '';\n",
              "          dataTable['output_type'] = 'display_data';\n",
              "          await google.colab.output.renderOutput(dataTable, element);\n",
              "          const docLink = document.createElement('div');\n",
              "          docLink.innerHTML = docLinkHtml;\n",
              "          element.appendChild(docLink);\n",
              "        }\n",
              "      </script>\n",
              "    </div>\n",
              "  </div>\n",
              "  "
            ]
          },
          "metadata": {},
          "execution_count": 252
        }
      ]
    },
    {
      "cell_type": "code",
      "source": [
        "#vamos agora plotar o gráfico onde o eixo x vai se referir aos setores e o eixo y ao percentual de reincidência \n",
        "\n",
        "fig, ax = plt.subplots(figsize=(20, 5))\n",
        "sns.set(style = 'whitegrid')  \n",
        "sns.barplot(y=dados_agrupados_count['Sector'], x=dados_agrupados_count['Percentual'])\n",
        "\n",
        "\n",
        "plt.legend(['Percentual dos Reincidentes'], fontsize=14)\n",
        "plt.ylabel('Setor', fontsize=14)\n",
        "plt.xlabel('Percentual', fontsize=14)\n",
        "plt.title('Quantidade de Reincidência por Setor ', fontsize=14)\n"
      ],
      "metadata": {
        "id": "kLrPoqivb9yZ",
        "colab": {
          "base_uri": "https://localhost:8080/",
          "height": 376
        },
        "outputId": "794150dc-2d9d-4962-970e-045e3549e19d"
      },
      "execution_count": 253,
      "outputs": [
        {
          "output_type": "execute_result",
          "data": {
            "text/plain": [
              "Text(0.5, 1.0, 'Quantidade de Reincidência por Setor ')"
            ]
          },
          "metadata": {},
          "execution_count": 253
        },
        {
          "output_type": "display_data",
          "data": {
            "text/plain": [
              "<Figure size 1440x360 with 1 Axes>"
            ],
            "image/png": "[encoded data removed]"
          },
          "metadata": {}
        }
      ]
    },
    {
      "cell_type": "markdown",
      "source": [
        "##Passo 2: Vamos fazer agora uma análise para ver o RANK por setor para tipo de incidência correspondente à Level 2 - Use of Force (que é o que a questão pede)"
      ],
      "metadata": {
        "id": "JvLWB2OUgqeN"
      }
    },
    {
      "cell_type": "code",
      "source": [
        "#vamos fazer um agrupamento para contar a quantidade de incidências(incident_type) para cada precinct e sector\n",
        "dados_incidencia_setor = dados.groupby(['Precinct', 'Sector', 'Incident_Type'])['Incident_Num'].count()\n",
        "dados_incidencia_setor"
      ],
      "metadata": {
        "id": "1yIMjZn3hdcJ",
        "colab": {
          "base_uri": "https://localhost:8080/",
          "height": 0
        },
        "outputId": "4e542fb9-3127-41e3-e014-37515321e5a8"
      },
      "execution_count": 255,
      "outputs": [
        {
          "output_type": "execute_result",
          "data": {
            "text/plain": [
              "Precinct  Sector   Incident_Type         \n",
              "East      CHARLIE  Level 1 - Use of Force    315\n",
              "                   Level 2 - Use of Force    105\n",
              "                   Level 3 - OIS               1\n",
              "                   Level 3 - Use of Force      4\n",
              "          EDWARD   Level 1 - Use of Force    903\n",
              "                                            ... \n",
              "West      MARY     Level 3 - Use of Force     15\n",
              "          QUEEN    Level 1 - Use of Force    396\n",
              "                   Level 2 - Use of Force    100\n",
              "                   Level 3 - OIS               7\n",
              "                   Level 3 - Use of Force      6\n",
              "Name: Incident_Num, Length: 67, dtype: int64"
            ]
          },
          "metadata": {},
          "execution_count": 255
        }
      ]
    },
    {
      "cell_type": "code",
      "source": [
        "#vamos criar um dataframe para armazenar o percentual (dados_incidencia_setor_percentual)\n",
        "dados_incidencia_setor_percentual = dados_incidencia_setor.groupby(level=1).apply(lambda x: x * 100/ x.sum()).reset_index()\n",
        "dados_incidencia_setor_percentual"
      ],
      "metadata": {
        "id": "GjhKeupQsE2a",
        "colab": {
          "base_uri": "https://localhost:8080/",
          "height": 424
        },
        "outputId": "d33dfcf5-c585-4361-a9b7-a1f1329adc70"
      },
      "execution_count": 256,
      "outputs": [
        {
          "output_type": "execute_result",
          "data": {
            "text/plain": [
              "   Precinct   Sector           Incident_Type  Incident_Num\n",
              "0      East  CHARLIE  Level 1 - Use of Force     74.117647\n",
              "1      East  CHARLIE  Level 2 - Use of Force     24.705882\n",
              "2      East  CHARLIE           Level 3 - OIS      0.235294\n",
              "3      East  CHARLIE  Level 3 - Use of Force      0.941176\n",
              "4      East   EDWARD  Level 1 - Use of Force     51.956272\n",
              "..      ...      ...                     ...           ...\n",
              "62     West     MARY  Level 3 - Use of Force      1.503006\n",
              "63     West    QUEEN  Level 1 - Use of Force     77.799607\n",
              "64     West    QUEEN  Level 2 - Use of Force     19.646365\n",
              "65     West    QUEEN           Level 3 - OIS      1.375246\n",
              "66     West    QUEEN  Level 3 - Use of Force      1.178782\n",
              "\n",
              "[67 rows x 4 columns]"
            ],
            "text/html": [
              "\n",
              "  <div id=\"df-82ef5e7d-1a7f-4b92-8e52-09d66077c3ed\">\n",
              "    <div class=\"colab-df-container\">\n",
              "      <div>\n",
              "<style scoped>\n",
              "    .dataframe tbody tr th:only-of-type {\n",
              "        vertical-align: middle;\n",
              "    }\n",
              "\n",
              "    .dataframe tbody tr th {\n",
              "        vertical-align: top;\n",
              "    }\n",
              "\n",
              "    .dataframe thead th {\n",
              "        text-align: right;\n",
              "    }\n",
              "</style>\n",
              "<table border=\"1\" class=\"dataframe\">\n",
              "  <thead>\n",
              "    <tr style=\"text-align: right;\">\n",
              "      <th></th>\n",
              "      <th>Precinct</th>\n",
              "      <th>Sector</th>\n",
              "      <th>Incident_Type</th>\n",
              "      <th>Incident_Num</th>\n",
              "    </tr>\n",
              "  </thead>\n",
              "  <tbody>\n",
              "    <tr>\n",
              "      <th>0</th>\n",
              "      <td>East</td>\n",
              "      <td>CHARLIE</td>\n",
              "      <td>Level 1 - Use of Force</td>\n",
              "      <td>74.117647</td>\n",
              "    </tr>\n",
              "    <tr>\n",
              "      <th>1</th>\n",
              "      <td>East</td>\n",
              "      <td>CHARLIE</td>\n",
              "      <td>Level 2 - Use of Force</td>\n",
              "      <td>24.705882</td>\n",
              "    </tr>\n",
              "    <tr>\n",
              "      <th>2</th>\n",
              "      <td>East</td>\n",
              "      <td>CHARLIE</td>\n",
              "      <td>Level 3 - OIS</td>\n",
              "      <td>0.235294</td>\n",
              "    </tr>\n",
              "    <tr>\n",
              "      <th>3</th>\n",
              "      <td>East</td>\n",
              "      <td>CHARLIE</td>\n",
              "      <td>Level 3 - Use of Force</td>\n",
              "      <td>0.941176</td>\n",
              "    </tr>\n",
              "    <tr>\n",
              "      <th>4</th>\n",
              "      <td>East</td>\n",
              "      <td>EDWARD</td>\n",
              "      <td>Level 1 - Use of Force</td>\n",
              "      <td>51.956272</td>\n",
              "    </tr>\n",
              "    <tr>\n",
              "      <th>...</th>\n",
              "      <td>...</td>\n",
              "      <td>...</td>\n",
              "      <td>...</td>\n",
              "      <td>...</td>\n",
              "    </tr>\n",
              "    <tr>\n",
              "      <th>62</th>\n",
              "      <td>West</td>\n",
              "      <td>MARY</td>\n",
              "      <td>Level 3 - Use of Force</td>\n",
              "      <td>1.503006</td>\n",
              "    </tr>\n",
              "    <tr>\n",
              "      <th>63</th>\n",
              "      <td>West</td>\n",
              "      <td>QUEEN</td>\n",
              "      <td>Level 1 - Use of Force</td>\n",
              "      <td>77.799607</td>\n",
              "    </tr>\n",
              "    <tr>\n",
              "      <th>64</th>\n",
              "      <td>West</td>\n",
              "      <td>QUEEN</td>\n",
              "      <td>Level 2 - Use of Force</td>\n",
              "      <td>19.646365</td>\n",
              "    </tr>\n",
              "    <tr>\n",
              "      <th>65</th>\n",
              "      <td>West</td>\n",
              "      <td>QUEEN</td>\n",
              "      <td>Level 3 - OIS</td>\n",
              "      <td>1.375246</td>\n",
              "    </tr>\n",
              "    <tr>\n",
              "      <th>66</th>\n",
              "      <td>West</td>\n",
              "      <td>QUEEN</td>\n",
              "      <td>Level 3 - Use of Force</td>\n",
              "      <td>1.178782</td>\n",
              "    </tr>\n",
              "  </tbody>\n",
              "</table>\n",
              "<p>67 rows × 4 columns</p>\n",
              "</div>\n",
              "      <button class=\"colab-df-convert\" onclick=\"convertToInteractive('df-82ef5e7d-1a7f-4b92-8e52-09d66077c3ed')\"\n",
              "              title=\"Convert this dataframe to an interactive table.\"\n",
              "              style=\"display:none;\">\n",
              "        \n",
              "  <svg xmlns=\"http://www.w3.org/2000/svg\" height=\"24px\"viewBox=\"0 0 24 24\"\n",
              "       width=\"24px\">\n",
              "    <path d=\"M0 0h24v24H0V0z\" fill=\"none\"/>\n",
              "    <path d=\"M18.56 5.44l.94 2.06.94-2.06 2.06-.94-2.06-.94-.94-2.06-.94 2.06-2.06.94zm-11 1L8.5 8.5l.94-2.06 2.06-.94-2.06-.94L8.5 2.5l-.94 2.06-2.06.94zm10 10l.94 2.06.94-2.06 2.06-.94-2.06-.94-.94-2.06-.94 2.06-2.06.94z\"/><path d=\"M17.41 7.96l-1.37-1.37c-.4-.4-.92-.59-1.43-.59-.52 0-1.04.2-1.43.59L10.3 9.45l-7.72 7.72c-.78.78-.78 2.05 0 2.83L4 21.41c.39.39.9.59 1.41.59.51 0 1.02-.2 1.41-.59l7.78-7.78 2.81-2.81c.8-.78.8-2.07 0-2.86zM5.41 20L4 18.59l7.72-7.72 1.47 1.35L5.41 20z\"/>\n",
              "  </svg>\n",
              "      </button>\n",
              "      \n",
              "  <style>\n",
              "    .colab-df-container {\n",
              "      display:flex;\n",
              "      flex-wrap:wrap;\n",
              "      gap: 12px;\n",
              "    }\n",
              "\n",
              "    .colab-df-convert {\n",
              "      background-color: #E8F0FE;\n",
              "      border: none;\n",
              "      border-radius: 50%;\n",
              "      cursor: pointer;\n",
              "      display: none;\n",
              "      fill: #1967D2;\n",
              "      height: 32px;\n",
              "      padding: 0 0 0 0;\n",
              "      width: 32px;\n",
              "    }\n",
              "\n",
              "    .colab-df-convert:hover {\n",
              "      background-color: #E2EBFA;\n",
              "      box-shadow: 0px 1px 2px rgba(60, 64, 67, 0.3), 0px 1px 3px 1px rgba(60, 64, 67, 0.15);\n",
              "      fill: #174EA6;\n",
              "    }\n",
              "\n",
              "    [theme=dark] .colab-df-convert {\n",
              "      background-color: #3B4455;\n",
              "      fill: #D2E3FC;\n",
              "    }\n",
              "\n",
              "    [theme=dark] .colab-df-convert:hover {\n",
              "      background-color: #434B5C;\n",
              "      box-shadow: 0px 1px 3px 1px rgba(0, 0, 0, 0.15);\n",
              "      filter: drop-shadow(0px 1px 2px rgba(0, 0, 0, 0.3));\n",
              "      fill: #FFFFFF;\n",
              "    }\n",
              "  </style>\n",
              "\n",
              "      <script>\n",
              "        const buttonEl =\n",
              "          document.querySelector('#df-82ef5e7d-1a7f-4b92-8e52-09d66077c3ed button.colab-df-convert');\n",
              "        buttonEl.style.display =\n",
              "          google.colab.kernel.accessAllowed ? 'block' : 'none';\n",
              "\n",
              "        async function convertToInteractive(key) {\n",
              "          const element = document.querySelector('#df-82ef5e7d-1a7f-4b92-8e52-09d66077c3ed');\n",
              "          const dataTable =\n",
              "            await google.colab.kernel.invokeFunction('convertToInteractive',\n",
              "                                                     [key], {});\n",
              "          if (!dataTable) return;\n",
              "\n",
              "          const docLinkHtml = 'Like what you see? Visit the ' +\n",
              "            '<a target=\"_blank\" href=https://colab.research.google.com/notebooks/data_table.ipynb>data table notebook</a>'\n",
              "            + ' to learn more about interactive tables.';\n",
              "          element.innerHTML = '';\n",
              "          dataTable['output_type'] = 'display_data';\n",
              "          await google.colab.output.renderOutput(dataTable, element);\n",
              "          const docLink = document.createElement('div');\n",
              "          docLink.innerHTML = docLinkHtml;\n",
              "          element.appendChild(docLink);\n",
              "        }\n",
              "      </script>\n",
              "    </div>\n",
              "  </div>\n",
              "  "
            ]
          },
          "metadata": {},
          "execution_count": 256
        }
      ]
    },
    {
      "cell_type": "code",
      "source": [
        "level_2 = dados_incidencia_setor_percentual['Incident_Type'] == 'Level 2 - Use of Force'\n",
        "dados_incidencia_setor_percentual = dados_incidencia_setor_percentual[level_2]\n",
        "dados_incidencia_setor_percentual.rename(columns={'Incident_Num': 'Percentual'}, inplace=True)\n",
        "dados_incidencia_setor_percentual.sort_values(by='Percentual', ascending=True, inplace=True)\n",
        "#dados_incidencia_setor_percentual.set_index(['Precinct', 'Sector'], inplace=True)\n",
        "\n",
        "\n",
        "\n",
        "\n"
      ],
      "metadata": {
        "id": "4QhVBP-Uhz2X",
        "colab": {
          "base_uri": "https://localhost:8080/",
          "height": 0
        },
        "outputId": "7b2d39e7-885d-453d-eb57-950bc905a6b4"
      },
      "execution_count": 257,
      "outputs": [
        {
          "output_type": "stream",
          "name": "stderr",
          "text": [
            "/usr/local/lib/python3.7/dist-packages/pandas/core/frame.py:5047: SettingWithCopyWarning: \n",
            "A value is trying to be set on a copy of a slice from a DataFrame\n",
            "\n",
            "See the caveats in the documentation: https://pandas.pydata.org/pandas-docs/stable/user_guide/indexing.html#returning-a-view-versus-a-copy\n",
            "  errors=errors,\n",
            "/usr/local/lib/python3.7/dist-packages/pandas/util/_decorators.py:311: SettingWithCopyWarning: \n",
            "A value is trying to be set on a copy of a slice from a DataFrame\n",
            "\n",
            "See the caveats in the documentation: https://pandas.pydata.org/pandas-docs/stable/user_guide/indexing.html#returning-a-view-versus-a-copy\n",
            "  return func(*args, **kwargs)\n"
          ]
        }
      ]
    },
    {
      "cell_type": "code",
      "source": [
        "\n",
        "dados_incidencia_setor_percentual.plot(kind='barh', figsize=(15, 5))\n",
        "plt.ylabel('Delegacia e Setor')\n",
        "plt.legend(['Porcentagem'], fontsize=15)\n",
        "plt.title('Porcentagem de Incidentes level 2 por Setor', fontsize=16)\n"
      ],
      "metadata": {
        "id": "q9YgrcfArbvg",
        "colab": {
          "base_uri": "https://localhost:8080/",
          "height": 358
        },
        "outputId": "ae784273-0a3f-401d-a8d5-bca2e01f541c"
      },
      "execution_count": 234,
      "outputs": [
        {
          "output_type": "execute_result",
          "data": {
            "text/plain": [
              "Text(0.5, 1.0, 'Porcentagem de Incidentes level 2 por Setor')"
            ]
          },
          "metadata": {},
          "execution_count": 234
        },
        {
          "output_type": "display_data",
          "data": {
            "text/plain": [
              "<Figure size 1080x360 with 1 Axes>"
            ],
            "image/png": "[encoded data removed]"
          },
          "metadata": {}
        }
      ]
    },
    {
      "cell_type": "code",
      "source": [
        "dados_incidencia_setor_percentual.reset_index(inplace=True)\n",
        "dados_incidencia_setor_percentual.sort_values(by='Sector', ascending=False, inplace=True)"
      ],
      "metadata": {
        "colab": {
          "base_uri": "https://localhost:8080/",
          "height": 0
        },
        "id": "kNMs7kci7W6I",
        "outputId": "94859787-29b9-46cd-bc6b-a623fe118704"
      },
      "execution_count": 263,
      "outputs": [
        {
          "output_type": "stream",
          "name": "stderr",
          "text": [
            "/usr/local/lib/python3.7/dist-packages/pandas/util/_decorators.py:311: SettingWithCopyWarning: \n",
            "A value is trying to be set on a copy of a slice from a DataFrame\n",
            "\n",
            "See the caveats in the documentation: https://pandas.pydata.org/pandas-docs/stable/user_guide/indexing.html#returning-a-view-versus-a-copy\n",
            "  return func(*args, **kwargs)\n"
          ]
        }
      ]
    },
    {
      "cell_type": "code",
      "source": [
        "fig, ax = plt.subplots(figsize=(20, 5)) \n",
        "\n",
        "plt.scatter(x=dados_agrupados_count['Sector'], y=dados_agrupados_count['Percentual'])\n",
        "plt.scatter(x=dados_incidencia_setor_percentual['Sector'], y=dados_incidencia_setor_percentual['Percentual'], color='purple', marker='s')\n",
        "\n",
        "\n",
        "plt.ylabel('Porcentagem', fontsize=13)\n",
        "plt.xlabel('Setor', fontsize=15)\n",
        "plt.title('Relação entre Reincidência por Civis e Incidentes Level 2', fontsize=15)\n",
        "plt.legend(['Reincidência por Civil', 'Incidentes Level 2'])"
      ],
      "metadata": {
        "id": "S3-nGHiUuhnV",
        "colab": {
          "base_uri": "https://localhost:8080/",
          "height": 378
        },
        "outputId": "fc0bb393-c709-432c-c096-108c1dec19c3"
      },
      "execution_count": 259,
      "outputs": [
        {
          "output_type": "execute_result",
          "data": {
            "text/plain": [
              "<matplotlib.legend.Legend at 0x7f53ad116610>"
            ]
          },
          "metadata": {},
          "execution_count": 259
        },
        {
          "output_type": "display_data",
          "data": {
            "text/plain": [
              "<Figure size 1440x360 with 1 Axes>"
            ],
            "image/png": "[encoded data removed]"
          },
          "metadata": {}
        }
      ]
    },
    {
      "cell_type": "markdown",
      "source": [
        "Como podemos perceber nos 3 últimos gráficos acima: não conseguimos achar uma correlação visual entre a reincidência por civis e incidentes level 2. A porcentagem de reicidentes por civis é de modeo geral maior que a porcentagem de incidentes level 2.\n"
      ],
      "metadata": {
        "id": "eiSnfdgMuURS"
      }
    },
    {
      "cell_type": "markdown",
      "source": [
        "O coeficiente de Pearson, também chamado de “coeficiente de correlação produto-momento” ou chamado de “ρ de Pearson”, mede o grau de correlação através do cálculo de direção positiva ou negativa. Este coeficiente, normalmente representado por ρ assume apenas valores entre -1 e 1. A correlação nos indica a interdependência entre duas ou mais variáveis. É uma informação importante, que pode ser aplicada em várias situações. Para isso vamos usar a função corr do pandas.\n"
      ],
      "metadata": {
        "id": "xYRXtcPLz8fo"
      }
    },
    {
      "cell_type": "code",
      "source": [
        "dados_agrupados_count['Percentual'].corr(dados_incidencia_setor_percentual['Percentual'])"
      ],
      "metadata": {
        "id": "ali4Guy60sgJ",
        "colab": {
          "base_uri": "https://localhost:8080/",
          "height": 0
        },
        "outputId": "e5aa6622-79e6-498f-e504-0479fc7c4330"
      },
      "execution_count": 264,
      "outputs": [
        {
          "output_type": "execute_result",
          "data": {
            "text/plain": [
              "0.3955287165548508"
            ]
          },
          "metadata": {},
          "execution_count": 264
        }
      ]
    },
    {
      "cell_type": "markdown",
      "source": [
        "Em nosso resultado obtivemos uma correlação positiva que ocorre quando duas variáveis que possuem correlação crescem ou decrescem juntas, ou seja, que possuem uma relação direta, porém o valor aqui obtido está entre 0.3 e 0.5 o que caracteriza uma correlação  fraca.\n"
      ],
      "metadata": {
        "id": "eaFVJFaL1V3R"
      }
    },
    {
      "cell_type": "markdown",
      "source": [
        "#Questão 3: Considerando que é interessante para a Polícia de Seattle predizer o possível nível do uso da forca policial empregado em uma ocorrência, crie um modelo de classificação utilizando técnicas clássicas de Aprendizagem de Máquina (por exemplo: Regressão logística, Árvores de Decisão, Máquina de Vetores de Suporte (SVM)). Utilize diferentes métricas para avaliar o seu modelo. Qual acurácia seu modelo obteve e a que se deve isto?"
      ],
      "metadata": {
        "id": "WITa78VAD2lc"
      }
    },
    {
      "cell_type": "markdown",
      "metadata": {
        "id": "Csssfjt7HXvU"
      },
      "source": [
        "As variáveis 'ID' e 'Incident_Num' não são informativas para o modelo de classificação, pois possuem valores únicos para cada observação. A variável 'Officer_ID' não possui apenas valores únicos, mas apresenta informações irrelevantes para um modelo generalizado de classificação. Portanto, estas serão removidas da base de dados. A variável 'Subject_ID' também será removida, mas em seu lugar, pode ser relevante considerar se a ocorrência é uma reincidência ou não. "
      ]
    },
    {
      "cell_type": "code",
      "execution_count": 354,
      "metadata": {
        "id": "T157BaXKHXvU"
      },
      "outputs": [],
      "source": [
        "dados = dados.drop(['ID', 'Incident_Num', 'Officer_ID', 'Subject_ID', 'Beat'], axis=1)"
      ]
    },
    {
      "cell_type": "code",
      "execution_count": 355,
      "metadata": {
        "id": "89357hymHXvU"
      },
      "outputs": [],
      "source": [
        "dados['Month'] = pd.DatetimeIndex(dados['Occured_date_time']).month"
      ]
    },
    {
      "cell_type": "code",
      "execution_count": 356,
      "metadata": {
        "id": "PGyyk9tZHXvU"
      },
      "outputs": [],
      "source": [
        "dados = dados.drop(['Occured_date_time'], axis=1)"
      ]
    },
    {
      "cell_type": "code",
      "execution_count": 357,
      "metadata": {
        "id": "YmR_iJW5HXvV",
        "outputId": "558278a1-fe23-4b4e-8606-fa9b981ed1a0",
        "colab": {
          "base_uri": "https://localhost:8080/",
          "height": 206
        }
      },
      "outputs": [
        {
          "output_type": "execute_result",
          "data": {
            "text/plain": [
              "            Incident_Type Precinct   Sector               Subject_Race  \\\n",
              "0  Level 1 - Use of Force     East  CHARLIE  Black or African American   \n",
              "1  Level 1 - Use of Force     East   GEORGE                      White   \n",
              "2  Level 1 - Use of Force     West     KING                      Asian   \n",
              "3  Level 1 - Use of Force     East   EDWARD  Black or African American   \n",
              "4  Level 1 - Use of Force    South   ROBERT  Black or African American   \n",
              "\n",
              "  Subject_Gender  Month  \n",
              "0           Male      6  \n",
              "1           Male      5  \n",
              "2         Female      5  \n",
              "3           Male      5  \n",
              "4           Male      6  "
            ],
            "text/html": [
              "\n",
              "  <div id=\"df-802dab55-692c-44de-9874-64a845185ac9\">\n",
              "    <div class=\"colab-df-container\">\n",
              "      <div>\n",
              "<style scoped>\n",
              "    .dataframe tbody tr th:only-of-type {\n",
              "        vertical-align: middle;\n",
              "    }\n",
              "\n",
              "    .dataframe tbody tr th {\n",
              "        vertical-align: top;\n",
              "    }\n",
              "\n",
              "    .dataframe thead th {\n",
              "        text-align: right;\n",
              "    }\n",
              "</style>\n",
              "<table border=\"1\" class=\"dataframe\">\n",
              "  <thead>\n",
              "    <tr style=\"text-align: right;\">\n",
              "      <th></th>\n",
              "      <th>Incident_Type</th>\n",
              "      <th>Precinct</th>\n",
              "      <th>Sector</th>\n",
              "      <th>Subject_Race</th>\n",
              "      <th>Subject_Gender</th>\n",
              "      <th>Month</th>\n",
              "    </tr>\n",
              "  </thead>\n",
              "  <tbody>\n",
              "    <tr>\n",
              "      <th>0</th>\n",
              "      <td>Level 1 - Use of Force</td>\n",
              "      <td>East</td>\n",
              "      <td>CHARLIE</td>\n",
              "      <td>Black or African American</td>\n",
              "      <td>Male</td>\n",
              "      <td>6</td>\n",
              "    </tr>\n",
              "    <tr>\n",
              "      <th>1</th>\n",
              "      <td>Level 1 - Use of Force</td>\n",
              "      <td>East</td>\n",
              "      <td>GEORGE</td>\n",
              "      <td>White</td>\n",
              "      <td>Male</td>\n",
              "      <td>5</td>\n",
              "    </tr>\n",
              "    <tr>\n",
              "      <th>2</th>\n",
              "      <td>Level 1 - Use of Force</td>\n",
              "      <td>West</td>\n",
              "      <td>KING</td>\n",
              "      <td>Asian</td>\n",
              "      <td>Female</td>\n",
              "      <td>5</td>\n",
              "    </tr>\n",
              "    <tr>\n",
              "      <th>3</th>\n",
              "      <td>Level 1 - Use of Force</td>\n",
              "      <td>East</td>\n",
              "      <td>EDWARD</td>\n",
              "      <td>Black or African American</td>\n",
              "      <td>Male</td>\n",
              "      <td>5</td>\n",
              "    </tr>\n",
              "    <tr>\n",
              "      <th>4</th>\n",
              "      <td>Level 1 - Use of Force</td>\n",
              "      <td>South</td>\n",
              "      <td>ROBERT</td>\n",
              "      <td>Black or African American</td>\n",
              "      <td>Male</td>\n",
              "      <td>6</td>\n",
              "    </tr>\n",
              "  </tbody>\n",
              "</table>\n",
              "</div>\n",
              "      <button class=\"colab-df-convert\" onclick=\"convertToInteractive('df-802dab55-692c-44de-9874-64a845185ac9')\"\n",
              "              title=\"Convert this dataframe to an interactive table.\"\n",
              "              style=\"display:none;\">\n",
              "        \n",
              "  <svg xmlns=\"http://www.w3.org/2000/svg\" height=\"24px\"viewBox=\"0 0 24 24\"\n",
              "       width=\"24px\">\n",
              "    <path d=\"M0 0h24v24H0V0z\" fill=\"none\"/>\n",
              "    <path d=\"M18.56 5.44l.94 2.06.94-2.06 2.06-.94-2.06-.94-.94-2.06-.94 2.06-2.06.94zm-11 1L8.5 8.5l.94-2.06 2.06-.94-2.06-.94L8.5 2.5l-.94 2.06-2.06.94zm10 10l.94 2.06.94-2.06 2.06-.94-2.06-.94-.94-2.06-.94 2.06-2.06.94z\"/><path d=\"M17.41 7.96l-1.37-1.37c-.4-.4-.92-.59-1.43-.59-.52 0-1.04.2-1.43.59L10.3 9.45l-7.72 7.72c-.78.78-.78 2.05 0 2.83L4 21.41c.39.39.9.59 1.41.59.51 0 1.02-.2 1.41-.59l7.78-7.78 2.81-2.81c.8-.78.8-2.07 0-2.86zM5.41 20L4 18.59l7.72-7.72 1.47 1.35L5.41 20z\"/>\n",
              "  </svg>\n",
              "      </button>\n",
              "      \n",
              "  <style>\n",
              "    .colab-df-container {\n",
              "      display:flex;\n",
              "      flex-wrap:wrap;\n",
              "      gap: 12px;\n",
              "    }\n",
              "\n",
              "    .colab-df-convert {\n",
              "      background-color: #E8F0FE;\n",
              "      border: none;\n",
              "      border-radius: 50%;\n",
              "      cursor: pointer;\n",
              "      display: none;\n",
              "      fill: #1967D2;\n",
              "      height: 32px;\n",
              "      padding: 0 0 0 0;\n",
              "      width: 32px;\n",
              "    }\n",
              "\n",
              "    .colab-df-convert:hover {\n",
              "      background-color: #E2EBFA;\n",
              "      box-shadow: 0px 1px 2px rgba(60, 64, 67, 0.3), 0px 1px 3px 1px rgba(60, 64, 67, 0.15);\n",
              "      fill: #174EA6;\n",
              "    }\n",
              "\n",
              "    [theme=dark] .colab-df-convert {\n",
              "      background-color: #3B4455;\n",
              "      fill: #D2E3FC;\n",
              "    }\n",
              "\n",
              "    [theme=dark] .colab-df-convert:hover {\n",
              "      background-color: #434B5C;\n",
              "      box-shadow: 0px 1px 3px 1px rgba(0, 0, 0, 0.15);\n",
              "      filter: drop-shadow(0px 1px 2px rgba(0, 0, 0, 0.3));\n",
              "      fill: #FFFFFF;\n",
              "    }\n",
              "  </style>\n",
              "\n",
              "      <script>\n",
              "        const buttonEl =\n",
              "          document.querySelector('#df-802dab55-692c-44de-9874-64a845185ac9 button.colab-df-convert');\n",
              "        buttonEl.style.display =\n",
              "          google.colab.kernel.accessAllowed ? 'block' : 'none';\n",
              "\n",
              "        async function convertToInteractive(key) {\n",
              "          const element = document.querySelector('#df-802dab55-692c-44de-9874-64a845185ac9');\n",
              "          const dataTable =\n",
              "            await google.colab.kernel.invokeFunction('convertToInteractive',\n",
              "                                                     [key], {});\n",
              "          if (!dataTable) return;\n",
              "\n",
              "          const docLinkHtml = 'Like what you see? Visit the ' +\n",
              "            '<a target=\"_blank\" href=https://colab.research.google.com/notebooks/data_table.ipynb>data table notebook</a>'\n",
              "            + ' to learn more about interactive tables.';\n",
              "          element.innerHTML = '';\n",
              "          dataTable['output_type'] = 'display_data';\n",
              "          await google.colab.output.renderOutput(dataTable, element);\n",
              "          const docLink = document.createElement('div');\n",
              "          docLink.innerHTML = docLinkHtml;\n",
              "          element.appendChild(docLink);\n",
              "        }\n",
              "      </script>\n",
              "    </div>\n",
              "  </div>\n",
              "  "
            ]
          },
          "metadata": {},
          "execution_count": 357
        }
      ],
      "source": [
        "dados.head()"
      ]
    },
    {
      "cell_type": "markdown",
      "metadata": {
        "id": "Xw5xxr3wHXvV"
      },
      "source": [
        "Com exceção da variável que indica o mês da ocorrência, todas as outras são categóricas. Neste caso, é importante codificá-las. Para isso, a estratégia mais apropriada é o One-hot-encoding."
      ]
    },
    {
      "cell_type": "code",
      "execution_count": 358,
      "metadata": {
        "id": "QnjrSGYOHXvV"
      },
      "outputs": [],
      "source": [
        "dados_encoded = dados.copy()"
      ]
    },
    {
      "cell_type": "code",
      "execution_count": 359,
      "metadata": {
        "id": "sOo1R10zHXvV",
        "outputId": "cc31654a-b212-456f-bfe1-ec4e7f539461",
        "colab": {
          "base_uri": "https://localhost:8080/",
          "height": 206
        }
      },
      "outputs": [
        {
          "output_type": "execute_result",
          "data": {
            "text/plain": [
              "            Incident_Type Precinct   Sector               Subject_Race  \\\n",
              "0  Level 1 - Use of Force     East  CHARLIE  Black or African American   \n",
              "1  Level 1 - Use of Force     East   GEORGE                      White   \n",
              "2  Level 1 - Use of Force     West     KING                      Asian   \n",
              "3  Level 1 - Use of Force     East   EDWARD  Black or African American   \n",
              "4  Level 1 - Use of Force    South   ROBERT  Black or African American   \n",
              "\n",
              "  Subject_Gender  Month  \n",
              "0           Male      6  \n",
              "1           Male      5  \n",
              "2         Female      5  \n",
              "3           Male      5  \n",
              "4           Male      6  "
            ],
            "text/html": [
              "\n",
              "  <div id=\"df-558e0d78-66a2-4c3d-877c-96bb0c394b1c\">\n",
              "    <div class=\"colab-df-container\">\n",
              "      <div>\n",
              "<style scoped>\n",
              "    .dataframe tbody tr th:only-of-type {\n",
              "        vertical-align: middle;\n",
              "    }\n",
              "\n",
              "    .dataframe tbody tr th {\n",
              "        vertical-align: top;\n",
              "    }\n",
              "\n",
              "    .dataframe thead th {\n",
              "        text-align: right;\n",
              "    }\n",
              "</style>\n",
              "<table border=\"1\" class=\"dataframe\">\n",
              "  <thead>\n",
              "    <tr style=\"text-align: right;\">\n",
              "      <th></th>\n",
              "      <th>Incident_Type</th>\n",
              "      <th>Precinct</th>\n",
              "      <th>Sector</th>\n",
              "      <th>Subject_Race</th>\n",
              "      <th>Subject_Gender</th>\n",
              "      <th>Month</th>\n",
              "    </tr>\n",
              "  </thead>\n",
              "  <tbody>\n",
              "    <tr>\n",
              "      <th>0</th>\n",
              "      <td>Level 1 - Use of Force</td>\n",
              "      <td>East</td>\n",
              "      <td>CHARLIE</td>\n",
              "      <td>Black or African American</td>\n",
              "      <td>Male</td>\n",
              "      <td>6</td>\n",
              "    </tr>\n",
              "    <tr>\n",
              "      <th>1</th>\n",
              "      <td>Level 1 - Use of Force</td>\n",
              "      <td>East</td>\n",
              "      <td>GEORGE</td>\n",
              "      <td>White</td>\n",
              "      <td>Male</td>\n",
              "      <td>5</td>\n",
              "    </tr>\n",
              "    <tr>\n",
              "      <th>2</th>\n",
              "      <td>Level 1 - Use of Force</td>\n",
              "      <td>West</td>\n",
              "      <td>KING</td>\n",
              "      <td>Asian</td>\n",
              "      <td>Female</td>\n",
              "      <td>5</td>\n",
              "    </tr>\n",
              "    <tr>\n",
              "      <th>3</th>\n",
              "      <td>Level 1 - Use of Force</td>\n",
              "      <td>East</td>\n",
              "      <td>EDWARD</td>\n",
              "      <td>Black or African American</td>\n",
              "      <td>Male</td>\n",
              "      <td>5</td>\n",
              "    </tr>\n",
              "    <tr>\n",
              "      <th>4</th>\n",
              "      <td>Level 1 - Use of Force</td>\n",
              "      <td>South</td>\n",
              "      <td>ROBERT</td>\n",
              "      <td>Black or African American</td>\n",
              "      <td>Male</td>\n",
              "      <td>6</td>\n",
              "    </tr>\n",
              "  </tbody>\n",
              "</table>\n",
              "</div>\n",
              "      <button class=\"colab-df-convert\" onclick=\"convertToInteractive('df-558e0d78-66a2-4c3d-877c-96bb0c394b1c')\"\n",
              "              title=\"Convert this dataframe to an interactive table.\"\n",
              "              style=\"display:none;\">\n",
              "        \n",
              "  <svg xmlns=\"http://www.w3.org/2000/svg\" height=\"24px\"viewBox=\"0 0 24 24\"\n",
              "       width=\"24px\">\n",
              "    <path d=\"M0 0h24v24H0V0z\" fill=\"none\"/>\n",
              "    <path d=\"M18.56 5.44l.94 2.06.94-2.06 2.06-.94-2.06-.94-.94-2.06-.94 2.06-2.06.94zm-11 1L8.5 8.5l.94-2.06 2.06-.94-2.06-.94L8.5 2.5l-.94 2.06-2.06.94zm10 10l.94 2.06.94-2.06 2.06-.94-2.06-.94-.94-2.06-.94 2.06-2.06.94z\"/><path d=\"M17.41 7.96l-1.37-1.37c-.4-.4-.92-.59-1.43-.59-.52 0-1.04.2-1.43.59L10.3 9.45l-7.72 7.72c-.78.78-.78 2.05 0 2.83L4 21.41c.39.39.9.59 1.41.59.51 0 1.02-.2 1.41-.59l7.78-7.78 2.81-2.81c.8-.78.8-2.07 0-2.86zM5.41 20L4 18.59l7.72-7.72 1.47 1.35L5.41 20z\"/>\n",
              "  </svg>\n",
              "      </button>\n",
              "      \n",
              "  <style>\n",
              "    .colab-df-container {\n",
              "      display:flex;\n",
              "      flex-wrap:wrap;\n",
              "      gap: 12px;\n",
              "    }\n",
              "\n",
              "    .colab-df-convert {\n",
              "      background-color: #E8F0FE;\n",
              "      border: none;\n",
              "      border-radius: 50%;\n",
              "      cursor: pointer;\n",
              "      display: none;\n",
              "      fill: #1967D2;\n",
              "      height: 32px;\n",
              "      padding: 0 0 0 0;\n",
              "      width: 32px;\n",
              "    }\n",
              "\n",
              "    .colab-df-convert:hover {\n",
              "      background-color: #E2EBFA;\n",
              "      box-shadow: 0px 1px 2px rgba(60, 64, 67, 0.3), 0px 1px 3px 1px rgba(60, 64, 67, 0.15);\n",
              "      fill: #174EA6;\n",
              "    }\n",
              "\n",
              "    [theme=dark] .colab-df-convert {\n",
              "      background-color: #3B4455;\n",
              "      fill: #D2E3FC;\n",
              "    }\n",
              "\n",
              "    [theme=dark] .colab-df-convert:hover {\n",
              "      background-color: #434B5C;\n",
              "      box-shadow: 0px 1px 3px 1px rgba(0, 0, 0, 0.15);\n",
              "      filter: drop-shadow(0px 1px 2px rgba(0, 0, 0, 0.3));\n",
              "      fill: #FFFFFF;\n",
              "    }\n",
              "  </style>\n",
              "\n",
              "      <script>\n",
              "        const buttonEl =\n",
              "          document.querySelector('#df-558e0d78-66a2-4c3d-877c-96bb0c394b1c button.colab-df-convert');\n",
              "        buttonEl.style.display =\n",
              "          google.colab.kernel.accessAllowed ? 'block' : 'none';\n",
              "\n",
              "        async function convertToInteractive(key) {\n",
              "          const element = document.querySelector('#df-558e0d78-66a2-4c3d-877c-96bb0c394b1c');\n",
              "          const dataTable =\n",
              "            await google.colab.kernel.invokeFunction('convertToInteractive',\n",
              "                                                     [key], {});\n",
              "          if (!dataTable) return;\n",
              "\n",
              "          const docLinkHtml = 'Like what you see? Visit the ' +\n",
              "            '<a target=\"_blank\" href=https://colab.research.google.com/notebooks/data_table.ipynb>data table notebook</a>'\n",
              "            + ' to learn more about interactive tables.';\n",
              "          element.innerHTML = '';\n",
              "          dataTable['output_type'] = 'display_data';\n",
              "          await google.colab.output.renderOutput(dataTable, element);\n",
              "          const docLink = document.createElement('div');\n",
              "          docLink.innerHTML = docLinkHtml;\n",
              "          element.appendChild(docLink);\n",
              "        }\n",
              "      </script>\n",
              "    </div>\n",
              "  </div>\n",
              "  "
            ]
          },
          "metadata": {},
          "execution_count": 359
        }
      ],
      "source": [
        "dados.head()"
      ]
    },
    {
      "cell_type": "code",
      "execution_count": 360,
      "metadata": {
        "scrolled": true,
        "id": "XAc3WO2HHXvV"
      },
      "outputs": [],
      "source": [
        "dummy_vars = pd.get_dummies(dados['Precinct'])\n",
        "dados_encoded = pd.concat([dados_encoded, dummy_vars], axis=1, sort=False)\n",
        "dados_encoded = dados_encoded.drop(['Precinct'], axis=1)"
      ]
    },
    {
      "cell_type": "code",
      "execution_count": 361,
      "metadata": {
        "id": "V5ujd4f3HXvV"
      },
      "outputs": [],
      "source": [
        "dummy_vars = pd.get_dummies(dados['Sector'])\n",
        "dados_encoded = pd.concat([dados_encoded, dummy_vars], axis=1, sort=False)\n",
        "dados_encoded = dados_encoded.drop(['Sector'], axis=1)"
      ]
    },
    {
      "cell_type": "code",
      "execution_count": 362,
      "metadata": {
        "id": "y0JPy1ybHXvV"
      },
      "outputs": [],
      "source": [
        "dummy_vars = pd.get_dummies(dados['Subject_Race'])\n",
        "dados_encoded = pd.concat([dados_encoded, dummy_vars], axis=1, sort=False)\n",
        "dados_encoded = dados_encoded.drop(['Subject_Race'], axis=1)"
      ]
    },
    {
      "cell_type": "code",
      "execution_count": 363,
      "metadata": {
        "id": "pjm6zvJpHXvV"
      },
      "outputs": [],
      "source": [
        "dummy_vars = pd.get_dummies(dados['Subject_Gender'])\n",
        "dados_encoded = pd.concat([dados_encoded, dummy_vars], axis=1, sort=False)\n",
        "dados_encoded = dados_encoded.drop(['Subject_Gender'], axis=1)"
      ]
    },
    {
      "cell_type": "code",
      "execution_count": 364,
      "metadata": {
        "id": "bjkigOdCHXvV",
        "outputId": "edd6f8e1-b919-4c50-fcd2-517a0b84a215",
        "colab": {
          "base_uri": "https://localhost:8080/",
          "height": 0
        }
      },
      "outputs": [
        {
          "output_type": "execute_result",
          "data": {
            "text/plain": [
              "OneHotEncoder(handle_unknown='ignore')"
            ]
          },
          "metadata": {},
          "execution_count": 364
        }
      ],
      "source": [
        "enc = OneHotEncoder(handle_unknown='ignore')\n",
        "enc.fit(dados['Incident_Type'].values.reshape(-1, 1))"
      ]
    },
    {
      "cell_type": "code",
      "execution_count": 365,
      "metadata": {
        "id": "t94QjRpkHXvV"
      },
      "outputs": [],
      "source": [
        "nrow, ncol = dados.shape\n",
        "y = dados_encoded['Incident_Type']#enc.transform(dados_encoded['Incident_Type'].values.reshape(-1,1)).toarray()\n",
        "X = dados_encoded.loc[:, dados_encoded.columns != 'Incident_Type']"
      ]
    },
    {
      "cell_type": "code",
      "source": [
        "X"
      ],
      "metadata": {
        "colab": {
          "base_uri": "https://localhost:8080/",
          "height": 540
        },
        "id": "vKIyQZEtDBk0",
        "outputId": "e8bf9231-7d31-4b48-f7d4-92b322806256"
      },
      "execution_count": 366,
      "outputs": [
        {
          "output_type": "execute_result",
          "data": {
            "text/plain": [
              "       Month  East  North  South  Southwest  West  BOY  CHARLIE  DAVID  \\\n",
              "0          6     1      0      0          0     0    0        1      0   \n",
              "1          5     1      0      0          0     0    0        0      0   \n",
              "2          5     0      0      0          0     1    0        0      0   \n",
              "3          5     1      0      0          0     0    0        0      0   \n",
              "4          6     0      0      1          0     0    0        0      0   \n",
              "...      ...   ...    ...    ...        ...   ...  ...      ...    ...   \n",
              "13995      2     0      0      0          0     1    0        0      1   \n",
              "13996      1     0      1      0          0     0    0        0      0   \n",
              "13998      2     0      1      0          0     0    1        0      0   \n",
              "14004      3     0      0      1          0     0    0        0      0   \n",
              "14005      2     0      0      1          0     0    0        0      0   \n",
              "\n",
              "       EDWARD  ...  Not Specified  Two or More Races  White  Female  Male  \\\n",
              "0           0  ...              0                  0      0       0     1   \n",
              "1           0  ...              0                  0      1       0     1   \n",
              "2           0  ...              0                  0      0       1     0   \n",
              "3           1  ...              0                  0      0       0     1   \n",
              "4           0  ...              0                  0      0       0     1   \n",
              "...       ...  ...            ...                ...    ...     ...   ...   \n",
              "13995       0  ...              0                  0      0       1     0   \n",
              "13996       0  ...              0                  0      1       1     0   \n",
              "13998       0  ...              1                  0      0       1     0   \n",
              "14004       0  ...              1                  0      0       0     1   \n",
              "14005       0  ...              0                  0      0       0     1   \n",
              "\n",
              "       Non-binary  Other  Transgender Female  Transgender Male  Unknown  \n",
              "0               0      0                   0                 0        0  \n",
              "1               0      0                   0                 0        0  \n",
              "2               0      0                   0                 0        0  \n",
              "3               0      0                   0                 0        0  \n",
              "4               0      0                   0                 0        0  \n",
              "...           ...    ...                 ...               ...      ...  \n",
              "13995           0      0                   0                 0        0  \n",
              "13996           0      0                   0                 0        0  \n",
              "13998           0      0                   0                 0        0  \n",
              "14004           0      0                   0                 0        0  \n",
              "14005           0      0                   0                 0        0  \n",
              "\n",
              "[13313 rows x 38 columns]"
            ],
            "text/html": [
              "\n",
              "  <div id=\"df-0b188ac6-31dd-44b9-9db3-44bfddbf23e9\">\n",
              "    <div class=\"colab-df-container\">\n",
              "      <div>\n",
              "<style scoped>\n",
              "    .dataframe tbody tr th:only-of-type {\n",
              "        vertical-align: middle;\n",
              "    }\n",
              "\n",
              "    .dataframe tbody tr th {\n",
              "        vertical-align: top;\n",
              "    }\n",
              "\n",
              "    .dataframe thead th {\n",
              "        text-align: right;\n",
              "    }\n",
              "</style>\n",
              "<table border=\"1\" class=\"dataframe\">\n",
              "  <thead>\n",
              "    <tr style=\"text-align: right;\">\n",
              "      <th></th>\n",
              "      <th>Month</th>\n",
              "      <th>East</th>\n",
              "      <th>North</th>\n",
              "      <th>South</th>\n",
              "      <th>Southwest</th>\n",
              "      <th>West</th>\n",
              "      <th>BOY</th>\n",
              "      <th>CHARLIE</th>\n",
              "      <th>DAVID</th>\n",
              "      <th>EDWARD</th>\n",
              "      <th>...</th>\n",
              "      <th>Not Specified</th>\n",
              "      <th>Two or More Races</th>\n",
              "      <th>White</th>\n",
              "      <th>Female</th>\n",
              "      <th>Male</th>\n",
              "      <th>Non-binary</th>\n",
              "      <th>Other</th>\n",
              "      <th>Transgender Female</th>\n",
              "      <th>Transgender Male</th>\n",
              "      <th>Unknown</th>\n",
              "    </tr>\n",
              "  </thead>\n",
              "  <tbody>\n",
              "    <tr>\n",
              "      <th>0</th>\n",
              "      <td>6</td>\n",
              "      <td>1</td>\n",
              "      <td>0</td>\n",
              "      <td>0</td>\n",
              "      <td>0</td>\n",
              "      <td>0</td>\n",
              "      <td>0</td>\n",
              "      <td>1</td>\n",
              "      <td>0</td>\n",
              "      <td>0</td>\n",
              "      <td>...</td>\n",
              "      <td>0</td>\n",
              "      <td>0</td>\n",
              "      <td>0</td>\n",
              "      <td>0</td>\n",
              "      <td>1</td>\n",
              "      <td>0</td>\n",
              "      <td>0</td>\n",
              "      <td>0</td>\n",
              "      <td>0</td>\n",
              "      <td>0</td>\n",
              "    </tr>\n",
              "    <tr>\n",
              "      <th>1</th>\n",
              "      <td>5</td>\n",
              "      <td>1</td>\n",
              "      <td>0</td>\n",
              "      <td>0</td>\n",
              "      <td>0</td>\n",
              "      <td>0</td>\n",
              "      <td>0</td>\n",
              "      <td>0</td>\n",
              "      <td>0</td>\n",
              "      <td>0</td>\n",
              "      <td>...</td>\n",
              "      <td>0</td>\n",
              "      <td>0</td>\n",
              "      <td>1</td>\n",
              "      <td>0</td>\n",
              "      <td>1</td>\n",
              "      <td>0</td>\n",
              "      <td>0</td>\n",
              "      <td>0</td>\n",
              "      <td>0</td>\n",
              "      <td>0</td>\n",
              "    </tr>\n",
              "    <tr>\n",
              "      <th>2</th>\n",
              "      <td>5</td>\n",
              "      <td>0</td>\n",
              "      <td>0</td>\n",
              "      <td>0</td>\n",
              "      <td>0</td>\n",
              "      <td>1</td>\n",
              "      <td>0</td>\n",
              "      <td>0</td>\n",
              "      <td>0</td>\n",
              "      <td>0</td>\n",
              "      <td>...</td>\n",
              "      <td>0</td>\n",
              "      <td>0</td>\n",
              "      <td>0</td>\n",
              "      <td>1</td>\n",
              "      <td>0</td>\n",
              "      <td>0</td>\n",
              "      <td>0</td>\n",
              "      <td>0</td>\n",
              "      <td>0</td>\n",
              "      <td>0</td>\n",
              "    </tr>\n",
              "    <tr>\n",
              "      <th>3</th>\n",
              "      <td>5</td>\n",
              "      <td>1</td>\n",
              "      <td>0</td>\n",
              "      <td>0</td>\n",
              "      <td>0</td>\n",
              "      <td>0</td>\n",
              "      <td>0</td>\n",
              "      <td>0</td>\n",
              "      <td>0</td>\n",
              "      <td>1</td>\n",
              "      <td>...</td>\n",
              "      <td>0</td>\n",
              "      <td>0</td>\n",
              "      <td>0</td>\n",
              "      <td>0</td>\n",
              "      <td>1</td>\n",
              "      <td>0</td>\n",
              "      <td>0</td>\n",
              "      <td>0</td>\n",
              "      <td>0</td>\n",
              "      <td>0</td>\n",
              "    </tr>\n",
              "    <tr>\n",
              "      <th>4</th>\n",
              "      <td>6</td>\n",
              "      <td>0</td>\n",
              "      <td>0</td>\n",
              "      <td>1</td>\n",
              "      <td>0</td>\n",
              "      <td>0</td>\n",
              "      <td>0</td>\n",
              "      <td>0</td>\n",
              "      <td>0</td>\n",
              "      <td>0</td>\n",
              "      <td>...</td>\n",
              "      <td>0</td>\n",
              "      <td>0</td>\n",
              "      <td>0</td>\n",
              "      <td>0</td>\n",
              "      <td>1</td>\n",
              "      <td>0</td>\n",
              "      <td>0</td>\n",
              "      <td>0</td>\n",
              "      <td>0</td>\n",
              "      <td>0</td>\n",
              "    </tr>\n",
              "    <tr>\n",
              "      <th>...</th>\n",
              "      <td>...</td>\n",
              "      <td>...</td>\n",
              "      <td>...</td>\n",
              "      <td>...</td>\n",
              "      <td>...</td>\n",
              "      <td>...</td>\n",
              "      <td>...</td>\n",
              "      <td>...</td>\n",
              "      <td>...</td>\n",
              "      <td>...</td>\n",
              "      <td>...</td>\n",
              "      <td>...</td>\n",
              "      <td>...</td>\n",
              "      <td>...</td>\n",
              "      <td>...</td>\n",
              "      <td>...</td>\n",
              "      <td>...</td>\n",
              "      <td>...</td>\n",
              "      <td>...</td>\n",
              "      <td>...</td>\n",
              "      <td>...</td>\n",
              "    </tr>\n",
              "    <tr>\n",
              "      <th>13995</th>\n",
              "      <td>2</td>\n",
              "      <td>0</td>\n",
              "      <td>0</td>\n",
              "      <td>0</td>\n",
              "      <td>0</td>\n",
              "      <td>1</td>\n",
              "      <td>0</td>\n",
              "      <td>0</td>\n",
              "      <td>1</td>\n",
              "      <td>0</td>\n",
              "      <td>...</td>\n",
              "      <td>0</td>\n",
              "      <td>0</td>\n",
              "      <td>0</td>\n",
              "      <td>1</td>\n",
              "      <td>0</td>\n",
              "      <td>0</td>\n",
              "      <td>0</td>\n",
              "      <td>0</td>\n",
              "      <td>0</td>\n",
              "      <td>0</td>\n",
              "    </tr>\n",
              "    <tr>\n",
              "      <th>13996</th>\n",
              "      <td>1</td>\n",
              "      <td>0</td>\n",
              "      <td>1</td>\n",
              "      <td>0</td>\n",
              "      <td>0</td>\n",
              "      <td>0</td>\n",
              "      <td>0</td>\n",
              "      <td>0</td>\n",
              "      <td>0</td>\n",
              "      <td>0</td>\n",
              "      <td>...</td>\n",
              "      <td>0</td>\n",
              "      <td>0</td>\n",
              "      <td>1</td>\n",
              "      <td>1</td>\n",
              "      <td>0</td>\n",
              "      <td>0</td>\n",
              "      <td>0</td>\n",
              "      <td>0</td>\n",
              "      <td>0</td>\n",
              "      <td>0</td>\n",
              "    </tr>\n",
              "    <tr>\n",
              "      <th>13998</th>\n",
              "      <td>2</td>\n",
              "      <td>0</td>\n",
              "      <td>1</td>\n",
              "      <td>0</td>\n",
              "      <td>0</td>\n",
              "      <td>0</td>\n",
              "      <td>1</td>\n",
              "      <td>0</td>\n",
              "      <td>0</td>\n",
              "      <td>0</td>\n",
              "      <td>...</td>\n",
              "      <td>1</td>\n",
              "      <td>0</td>\n",
              "      <td>0</td>\n",
              "      <td>1</td>\n",
              "      <td>0</td>\n",
              "      <td>0</td>\n",
              "      <td>0</td>\n",
              "      <td>0</td>\n",
              "      <td>0</td>\n",
              "      <td>0</td>\n",
              "    </tr>\n",
              "    <tr>\n",
              "      <th>14004</th>\n",
              "      <td>3</td>\n",
              "      <td>0</td>\n",
              "      <td>0</td>\n",
              "      <td>1</td>\n",
              "      <td>0</td>\n",
              "      <td>0</td>\n",
              "      <td>0</td>\n",
              "      <td>0</td>\n",
              "      <td>0</td>\n",
              "      <td>0</td>\n",
              "      <td>...</td>\n",
              "      <td>1</td>\n",
              "      <td>0</td>\n",
              "      <td>0</td>\n",
              "      <td>0</td>\n",
              "      <td>1</td>\n",
              "      <td>0</td>\n",
              "      <td>0</td>\n",
              "      <td>0</td>\n",
              "      <td>0</td>\n",
              "      <td>0</td>\n",
              "    </tr>\n",
              "    <tr>\n",
              "      <th>14005</th>\n",
              "      <td>2</td>\n",
              "      <td>0</td>\n",
              "      <td>0</td>\n",
              "      <td>1</td>\n",
              "      <td>0</td>\n",
              "      <td>0</td>\n",
              "      <td>0</td>\n",
              "      <td>0</td>\n",
              "      <td>0</td>\n",
              "      <td>0</td>\n",
              "      <td>...</td>\n",
              "      <td>0</td>\n",
              "      <td>0</td>\n",
              "      <td>0</td>\n",
              "      <td>0</td>\n",
              "      <td>1</td>\n",
              "      <td>0</td>\n",
              "      <td>0</td>\n",
              "      <td>0</td>\n",
              "      <td>0</td>\n",
              "      <td>0</td>\n",
              "    </tr>\n",
              "  </tbody>\n",
              "</table>\n",
              "<p>13313 rows × 38 columns</p>\n",
              "</div>\n",
              "      <button class=\"colab-df-convert\" onclick=\"convertToInteractive('df-0b188ac6-31dd-44b9-9db3-44bfddbf23e9')\"\n",
              "              title=\"Convert this dataframe to an interactive table.\"\n",
              "              style=\"display:none;\">\n",
              "        \n",
              "  <svg xmlns=\"http://www.w3.org/2000/svg\" height=\"24px\"viewBox=\"0 0 24 24\"\n",
              "       width=\"24px\">\n",
              "    <path d=\"M0 0h24v24H0V0z\" fill=\"none\"/>\n",
              "    <path d=\"M18.56 5.44l.94 2.06.94-2.06 2.06-.94-2.06-.94-.94-2.06-.94 2.06-2.06.94zm-11 1L8.5 8.5l.94-2.06 2.06-.94-2.06-.94L8.5 2.5l-.94 2.06-2.06.94zm10 10l.94 2.06.94-2.06 2.06-.94-2.06-.94-.94-2.06-.94 2.06-2.06.94z\"/><path d=\"M17.41 7.96l-1.37-1.37c-.4-.4-.92-.59-1.43-.59-.52 0-1.04.2-1.43.59L10.3 9.45l-7.72 7.72c-.78.78-.78 2.05 0 2.83L4 21.41c.39.39.9.59 1.41.59.51 0 1.02-.2 1.41-.59l7.78-7.78 2.81-2.81c.8-.78.8-2.07 0-2.86zM5.41 20L4 18.59l7.72-7.72 1.47 1.35L5.41 20z\"/>\n",
              "  </svg>\n",
              "      </button>\n",
              "      \n",
              "  <style>\n",
              "    .colab-df-container {\n",
              "      display:flex;\n",
              "      flex-wrap:wrap;\n",
              "      gap: 12px;\n",
              "    }\n",
              "\n",
              "    .colab-df-convert {\n",
              "      background-color: #E8F0FE;\n",
              "      border: none;\n",
              "      border-radius: 50%;\n",
              "      cursor: pointer;\n",
              "      display: none;\n",
              "      fill: #1967D2;\n",
              "      height: 32px;\n",
              "      padding: 0 0 0 0;\n",
              "      width: 32px;\n",
              "    }\n",
              "\n",
              "    .colab-df-convert:hover {\n",
              "      background-color: #E2EBFA;\n",
              "      box-shadow: 0px 1px 2px rgba(60, 64, 67, 0.3), 0px 1px 3px 1px rgba(60, 64, 67, 0.15);\n",
              "      fill: #174EA6;\n",
              "    }\n",
              "\n",
              "    [theme=dark] .colab-df-convert {\n",
              "      background-color: #3B4455;\n",
              "      fill: #D2E3FC;\n",
              "    }\n",
              "\n",
              "    [theme=dark] .colab-df-convert:hover {\n",
              "      background-color: #434B5C;\n",
              "      box-shadow: 0px 1px 3px 1px rgba(0, 0, 0, 0.15);\n",
              "      filter: drop-shadow(0px 1px 2px rgba(0, 0, 0, 0.3));\n",
              "      fill: #FFFFFF;\n",
              "    }\n",
              "  </style>\n",
              "\n",
              "      <script>\n",
              "        const buttonEl =\n",
              "          document.querySelector('#df-0b188ac6-31dd-44b9-9db3-44bfddbf23e9 button.colab-df-convert');\n",
              "        buttonEl.style.display =\n",
              "          google.colab.kernel.accessAllowed ? 'block' : 'none';\n",
              "\n",
              "        async function convertToInteractive(key) {\n",
              "          const element = document.querySelector('#df-0b188ac6-31dd-44b9-9db3-44bfddbf23e9');\n",
              "          const dataTable =\n",
              "            await google.colab.kernel.invokeFunction('convertToInteractive',\n",
              "                                                     [key], {});\n",
              "          if (!dataTable) return;\n",
              "\n",
              "          const docLinkHtml = 'Like what you see? Visit the ' +\n",
              "            '<a target=\"_blank\" href=https://colab.research.google.com/notebooks/data_table.ipynb>data table notebook</a>'\n",
              "            + ' to learn more about interactive tables.';\n",
              "          element.innerHTML = '';\n",
              "          dataTable['output_type'] = 'display_data';\n",
              "          await google.colab.output.renderOutput(dataTable, element);\n",
              "          const docLink = document.createElement('div');\n",
              "          docLink.innerHTML = docLinkHtml;\n",
              "          element.appendChild(docLink);\n",
              "        }\n",
              "      </script>\n",
              "    </div>\n",
              "  </div>\n",
              "  "
            ]
          },
          "metadata": {},
          "execution_count": 366
        }
      ]
    },
    {
      "cell_type": "markdown",
      "metadata": {
        "id": "KkWu1zfkHXvV"
      },
      "source": [
        "Antes de implementar o modelo de classificação, vamos observar a distribuição das observações entre os 4 níveis de uso da força policial."
      ]
    },
    {
      "cell_type": "code",
      "execution_count": 367,
      "metadata": {
        "id": "77PbO5tpHXvW",
        "outputId": "ae5051d3-254c-47d5-e3c9-75591878d65b",
        "colab": {
          "base_uri": "https://localhost:8080/",
          "height": 206
        }
      },
      "outputs": [
        {
          "output_type": "execute_result",
          "data": {
            "text/plain": [
              "col_0                   count\n",
              "Incident_Type                \n",
              "Level 1 - Use of Force   9434\n",
              "Level 2 - Use of Force   3665\n",
              "Level 3 - OIS              93\n",
              "Level 3 - Use of Force    121"
            ],
            "text/html": [
              "\n",
              "  <div id=\"df-88688269-56ec-465c-8854-a8085dc677a3\">\n",
              "    <div class=\"colab-df-container\">\n",
              "      <div>\n",
              "<style scoped>\n",
              "    .dataframe tbody tr th:only-of-type {\n",
              "        vertical-align: middle;\n",
              "    }\n",
              "\n",
              "    .dataframe tbody tr th {\n",
              "        vertical-align: top;\n",
              "    }\n",
              "\n",
              "    .dataframe thead th {\n",
              "        text-align: right;\n",
              "    }\n",
              "</style>\n",
              "<table border=\"1\" class=\"dataframe\">\n",
              "  <thead>\n",
              "    <tr style=\"text-align: right;\">\n",
              "      <th>col_0</th>\n",
              "      <th>count</th>\n",
              "    </tr>\n",
              "    <tr>\n",
              "      <th>Incident_Type</th>\n",
              "      <th></th>\n",
              "    </tr>\n",
              "  </thead>\n",
              "  <tbody>\n",
              "    <tr>\n",
              "      <th>Level 1 - Use of Force</th>\n",
              "      <td>9434</td>\n",
              "    </tr>\n",
              "    <tr>\n",
              "      <th>Level 2 - Use of Force</th>\n",
              "      <td>3665</td>\n",
              "    </tr>\n",
              "    <tr>\n",
              "      <th>Level 3 - OIS</th>\n",
              "      <td>93</td>\n",
              "    </tr>\n",
              "    <tr>\n",
              "      <th>Level 3 - Use of Force</th>\n",
              "      <td>121</td>\n",
              "    </tr>\n",
              "  </tbody>\n",
              "</table>\n",
              "</div>\n",
              "      <button class=\"colab-df-convert\" onclick=\"convertToInteractive('df-88688269-56ec-465c-8854-a8085dc677a3')\"\n",
              "              title=\"Convert this dataframe to an interactive table.\"\n",
              "              style=\"display:none;\">\n",
              "        \n",
              "  <svg xmlns=\"http://www.w3.org/2000/svg\" height=\"24px\"viewBox=\"0 0 24 24\"\n",
              "       width=\"24px\">\n",
              "    <path d=\"M0 0h24v24H0V0z\" fill=\"none\"/>\n",
              "    <path d=\"M18.56 5.44l.94 2.06.94-2.06 2.06-.94-2.06-.94-.94-2.06-.94 2.06-2.06.94zm-11 1L8.5 8.5l.94-2.06 2.06-.94-2.06-.94L8.5 2.5l-.94 2.06-2.06.94zm10 10l.94 2.06.94-2.06 2.06-.94-2.06-.94-.94-2.06-.94 2.06-2.06.94z\"/><path d=\"M17.41 7.96l-1.37-1.37c-.4-.4-.92-.59-1.43-.59-.52 0-1.04.2-1.43.59L10.3 9.45l-7.72 7.72c-.78.78-.78 2.05 0 2.83L4 21.41c.39.39.9.59 1.41.59.51 0 1.02-.2 1.41-.59l7.78-7.78 2.81-2.81c.8-.78.8-2.07 0-2.86zM5.41 20L4 18.59l7.72-7.72 1.47 1.35L5.41 20z\"/>\n",
              "  </svg>\n",
              "      </button>\n",
              "      \n",
              "  <style>\n",
              "    .colab-df-container {\n",
              "      display:flex;\n",
              "      flex-wrap:wrap;\n",
              "      gap: 12px;\n",
              "    }\n",
              "\n",
              "    .colab-df-convert {\n",
              "      background-color: #E8F0FE;\n",
              "      border: none;\n",
              "      border-radius: 50%;\n",
              "      cursor: pointer;\n",
              "      display: none;\n",
              "      fill: #1967D2;\n",
              "      height: 32px;\n",
              "      padding: 0 0 0 0;\n",
              "      width: 32px;\n",
              "    }\n",
              "\n",
              "    .colab-df-convert:hover {\n",
              "      background-color: #E2EBFA;\n",
              "      box-shadow: 0px 1px 2px rgba(60, 64, 67, 0.3), 0px 1px 3px 1px rgba(60, 64, 67, 0.15);\n",
              "      fill: #174EA6;\n",
              "    }\n",
              "\n",
              "    [theme=dark] .colab-df-convert {\n",
              "      background-color: #3B4455;\n",
              "      fill: #D2E3FC;\n",
              "    }\n",
              "\n",
              "    [theme=dark] .colab-df-convert:hover {\n",
              "      background-color: #434B5C;\n",
              "      box-shadow: 0px 1px 3px 1px rgba(0, 0, 0, 0.15);\n",
              "      filter: drop-shadow(0px 1px 2px rgba(0, 0, 0, 0.3));\n",
              "      fill: #FFFFFF;\n",
              "    }\n",
              "  </style>\n",
              "\n",
              "      <script>\n",
              "        const buttonEl =\n",
              "          document.querySelector('#df-88688269-56ec-465c-8854-a8085dc677a3 button.colab-df-convert');\n",
              "        buttonEl.style.display =\n",
              "          google.colab.kernel.accessAllowed ? 'block' : 'none';\n",
              "\n",
              "        async function convertToInteractive(key) {\n",
              "          const element = document.querySelector('#df-88688269-56ec-465c-8854-a8085dc677a3');\n",
              "          const dataTable =\n",
              "            await google.colab.kernel.invokeFunction('convertToInteractive',\n",
              "                                                     [key], {});\n",
              "          if (!dataTable) return;\n",
              "\n",
              "          const docLinkHtml = 'Like what you see? Visit the ' +\n",
              "            '<a target=\"_blank\" href=https://colab.research.google.com/notebooks/data_table.ipynb>data table notebook</a>'\n",
              "            + ' to learn more about interactive tables.';\n",
              "          element.innerHTML = '';\n",
              "          dataTable['output_type'] = 'display_data';\n",
              "          await google.colab.output.renderOutput(dataTable, element);\n",
              "          const docLink = document.createElement('div');\n",
              "          docLink.innerHTML = docLinkHtml;\n",
              "          element.appendChild(docLink);\n",
              "        }\n",
              "      </script>\n",
              "    </div>\n",
              "  </div>\n",
              "  "
            ]
          },
          "metadata": {},
          "execution_count": 367
        }
      ],
      "source": [
        "tab = pd.crosstab(index = dados['Incident_Type'], columns='count')\n",
        "tab"
      ]
    },
    {
      "cell_type": "code",
      "execution_count": 368,
      "metadata": {
        "id": "v4buKtA9HXvW",
        "outputId": "c1f836a9-9d29-4a84-ed99-90be82a557d6",
        "colab": {
          "base_uri": "https://localhost:8080/",
          "height": 394
        }
      },
      "outputs": [
        {
          "output_type": "display_data",
          "data": {
            "text/plain": [
              "<Figure size 432x288 with 1 Axes>"
            ],
            "image/png": "[encoded data removed]"
          },
          "metadata": {}
        }
      ],
      "source": [
        "tab.plot.bar()\n",
        "plt.legend(title = 'Ocorrências')\n",
        "plt.show()"
      ]
    },
    {
      "cell_type": "markdown",
      "metadata": {
        "id": "9OligWRtHXvW"
      },
      "source": [
        "A partir do gráfico acima, fica claro que a base de dados está desbalanceada, o que pode interferir no ajuste do modelo de classificação."
      ]
    },
    {
      "cell_type": "code",
      "execution_count": 369,
      "metadata": {
        "id": "MS8aStFdHXvW"
      },
      "outputs": [],
      "source": [
        "#Separação da base de dados em treino (80%) e teste (20%)\n",
        "p = 0.2\n",
        "x_train, x_test, y_train, y_test = train_test_split(X, y, test_size = p)"
      ]
    },
    {
      "cell_type": "markdown",
      "source": [
        "# Vamos agora iniciar a utilização de técnicas clássicas de Aprendizagem de Máquina (no caso aqui vamos: Regressão logística e SVM"
      ],
      "metadata": {
        "id": "9sgamTuu9PPA"
      }
    },
    {
      "cell_type": "code",
      "execution_count": 370,
      "metadata": {
        "id": "EYEJqxEgHXvW"
      },
      "outputs": [],
      "source": [
        "#Regressão logística"
      ]
    },
    {
      "cell_type": "code",
      "execution_count": 371,
      "metadata": {
        "id": "g9GTF0EgHXvW"
      },
      "outputs": [],
      "source": [
        "log_model = LogisticRegression(solver = 'lbfgs', \n",
        "                           multi_class = 'auto', max_iter = 1000)\n",
        "log_model.fit(x_train, y_train)\n",
        "\n",
        "y_pred_log = log_model.predict(x_test)"
      ]
    },
    {
      "cell_type": "code",
      "execution_count": 372,
      "metadata": {
        "id": "MmX0xmMgHXvW",
        "outputId": "f3359876-f3d6-4005-fe3b-b6ab81b8f042",
        "colab": {
          "base_uri": "https://localhost:8080/",
          "height": 0
        }
      },
      "outputs": [
        {
          "output_type": "stream",
          "name": "stdout",
          "text": [
            "Acurácia - Regressão Logística:  0.7146075854299662\n",
            "Acurácia balanceada - Regressão Logística:  0.2838045250017081\n"
          ]
        }
      ],
      "source": [
        "print('Acurácia - Regressão Logística: ', metrics.accuracy_score(y_test, y_pred_log))\n",
        "print('Acurácia balanceada - Regressão Logística: ', metrics.balanced_accuracy_score(y_test, y_pred_log))"
      ]
    },
    {
      "cell_type": "code",
      "execution_count": 373,
      "metadata": {
        "id": "zJ0z-La3HXvW",
        "outputId": "2167ba0c-9f46-4488-c768-8c1e9f050486",
        "colab": {
          "base_uri": "https://localhost:8080/",
          "height": 289
        }
      },
      "outputs": [
        {
          "output_type": "display_data",
          "data": {
            "text/plain": [
              "<Figure size 432x288 with 2 Axes>"
            ],
            "image/png": "[encoded data removed]"
          },
          "metadata": {}
        }
      ],
      "source": [
        "disp = ConfusionMatrixDisplay.from_estimator(log_model, x_test, y_test,\n",
        "                                 cmap=plt.cm.Blues,\n",
        "                                 normalize='true')"
      ]
    },
    {
      "cell_type": "markdown",
      "source": [
        "A acurácia usando regressão logística está calculada acima."
      ],
      "metadata": {
        "id": "kmOw8cg99w4l"
      }
    },
    {
      "cell_type": "code",
      "execution_count": 374,
      "metadata": {
        "id": "YMUwpWFRHXvW"
      },
      "outputs": [],
      "source": [
        "#SVM"
      ]
    },
    {
      "cell_type": "code",
      "execution_count": 375,
      "metadata": {
        "id": "_c6nfc2OHXvX"
      },
      "outputs": [],
      "source": [
        "svc_model = SVC(gamma='auto')\n",
        "svc_model.fit(x_train, y_train)\n",
        "\n",
        "y_pred_svc = svc_model.predict(x_test)"
      ]
    },
    {
      "cell_type": "code",
      "execution_count": 376,
      "metadata": {
        "id": "0Ad-6OWDHXvX",
        "outputId": "650e992a-24c9-429d-a494-6997857654fd",
        "colab": {
          "base_uri": "https://localhost:8080/",
          "height": 0
        }
      },
      "outputs": [
        {
          "output_type": "stream",
          "name": "stdout",
          "text": [
            "Acurácia - SVM:  0.7157341344348479\n",
            "Acurácia balanceada - SVM:  0.2741494009099643\n"
          ]
        }
      ],
      "source": [
        "print('Acurácia - SVM: ', metrics.accuracy_score(y_test, y_pred_svc))\n",
        "print('Acurácia balanceada - SVM: ', metrics.balanced_accuracy_score(y_test, y_pred_svc))"
      ]
    },
    {
      "cell_type": "markdown",
      "source": [
        "A acurácia usando SVM está calculada acima. "
      ],
      "metadata": {
        "id": "wGHyznaa-KyI"
      }
    },
    {
      "cell_type": "code",
      "execution_count": 377,
      "metadata": {
        "id": "bJImB9CBHXvX",
        "outputId": "897862f1-d5b2-4ea4-f499-68042e25c014",
        "colab": {
          "base_uri": "https://localhost:8080/",
          "height": 289
        }
      },
      "outputs": [
        {
          "output_type": "display_data",
          "data": {
            "text/plain": [
              "<Figure size 432x288 with 2 Axes>"
            ],
            "image/png": "[encoded data removed]"
          },
          "metadata": {}
        }
      ],
      "source": [
        "disp = ConfusionMatrixDisplay.from_estimator(svc_model, x_test, y_test,\n",
        "                                 cmap=plt.cm.Blues,\n",
        "                                 normalize='true')"
      ]
    },
    {
      "cell_type": "markdown",
      "source": [
        "Em modelos de machine learning preditivos, o grande objetivo é prever uma resposta futura com base nos preditores passados (campos da sua base de dados que se relacionem com seu alvo resposta).\n",
        "\n",
        "Em uma linguagem simples, podemos dizer que um modelo de machine learning com alto viés “aprendeu pouco” e um modelo com muita variância “aprendeu demais”.\n",
        "\n",
        "Encontrar o equilíbrio entre o Viés e Variância é um processo iterativo, treinando o modelo várias vezes com diferentes combinações de features, hiperparâmetros e com diferentes conjuntos de dados para treinamento.\n",
        "\n",
        "Reduzir o Viés e a Variância é vital para um modelo robusto e de alto desempenho preditivo."
      ],
      "metadata": {
        "id": "PFyTsp6j5n0E"
      }
    },
    {
      "cell_type": "markdown",
      "source": [
        "Analisando o resultado usando-se estes dois algoritmos podemos perceber claramente que a acurácia usando o SVM e regressão logística são acima de 0.72. Porém vale salientar que os dados estão desbalanceados, de tal modo que o algoritmo tende a sempre prever o nível de força policial como Level 1, já que grande parte das ocorrências estão nesse nível. Em outras palavras, podemos logo imaginar que praticamente acertou todas as classes e o modelo está ótimo. Contudo, a maior parte dos acertos vieram da classe majoritária, enviesando o resultado. Entretanto quando utilizamos a acurácia balanceada, no qual é levada em conta os acertos de cada classe de forma igualitária, o valor encontrado é de 0,27. Isto mostra uma valor mais próximo do quanto o modelo consegue acertar cada classe. Em nosso caso para termos uma acurácia melhor, será necessário utilizarmos outras técnicas de balanceamento ou mesmo, acrescentar mais informações ao nosso banco de dados.\n",
        "\n"
      ],
      "metadata": {
        "id": "zsMFFew--nIc"
      }
    },
    {
      "cell_type": "markdown",
      "source": [
        "# Questão 4: Suponha que o modelo elaborado para o item 3 não possuiu acurácia razoável para os propósitos da consultoria. Visando aumentá-la, utilize uma ou mais das seguintes técnicas de Aprendizado de Máquina em uma nova versão do modelo:\n",
        "\n",
        "#a) Aprendizagem Profunda \n",
        "#b) Aumento Artificial de Dados (Data Augmentation)\n",
        "#c) Técnicas de Balanceamento de Dados (ex. SMOTE, under-sampling)\n",
        "\n",
        "#Foi possível melhorar a acurácia do modelo? A que se deve esse fato?"
      ],
      "metadata": {
        "id": "FAPNJtQe_WPU"
      }
    },
    {
      "cell_type": "markdown",
      "source": [
        "vamos aqui usar Técnicas de balanceamento de dados, no caso o Oversampling e Undersampling"
      ],
      "metadata": {
        "id": "P9TFQ2jg_cVM"
      }
    },
    {
      "cell_type": "code",
      "execution_count": null,
      "metadata": {
        "id": "WC7bDFTvHXvX"
      },
      "outputs": [],
      "source": [
        "#Técnicas de balanceamento de dados"
      ]
    },
    {
      "cell_type": "code",
      "execution_count": 378,
      "metadata": {
        "id": "PIB5NIbdHXvX",
        "outputId": "79076bbe-1419-4628-c91c-5ca338d95e2c",
        "colab": {
          "base_uri": "https://localhost:8080/",
          "height": 268
        }
      },
      "outputs": [
        {
          "output_type": "display_data",
          "data": {
            "text/plain": [
              "<Figure size 432x288 with 1 Axes>"
            ],
            "image/png": "[encoded data removed]"
          },
          "metadata": {}
        }
      ],
      "source": [
        "#Oversampling\n",
        "oversamp = over_sampling.SMOTE()\n",
        "Xo, yo = oversamp.fit_resample(X, y)\n",
        "h = plt.hist(yo)"
      ]
    },
    {
      "cell_type": "markdown",
      "source": [
        "Um problema com a classificação desequilibrada é que há poucos exemplos da classe minoritária para que um modelo aprenda efetivamente o \"limite de decisão\".\n",
        "\n",
        "Uma maneira de tentar resolver esse problema é superamostrar os exemplos na classe minoritária. Isso pode ser alcançado simplesmente duplicando exemplos da classe minoritária no conjunto de dados de treinamento antes de ajustar um modelo. Isso pode equilibrar a distribuição de classes, mas não fornece nenhuma informação adicional ao modelo.\n",
        "\n",
        "Uma melhoria na duplicação de exemplos da classe minoritária é sintetizar novos exemplos da classe minoritária. Este é um tipo de aumento de dados para dados tabulares e pode ser muito eficaz.\n",
        "\n",
        "Talvez a abordagem mais amplamente usada para sintetizar novos exemplos seja chamada de (Synthetic Minority Over-sampling Technique) SMOTE ."
      ],
      "metadata": {
        "id": "ls6SzbcgAMCf"
      }
    },
    {
      "cell_type": "code",
      "execution_count": 379,
      "metadata": {
        "id": "EDfuzBjBHXvX"
      },
      "outputs": [],
      "source": [
        "x_train_ov, x_test_ov, y_train_ov, y_test_ov = train_test_split(Xo, yo, test_size = p)"
      ]
    },
    {
      "cell_type": "code",
      "execution_count": 380,
      "metadata": {
        "id": "PqYZCuRrHXvX"
      },
      "outputs": [],
      "source": [
        "svc_model_ov = SVC(gamma='auto')\n",
        "svc_model_ov.fit(x_train_ov, y_train_ov)\n",
        "\n",
        "y_pred_svc_ov = svc_model_ov.predict(x_test_ov)"
      ]
    },
    {
      "cell_type": "code",
      "execution_count": 382,
      "metadata": {
        "id": "9mqJTOi0HXvX",
        "outputId": "6eeab652-2aba-4c58-a61e-0e69098ad6ff",
        "colab": {
          "base_uri": "https://localhost:8080/",
          "height": 0
        }
      },
      "outputs": [
        {
          "output_type": "stream",
          "name": "stdout",
          "text": [
            "Acurácia - SVM com oversampling:  0.6997880233174351\n",
            "Acurácia balanceada - SVM com oversampling:  0.6983765942706102\n"
          ]
        }
      ],
      "source": [
        "print('Acurácia - SVM com oversampling: ', metrics.accuracy_score(y_test_ov, y_pred_svc_ov))\n",
        "print('Acurácia balanceada - SVM com oversampling: ', metrics.balanced_accuracy_score(y_test_ov, y_pred_svc_ov))"
      ]
    },
    {
      "cell_type": "code",
      "execution_count": 383,
      "metadata": {
        "id": "ai8_4EJvHXvX",
        "outputId": "f3810c24-9b61-4362-a697-3969fa60e249",
        "colab": {
          "base_uri": "https://localhost:8080/",
          "height": 285
        }
      },
      "outputs": [
        {
          "output_type": "display_data",
          "data": {
            "text/plain": [
              "<Figure size 432x288 with 2 Axes>"
            ],
            "image/png": "[encoded data removed]"
          },
          "metadata": {}
        }
      ],
      "source": [
        "disp = ConfusionMatrixDisplay.from_estimator(svc_model_ov, x_test_ov, y_test_ov,\n",
        "                                 cmap=plt.cm.Blues,\n",
        "                                 normalize='true')"
      ]
    },
    {
      "cell_type": "markdown",
      "source": [
        "Embora os dados estejam mais balanceados, a acurácia do modelo não aumentou, porém diminuiu pouca coisa."
      ],
      "metadata": {
        "id": "Xt7mTRGJFGVy"
      }
    },
    {
      "cell_type": "code",
      "execution_count": 384,
      "metadata": {
        "id": "E0JvRZzvHXvX",
        "outputId": "380f3a12-88b2-4ee9-b52b-85abc12633cb",
        "colab": {
          "base_uri": "https://localhost:8080/",
          "height": 268
        }
      },
      "outputs": [
        {
          "output_type": "display_data",
          "data": {
            "text/plain": [
              "<Figure size 432x288 with 1 Axes>"
            ],
            "image/png": "[encoded data removed]"
          },
          "metadata": {}
        }
      ],
      "source": [
        "#Undersampling\n",
        "undersamp = under_sampling.RandomUnderSampler()\n",
        "Xu, yu = undersamp.fit_resample(X, y)\n",
        "h = plt.hist(yu)"
      ]
    },
    {
      "cell_type": "code",
      "execution_count": 385,
      "metadata": {
        "id": "HqSLlUPrHXvY"
      },
      "outputs": [],
      "source": [
        "x_train_ud, x_test_ud, y_train_ud, y_test_ud = train_test_split(Xu, yu, test_size = p)"
      ]
    },
    {
      "cell_type": "code",
      "execution_count": 386,
      "metadata": {
        "id": "GeCj6H-dHXvY"
      },
      "outputs": [],
      "source": [
        "svc_model_ud = SVC(gamma='auto')\n",
        "svc_model_ud.fit(x_train_ud, y_train_ud)\n",
        "\n",
        "y_pred_svc_ud = svc_model_ud.predict(x_test_ud)"
      ]
    },
    {
      "cell_type": "code",
      "execution_count": 387,
      "metadata": {
        "id": "2MJEV_luHXvY",
        "outputId": "0c5cbe64-e8a6-48d2-9117-e75b9d8faa36",
        "colab": {
          "base_uri": "https://localhost:8080/",
          "height": 0
        }
      },
      "outputs": [
        {
          "output_type": "stream",
          "name": "stdout",
          "text": [
            "Acurácia - SVM com undersampling:  0.38666666666666666\n",
            "Acurácia balanceada - SVM com undersampling:  0.40688697267644636\n"
          ]
        }
      ],
      "source": [
        "print('Acurácia - SVM com undersampling: ', metrics.accuracy_score(y_test_ud, y_pred_svc_ud))\n",
        "print('Acurácia balanceada - SVM com undersampling: ', metrics.balanced_accuracy_score(y_test_ud, y_pred_svc_ud))"
      ]
    },
    {
      "cell_type": "code",
      "execution_count": 388,
      "metadata": {
        "id": "qv_F5OVTHXvY",
        "outputId": "702fee39-935c-4d68-e6b6-79f542fab62d",
        "colab": {
          "base_uri": "https://localhost:8080/",
          "height": 285
        }
      },
      "outputs": [
        {
          "output_type": "display_data",
          "data": {
            "text/plain": [
              "<Figure size 432x288 with 2 Axes>"
            ],
            "image/png": "[encoded data removed]"
          },
          "metadata": {}
        }
      ],
      "source": [
        "disp = ConfusionMatrixDisplay.from_estimator(svc_model_ud, x_test_ud, y_test_ud,\n",
        "                                 cmap=plt.cm.Blues,\n",
        "                                 normalize='true')"
      ]
    },
    {
      "cell_type": "markdown",
      "source": [
        "Algumas explicações para a baixa acurácia são (i) as variáveis explicativas utilizadas não são suficientes para explicar a variabilidade no uso da força policial - nesse caso, seria necessário incluir novas variáveis a partir de bases de dados complementares; (ii) a quantidade de dados disponível não é suficiente para treinar o modelo de classificação, que não captura adequadamente o padrão de variabilidade do nível de uso da força policial."
      ],
      "metadata": {
        "id": "2hEe_8C23WuV"
      }
    }
  ]
}